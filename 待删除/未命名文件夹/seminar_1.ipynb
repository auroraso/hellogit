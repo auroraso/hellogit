{
 "cells": [
  {
   "cell_type": "code",
   "execution_count": null,
   "metadata": {},
   "outputs": [],
   "source": [
    "import pandas as pd\n",
    "import numpy as np"
   ]
  },
  {
   "cell_type": "code",
   "execution_count": null,
   "metadata": {},
   "outputs": [],
   "source": [
    "# 第一部分——基础简介"
   ]
  },
  {
   "cell_type": "code",
   "execution_count": null,
   "metadata": {},
   "outputs": [],
   "source": [
    "#变量的赋值以及显示\n",
    "#python中一切皆为对象，可以对任何对象进行操作\n",
    "pv = 22\n",
    "pv + 2"
   ]
  },
  {
   "cell_type": "code",
   "execution_count": null,
   "metadata": {},
   "outputs": [],
   "source": [
    "pv"
   ]
  },
  {
   "cell_type": "code",
   "execution_count": null,
   "metadata": {},
   "outputs": [],
   "source": [
    "sqrt(3)#由于sqrt是math包里的函数，因此必须要引用此函数，要不然会报错"
   ]
  },
  {
   "cell_type": "code",
   "execution_count": null,
   "metadata": {},
   "outputs": [],
   "source": [
    "import math\n",
    "math.sqrt(3)"
   ]
  },
  {
   "cell_type": "code",
   "execution_count": null,
   "metadata": {},
   "outputs": [],
   "source": [
    "#不能调用没有赋值的变量\n",
    "abd"
   ]
  },
  {
   "cell_type": "code",
   "execution_count": null,
   "metadata": {},
   "outputs": [],
   "source": [
    "#查找已经使用的变量和函数\n",
    "dir()\n",
    "# dir(math)\n",
    "# dir('')#列出所有的字符串函数"
   ]
  },
  {
   "cell_type": "code",
   "execution_count": null,
   "metadata": {},
   "outputs": [],
   "source": [
    "#删除变量\n",
    "pv"
   ]
  },
  {
   "cell_type": "code",
   "execution_count": null,
   "metadata": {},
   "outputs": [],
   "source": [
    "del pv"
   ]
  },
  {
   "cell_type": "code",
   "execution_count": null,
   "metadata": {},
   "outputs": [],
   "source": [
    "#加减乘除运算+,-,*,除法比较特别\n",
    "7/3"
   ]
  },
  {
   "cell_type": "code",
   "execution_count": null,
   "metadata": {},
   "outputs": [],
   "source": [
    "7//3#取整"
   ]
  },
  {
   "cell_type": "code",
   "execution_count": null,
   "metadata": {},
   "outputs": [],
   "source": [
    "7%3#取余"
   ]
  },
  {
   "cell_type": "code",
   "execution_count": null,
   "metadata": {},
   "outputs": [],
   "source": [
    "7**3#幂函数"
   ]
  },
  {
   "cell_type": "code",
   "execution_count": null,
   "metadata": {},
   "outputs": [],
   "source": [
    "pow(7, 3)#幂函数"
   ]
  },
  {
   "cell_type": "code",
   "execution_count": null,
   "metadata": {},
   "outputs": [],
   "source": [
    "pow(7, 3, 4)#幂函数之后再取余数"
   ]
  },
  {
   "cell_type": "code",
   "execution_count": null,
   "metadata": {},
   "outputs": [],
   "source": [
    "help(pow)"
   ]
  },
  {
   "cell_type": "code",
   "execution_count": null,
   "metadata": {},
   "outputs": [],
   "source": [
    "payment = 3 / 7"
   ]
  },
  {
   "cell_type": "code",
   "execution_count": null,
   "metadata": {},
   "outputs": [],
   "source": [
    "payment"
   ]
  },
  {
   "cell_type": "code",
   "execution_count": null,
   "metadata": {},
   "outputs": [],
   "source": [
    "#保留小数\n",
    "round(payment, 3)"
   ]
  },
  {
   "cell_type": "code",
   "execution_count": null,
   "metadata": {},
   "outputs": [],
   "source": [
    "#派，e，对数，指数函数\n",
    "math.pi"
   ]
  },
  {
   "cell_type": "code",
   "execution_count": null,
   "metadata": {},
   "outputs": [],
   "source": [
    "math.e"
   ]
  },
  {
   "cell_type": "code",
   "execution_count": null,
   "metadata": {},
   "outputs": [],
   "source": [
    "math.exp(2.2)#e的2.2次幂"
   ]
  },
  {
   "cell_type": "code",
   "execution_count": null,
   "metadata": {},
   "outputs": [],
   "source": [
    "#以e为底\n",
    "math.log(math.e)"
   ]
  },
  {
   "cell_type": "code",
   "execution_count": null,
   "metadata": {},
   "outputs": [],
   "source": [
    "math.log10(10)"
   ]
  },
  {
   "cell_type": "code",
   "execution_count": null,
   "metadata": {},
   "outputs": [],
   "source": [
    "#from ** import *和import **区别\n",
    "from math import *\n",
    "sqrt(3)"
   ]
  },
  {
   "cell_type": "code",
   "execution_count": null,
   "metadata": {},
   "outputs": [],
   "source": [
    "pi"
   ]
  },
  {
   "cell_type": "code",
   "execution_count": null,
   "metadata": {},
   "outputs": [],
   "source": [
    "dir()\n",
    "#尽管很方便，但是有一个弊端，就是不能再给e或者pi赋值，如果赋值，那么就会发生改变"
   ]
  },
  {
   "cell_type": "code",
   "execution_count": null,
   "metadata": {},
   "outputs": [],
   "source": [
    "pi = 3\n",
    "pi"
   ]
  },
  {
   "cell_type": "code",
   "execution_count": null,
   "metadata": {},
   "outputs": [],
   "source": [
    "type(2.7)"
   ]
  },
  {
   "cell_type": "code",
   "execution_count": null,
   "metadata": {},
   "outputs": [],
   "source": [
    "type(np.array([[1, 2, 3],\n",
    "             [2, 3, 4]]))"
   ]
  },
  {
   "cell_type": "code",
   "execution_count": null,
   "metadata": {},
   "outputs": [],
   "source": [
    "9+7"
   ]
  },
  {
   "cell_type": "code",
   "execution_count": null,
   "metadata": {},
   "outputs": [],
   "source": [
    "#下划线表示上一个结果，不过我感觉不是很常用\n",
    "4 + _"
   ]
  },
  {
   "cell_type": "code",
   "execution_count": null,
   "metadata": {},
   "outputs": [],
   "source": [
    "#两个字符串的结合\n",
    "x = 'This'\n",
    "y = 'is'\n",
    "x + ' ' + y"
   ]
  },
  {
   "cell_type": "code",
   "execution_count": null,
   "metadata": {},
   "outputs": [],
   "source": [
    "#小写变为大写\n",
    "z = _\n",
    "z\n",
    "# z.upper()"
   ]
  },
  {
   "cell_type": "code",
   "execution_count": null,
   "metadata": {},
   "outputs": [],
   "source": [
    "z = ' ' + z + ' '\n",
    "z"
   ]
  },
  {
   "cell_type": "code",
   "execution_count": null,
   "metadata": {},
   "outputs": [],
   "source": [
    "#strip()函数可以删除字符串开头和结尾的空格\n",
    "z.strip()"
   ]
  },
  {
   "cell_type": "code",
   "execution_count": null,
   "metadata": {},
   "outputs": [],
   "source": [
    "#元组数据类型(tuple)，特征是圆括号和逗号\n",
    "x = ('john', 21)\n",
    "type(x)"
   ]
  },
  {
   "cell_type": "code",
   "execution_count": null,
   "metadata": {},
   "outputs": [],
   "source": [
    "len(x)#查看该元组有几个数据项"
   ]
  },
  {
   "cell_type": "code",
   "execution_count": null,
   "metadata": {},
   "outputs": [],
   "source": [
    "x[0]"
   ]
  },
  {
   "cell_type": "code",
   "execution_count": null,
   "metadata": {},
   "outputs": [],
   "source": [
    "type(x[1])"
   ]
  },
  {
   "cell_type": "code",
   "execution_count": null,
   "metadata": {},
   "outputs": [],
   "source": [
    "#定义元组（0个或1个数据）\n",
    "z = ()\n",
    "type(z)"
   ]
  },
  {
   "cell_type": "code",
   "execution_count": null,
   "metadata": {},
   "outputs": [],
   "source": [
    "y = (1, )\n",
    "type(y)"
   ]
  },
  {
   "cell_type": "code",
   "execution_count": null,
   "metadata": {},
   "outputs": [],
   "source": [
    "#元组内的值无法更改，是元组最重要的特征，之后会讲到list\n",
    "inv = ('npv', 100, 'R', 20)\n",
    "inv[1] = 200"
   ]
  },
  {
   "cell_type": "code",
   "execution_count": null,
   "metadata": {},
   "outputs": [],
   "source": [
    "#介绍了一些基本概念和常用的python内置函数，如赋值、数值精度、加、减、乘、除、幂函数等运算"
   ]
  },
  {
   "cell_type": "code",
   "execution_count": null,
   "metadata": {},
   "outputs": [],
   "source": [
    "#编写函数(注意缩进问题)\n",
    "def pv_f(fv, r, n):\n",
    "    return fv/(1 + r) ** n"
   ]
  },
  {
   "cell_type": "code",
   "execution_count": null,
   "metadata": {},
   "outputs": [],
   "source": [
    "dir()#检查函数是否存在\n",
    "# pv_f(100, 0.1, 5)"
   ]
  },
  {
   "cell_type": "code",
   "execution_count": null,
   "metadata": {},
   "outputs": [],
   "source": [
    "#如果想要把自己做的函数存起来，该怎么做\n",
    "#如果还有一个函数，都放在一起该怎么做\n",
    "def pv_perpetuity(c, r):\n",
    "    '''\n",
    "    一个永息债券\n",
    "    '''\n",
    "    return c/r\n",
    "from test01 import pv_f"
   ]
  },
  {
   "cell_type": "code",
   "execution_count": null,
   "metadata": {},
   "outputs": [],
   "source": [
    "#关于注释的方法：两种\n",
    "#第一种\n",
    "'''\n",
    "第二种\n",
    "可以多行注释\n",
    "使用pycharm编写函数时，在多行注释上可以有些快捷操作\n",
    "'''"
   ]
  },
  {
   "cell_type": "code",
   "execution_count": null,
   "metadata": {},
   "outputs": [],
   "source": [
    "# 条件函数：if()\n",
    "# 计算增长型永久年金的现值\n",
    "# pv = c/(R-g),R为每期折现率，g是恒定的每期增长率，该式子成立的一个必要条件是，折现率大于增长率，即R>g，这个条件可以考虑用if条件来实现\n",
    "def pv_growing_perpetuity(c, r, g):\n",
    "    if(r < g):\n",
    "        print('r<g !!!')\n",
    "    else:\n",
    "        return(c / (r - g))"
   ]
  },
  {
   "cell_type": "code",
   "execution_count": null,
   "metadata": {},
   "outputs": [],
   "source": [
    "pv_growing_perpetuity(10, 0.1, 0.08)\n",
    "# pv_growing_perpetuity(10, 0.1, 0.18)"
   ]
  },
  {
   "cell_type": "code",
   "execution_count": null,
   "metadata": {},
   "outputs": [],
   "source": [
    "#利率互换，见ppt\n",
    "(1 + 0.05/2)**2 - 1"
   ]
  },
  {
   "cell_type": "code",
   "execution_count": null,
   "metadata": {},
   "outputs": [],
   "source": [
    "(1 + 0.051/4)**4 - 1"
   ]
  },
  {
   "cell_type": "code",
   "execution_count": null,
   "metadata": {},
   "outputs": [],
   "source": [
    "#连续复利利率（PPT）\n",
    "2*log(1+0.05/2)"
   ]
  },
  {
   "cell_type": "code",
   "execution_count": null,
   "metadata": {},
   "outputs": [],
   "source": [
    "#数据类型：列表，用[]来定义，可以容纳不同类型的数据，并且数据可以进行更改，和元组不同\n",
    "record = ['john', 1, 'EN']\n",
    "record"
   ]
  },
  {
   "cell_type": "code",
   "execution_count": null,
   "metadata": {},
   "outputs": [],
   "source": [
    "record[0] = 2\n",
    "record"
   ]
  },
  {
   "cell_type": "code",
   "execution_count": null,
   "metadata": {},
   "outputs": [],
   "source": [
    "record[1:]\n",
    "# record[:2]\n",
    "# record[::-1]"
   ]
  },
  {
   "cell_type": "code",
   "execution_count": null,
   "metadata": {},
   "outputs": [],
   "source": [
    "#净现值的计算，PPT\n",
    "def npv_f(rate, cashflows):\n",
    "    total = 0.0\n",
    "    for i, cashflow in enumerate(cashflows):\n",
    "        total += cashflow / (1 + rate)**i\n",
    "    return total"
   ]
  },
  {
   "cell_type": "code",
   "execution_count": null,
   "metadata": {},
   "outputs": [],
   "source": [
    "#关于enumerate()遍历函数\n",
    "for i in range (10):\n",
    "    print(i)\n",
    "# for m, n in enumerate(range(10)):\n",
    "#     print(m, n)"
   ]
  },
  {
   "cell_type": "code",
   "execution_count": null,
   "metadata": {},
   "outputs": [],
   "source": [
    "r = 0.05\n",
    "cashflows = [-100, 20, 40, 50, 20, 10]\n",
    "npv_f(r, cashflows)"
   ]
  },
  {
   "cell_type": "code",
   "execution_count": null,
   "metadata": {},
   "outputs": [],
   "source": [
    "#内部收益率,PPT\n",
    "def IRR_f(cashflows, iterations=100):\n",
    "    rate = 1.0\n",
    "    investment = cashflows[0]\n",
    "    for i in range(1, iterations+1):\n",
    "        rate*=(1-npv_f(rate, cashflows) / investment)\n",
    "    return rate"
   ]
  },
  {
   "cell_type": "code",
   "execution_count": null,
   "metadata": {},
   "outputs": [],
   "source": [
    "IRR_f(cashflows)"
   ]
  },
  {
   "cell_type": "code",
   "execution_count": null,
   "metadata": {},
   "outputs": [],
   "source": [
    "#计算看涨期权价格\n",
    "from math import *\n",
    "def CND(X):\n",
    "  (a1,a2,a3,a4,a5)=(0.31938153,-0.356563782,1.781477937,-1.821255978,1.330274429)\n",
    "  L = abs(X)\n",
    "  K=1.0/(1.0+0.2316419*L)\n",
    "  w=1.0-1.0/sqrt(2*pi)*exp(-L*L/2.)*(a1*K+a2*K*K+a3*pow(K,3)+a4*pow(K,4)+a5*pow(K,5))\n",
    "  if X<0:\n",
    "       w = 1.0-w\n",
    "  return w\n",
    "#CND是一个计算累积正态分布的函数，之后可以使用scipy包来改进\n",
    "\n",
    "def bs_call(S,X,T,r,sigma):\n",
    "    d1 = (log(S/X)+(r+sigma*sigma/2.)*T)/(sigma*sqrt(T))\n",
    "    d2 = d1-sigma*sqrt(T)\n",
    "    return S*CND(d1)-X*exp(-r*T)*CND(d2)"
   ]
  },
  {
   "cell_type": "code",
   "execution_count": null,
   "metadata": {},
   "outputs": [],
   "source": [
    "bs_call(40, 42, 0.5, 0.1, 0.2)"
   ]
  },
  {
   "cell_type": "code",
   "execution_count": null,
   "metadata": {},
   "outputs": [],
   "source": [
    "#第二部分——模块简介\n",
    "#重启\n",
    "# PPT"
   ]
  },
  {
   "cell_type": "code",
   "execution_count": null,
   "metadata": {},
   "outputs": [],
   "source": [
    "#引入模块：import ...\n",
    "# 模块只有安装了才可以通过import 来使用\n",
    "# 查看内置函数的方法\n",
    "dir(__builtins__)#这些都是不需要引入模块就可以直接使用的函数"
   ]
  },
  {
   "cell_type": "code",
   "execution_count": null,
   "metadata": {},
   "outputs": [],
   "source": [
    "# 为导入的模块取个简称，之后就可以使用简称来调用该模块中的制定函数\n",
    "import time as tt\n",
    "tt.localtime()"
   ]
  },
  {
   "cell_type": "code",
   "execution_count": null,
   "metadata": {},
   "outputs": [],
   "source": [
    "# 显示模块里的所有函数\n",
    "dir(tt)"
   ]
  },
  {
   "cell_type": "code",
   "execution_count": null,
   "metadata": {},
   "outputs": [],
   "source": [
    "# 删除已经导入的模块\n",
    "dir()\n",
    "# del tt\n",
    "# dir()"
   ]
  },
  {
   "cell_type": "code",
   "execution_count": null,
   "metadata": {},
   "outputs": [],
   "source": [
    "tt.localtime()"
   ]
  },
  {
   "cell_type": "code",
   "execution_count": null,
   "metadata": {},
   "outputs": [],
   "source": [
    "# 但是\n",
    "from math import *"
   ]
  },
  {
   "cell_type": "code",
   "execution_count": null,
   "metadata": {},
   "outputs": [],
   "source": [
    "del math"
   ]
  },
  {
   "cell_type": "code",
   "execution_count": null,
   "metadata": {},
   "outputs": [],
   "source": [
    "sqrt(3)"
   ]
  },
  {
   "cell_type": "code",
   "execution_count": null,
   "metadata": {},
   "outputs": [],
   "source": [
    "#必须单独删除各个函数\n",
    "del sqrt"
   ]
  },
  {
   "cell_type": "code",
   "execution_count": null,
   "metadata": {},
   "outputs": [],
   "source": [
    "sqrt(3)"
   ]
  },
  {
   "cell_type": "code",
   "execution_count": null,
   "metadata": {},
   "outputs": [],
   "source": [
    "# 如果只需要一个模块中固定的几个函数，可以只导入固定的几个函数\n",
    "from math import log, exp, sqrt\n",
    "round(exp(2), 4)"
   ]
  },
  {
   "cell_type": "code",
   "execution_count": null,
   "metadata": {},
   "outputs": [],
   "source": [
    "# 查看某个模块是否安装，运行时间较长\n",
    "help()#之后输入想要查找的模块，输入modules和该模块的名字，如matplotlib，如果安装了就会出现相关的信息，如果没有就会出错"
   ]
  },
  {
   "cell_type": "code",
   "execution_count": null,
   "metadata": {},
   "outputs": [],
   "source": [
    "# 找到一个已安装的的模块的目录位置\n",
    "import numpy as np\n",
    "np\n",
    "# 如果不小心建立了一些模块，可以通过这个方法找到路径然后进行修改和调试"
   ]
  },
  {
   "cell_type": "code",
   "execution_count": null,
   "metadata": {},
   "outputs": [],
   "source": [
    "# 安装额外的模块\n",
    "# pip install --pandas\n",
    "# pip install --upgrade pandas\n",
    "# https://pypi.org 可以搜索了解相关模块的更新和介绍\n",
    "# anaconda是一个很好用的工具，附带了常用的模块"
   ]
  },
  {
   "cell_type": "code",
   "execution_count": null,
   "metadata": {},
   "outputs": [],
   "source": [
    "# numpy介绍\n",
    "# 重启\n",
    "import numpy as np\n",
    "import scipy as sp"
   ]
  },
  {
   "cell_type": "code",
   "execution_count": null,
   "metadata": {},
   "outputs": [],
   "source": [
    "x = np.array([[1,2,3], [4,5,6]])    # 2 by 3 matrix\n",
    "# 关于np.array,PPT\n",
    "x"
   ]
  },
  {
   "cell_type": "code",
   "execution_count": null,
   "metadata": {},
   "outputs": [],
   "source": [
    "np.size(x)          # 含有多少个数据"
   ]
  },
  {
   "cell_type": "code",
   "execution_count": null,
   "metadata": {},
   "outputs": [],
   "source": [
    "np.size(x, 1)         # 含有多少列（1代表列，0代表行）    2 by 3 matrix\n",
    "# np.size(x, 0)"
   ]
  },
  {
   "cell_type": "code",
   "execution_count": null,
   "metadata": {},
   "outputs": [],
   "source": [
    "np.std(x) #注意这个计算的是所有数据的标准差，所以只有一个\n",
    "np.std(x,1)#这个计算的是的标准差，所以只有一个"
   ]
  },
  {
   "cell_type": "code",
   "execution_count": null,
   "metadata": {},
   "outputs": [],
   "source": [
    "#关于计算都是看的方向，而合并等操作是看的行还是列\n",
    "total=x.sum() \n",
    "total_1=x.sum(1)\n",
    "total_0=x.sum(0)\n",
    "print(total)\n",
    "print(total_1)\n",
    "print(total_0)"
   ]
  },
  {
   "cell_type": "code",
   "execution_count": null,
   "metadata": {},
   "outputs": [],
   "source": [
    "# 关于产生随机数\n",
    "z=np.random.rand(10)    # 10 random obs from [0,1], float\n",
    "print(z)\n",
    "y=np.random.normal(size=100)   # from standard normal\n",
    "print(y)\n",
    "r=np.array(range(0,100))/100  # from 0, .10,to .99\n",
    "print(r)"
   ]
  },
  {
   "cell_type": "code",
   "execution_count": null,
   "metadata": {},
   "outputs": [],
   "source": [
    "# 关于array中数据类型\n",
    "x1=[1,2,3,20]\n",
    "y1=np.array(x1,dtype=float)\n",
    "print(y1)\n",
    "\n",
    "x2=[1,2,3,\"good\"]\n",
    "y2=np.array(x2,float)\n",
    "print(y2)"
   ]
  },
  {
   "cell_type": "code",
   "execution_count": null,
   "metadata": {},
   "outputs": [],
   "source": [
    "# scipy介绍\n",
    "import scipy as sp"
   ]
  },
  {
   "cell_type": "code",
   "execution_count": null,
   "metadata": {},
   "outputs": [],
   "source": [
    "cashflows=[50,40,20,10,50]\n",
    "x=sp.npv(0.1,cashflows)   #estimate NPV（净现值），第一个参数是折现率，第二个参数是现金流的数组，是个list\n",
    "print(round(x,2))"
   ]
  },
  {
   "cell_type": "code",
   "execution_count": null,
   "metadata": {},
   "outputs": [],
   "source": [
    "c=[100]\n",
    "print(sp.npv(0.1,c))#说明scipy中NPV的计算第一笔是期初金额"
   ]
  },
  {
   "cell_type": "code",
   "execution_count": null,
   "metadata": {},
   "outputs": [],
   "source": [
    "cashflows1=[-100,50,40,20,10,50]\n",
    "x1=sp.npv(0.1,cashflows1)   #estimate NPV\n",
    "print(round(x1,2))"
   ]
  },
  {
   "cell_type": "code",
   "execution_count": null,
   "metadata": {},
   "outputs": [],
   "source": [
    "# 关于payment计算，PPT\n",
    "sp.pmt#可以查看具体参数"
   ]
  },
  {
   "cell_type": "code",
   "execution_count": null,
   "metadata": {},
   "outputs": [],
   "source": [
    "payment=sp.pmt(rate= 0.045/12, nper= 30*12, pv= 250000)\n",
    "print(round(payment,2))"
   ]
  },
  {
   "cell_type": "code",
   "execution_count": null,
   "metadata": {},
   "outputs": [],
   "source": [
    "#pv（现值）计算\n",
    "pv1=sp.pv(rate= 0.1, nper= 5, pmt=0, fv= 100)  # pv of one future cash flow\n",
    "print(round(pv1,2))\n",
    "\n",
    "pv2=sp.pv(rate= 0.1, nper=5, pmt= 100)    # pv of annuity\n",
    "print(round(pv2,2))"
   ]
  },
  {
   "cell_type": "code",
   "execution_count": null,
   "metadata": {},
   "outputs": [],
   "source": [
    "sp.fv#和pv类似，就不举例子了"
   ]
  },
  {
   "cell_type": "code",
   "execution_count": null,
   "metadata": {},
   "outputs": [],
   "source": [
    "# 关于计算均值，PPT"
   ]
  },
  {
   "cell_type": "code",
   "execution_count": null,
   "metadata": {},
   "outputs": [],
   "source": [
    "# 假设a，b，c三个数，分别为2, 3, 4\n",
    "print((2+3+4)/3)           # 算数平均\n",
    "geo_mean=(2*3*4)**(1./3)   # 几何平均\n",
    "print(round(geo_mean,4))"
   ]
  },
  {
   "cell_type": "code",
   "execution_count": null,
   "metadata": {},
   "outputs": [],
   "source": [
    "# 计算收益率时\n",
    "# sp.prod()函数计算所有数据项的乘积\n",
    "ret=sp.array([0.1,0.05,-0.02])\n",
    "m1=sp.mean(ret)   # atithmetic mean\n",
    "print(m1)\n",
    "m2=pow(sp.prod(ret + 1),1./len(ret))-1   # geometric mean\n",
    "print(m2)"
   ]
  },
  {
   "cell_type": "code",
   "execution_count": null,
   "metadata": {},
   "outputs": [],
   "source": [
    "# 两个比较有用的函数：sp.unique()和sp.median()\n",
    "r1=sp.unique([2,3,4,6,6,4,4])\n",
    "print(r1)\n",
    "r2=sp.median([1,2,3,4,5])\n",
    "print(r2)"
   ]
  },
  {
   "cell_type": "code",
   "execution_count": null,
   "metadata": {},
   "outputs": [],
   "source": [
    "#显示numpy模块里的所有函数\n",
    "import numpy as np\n",
    "print(dir(np))"
   ]
  },
  {
   "cell_type": "code",
   "execution_count": null,
   "metadata": {},
   "outputs": [],
   "source": [
    "x=np.array(dir(np))\n",
    "print(len(x))      # showing the length of the array\n",
    "print(x[200:210])  # showing 10 lines starting from 200"
   ]
  },
  {
   "cell_type": "code",
   "execution_count": null,
   "metadata": {},
   "outputs": [],
   "source": [
    "# 同样可以应用到scipy模块\n",
    "print(dir(sp))"
   ]
  },
  {
   "cell_type": "code",
   "execution_count": null,
   "metadata": {},
   "outputs": [],
   "source": [
    "# 想要查找一个函数的信息时\n",
    "help(np.std)"
   ]
  },
  {
   "cell_type": "code",
   "execution_count": null,
   "metadata": {},
   "outputs": [],
   "source": [
    "# 定义一个list，list可以更改数据项，而且可以包含不同类型的数据\n",
    "x=[1,2,'John','M',\"Student\"]\n",
    "print(type(x))"
   ]
  },
  {
   "cell_type": "code",
   "execution_count": null,
   "metadata": {},
   "outputs": [],
   "source": [
    "# 调用不同数据项的方法\n",
    "print(x)\n",
    "print(x[1])\n",
    "print(x[2:])"
   ]
  },
  {
   "cell_type": "code",
   "execution_count": null,
   "metadata": {},
   "outputs": [],
   "source": [
    "# 修改数据\n",
    "x[1]= 10\n",
    "x"
   ]
  },
  {
   "cell_type": "code",
   "execution_count": null,
   "metadata": {},
   "outputs": [],
   "source": [
    "# 关于list差集并集\n",
    "cc1 = ['a', 'b', 'c']\n",
    "cc2 = ['a', 'b', 'd']\n",
    "list(set(cc1) ^ set(cc2))#差集\n",
    "# list(set(cc1).union(set(cc2)))#并集\n",
    "# list(set(cc1).union(set(cc2)) ^ (set(cc1) ^ set(cc2)))#交集，即是两个集合的并集和差集的差集"
   ]
  },
  {
   "cell_type": "code",
   "execution_count": null,
   "metadata": {},
   "outputs": [],
   "source": [
    "a=np.zeros(10)                 # array with 10 zeros\n",
    "print(a)\n",
    "b=np.zeros((3,2),dtype=float)  # 3 by 2 with zeroa\n",
    "print(b)\n",
    "c=np.ones((4,3),float)         # 4 by 3 with all ones, (or int)\n",
    "print(c)\n",
    "d=np.array(range(10),float)    # 0,1,2,3.. up to 9\n",
    "print(d)"
   ]
  },
  {
   "cell_type": "code",
   "execution_count": null,
   "metadata": {},
   "outputs": [],
   "source": [
    "e1=np.identity(4)              # identity 4 by 4 matrix\n",
    "print(e1)\n",
    "e2=np.eye(4)                   # same as above\n",
    "print(e2)\n",
    "e3=np.eye(4,k=1)               # 1 start from k\n",
    "print(e3)"
   ]
  },
  {
   "cell_type": "code",
   "execution_count": null,
   "metadata": {},
   "outputs": [],
   "source": [
    "# 创建随机数时，可以设置间隔\n",
    "f=np.arange(1,20,3,float)      # from 1 to 19 interval 3\n",
    "print(f)"
   ]
  },
  {
   "cell_type": "code",
   "execution_count": null,
   "metadata": {},
   "outputs": [],
   "source": [
    "g=np.array([[2,2,2],[3,3,3]])  # 2 by 3\n",
    "print(g)"
   ]
  },
  {
   "cell_type": "code",
   "execution_count": null,
   "metadata": {},
   "outputs": [],
   "source": [
    "# 如果有一个现成的矩阵，如g，想要创造和他一样的全一矩阵或者全0矩阵，那么可以\n",
    "h=np.zeros_like(g)             # all zeros\n",
    "print(h)\n",
    "i=np.ones_like(g)              # all ones\n",
    "print(i)"
   ]
  },
  {
   "cell_type": "code",
   "execution_count": null,
   "metadata": {},
   "outputs": [],
   "source": [
    "pv=np.array([[100,10,10.2],[34,22,34]])  # 2 by 3\n",
    "x=pv.flatten()                           # matrix becomes a vector\n",
    "print(x)\n",
    "vp2=np.reshape(x,[3,2])                  # 3 by 2 now\n",
    "print(vp2)\n",
    "# 也可以直接对pv进行变化"
   ]
  },
  {
   "cell_type": "code",
   "execution_count": null,
   "metadata": {},
   "outputs": [],
   "source": [
    "# 数据的加减乘除\n",
    "cashflows_1=np.array([-100,50,20])\n",
    "cashflows_2=np.array([-80,100,120])\n",
    "print(cashflows_1+cashflows_2)"
   ]
  },
  {
   "cell_type": "code",
   "execution_count": null,
   "metadata": {},
   "outputs": [],
   "source": [
    "# 矩阵乘法\n",
    "x=np.array([[1,2,3],[4,5,6]],float)   # 2 by 3 matrix\n",
    "y=np.array([[1,2],[3,3],[4,5]],float) # 3 by 2 matrix\n",
    "r=np.dot(x, y)\n",
    "print(r)"
   ]
  },
  {
   "cell_type": "code",
   "execution_count": null,
   "metadata": {},
   "outputs": [],
   "source": [
    "y = y.reshape(2, 3)\n",
    "print(x)\n",
    "print(y)\n",
    "print(x*y)"
   ]
  },
  {
   "cell_type": "code",
   "execution_count": null,
   "metadata": {},
   "outputs": [],
   "source": [
    "x1=np.array([[1,2,3],[4,5,6]],float)\n",
    "x2=np.matrix(x1) # from array to matrix\n",
    "x3=np.array(x2)  # from matrix to array\n",
    "print(x2)\n",
    "print(x3)\n",
    "\n",
    "x=np.array([[1,2,3],[4,5,6]],float)\n",
    "y=np.array([[2,1,2],[4,0,5]],float)\n",
    "print (x*y)"
   ]
  },
  {
   "cell_type": "code",
   "execution_count": null,
   "metadata": {},
   "outputs": [],
   "source": [
    "# 关于乘法，还有一种方法，不过我感觉不太常用，掌握array方法就可以\n",
    "k=np.matrix(\"1,2,3;4,5,6\")\n",
    "r=np.matrix(\"1,2;3,3;4,5\")\n",
    "print(k*r)#这个方法的结果是和np.dot一样的"
   ]
  },
  {
   "cell_type": "code",
   "execution_count": null,
   "metadata": {},
   "outputs": [],
   "source": [
    "print(np.dot(k, r))#也可以使用np.dot"
   ]
  },
  {
   "cell_type": "code",
   "execution_count": null,
   "metadata": {},
   "outputs": [],
   "source": [
    "# 求和函数，当x是一个numpy数组时，可以直接使用x.function()进行相关操作\n",
    "x=np.array([1,2,3])\n",
    "print(x.sum())\n",
    "print(np.sum(x))"
   ]
  },
  {
   "cell_type": "code",
   "execution_count": null,
   "metadata": {},
   "outputs": [],
   "source": [
    "cashflows=np.array([-100,30,50,100,30,40])\n",
    "print(cashflows.min())#最小值\n",
    "print(cashflows.argmin())#最小值位置"
   ]
  },
  {
   "cell_type": "code",
   "execution_count": null,
   "metadata": {},
   "outputs": [],
   "source": [
    "# 循环语句，依次打印每一个数值\n",
    "cash_flows=np.array([-100,50,40,30,25,-10,50,100])\n",
    "for cash in cash_flows:\n",
    "    print(cash)"
   ]
  },
  {
   "cell_type": "code",
   "execution_count": null,
   "metadata": {},
   "outputs": [],
   "source": [
    "# 与数组有关的逻辑关系\n",
    "x=np.array([True,False,True,False],bool)\n",
    "a=any(x)  # if one item is TRUE then return TRUE\n",
    "b=all(x)  # if all are TRUE then return TRUE\n",
    "print(a,b)"
   ]
  },
  {
   "cell_type": "code",
   "execution_count": null,
   "metadata": {},
   "outputs": [],
   "source": [
    "cashflows = np.array([-100,50,40,30,100,-5])\n",
    "c=cashflows > 0\n",
    "print(c)\n",
    "d=np.logical_and(cashflows>0,cashflows<60)\n",
    "print(d)"
   ]
  },
  {
   "cell_type": "code",
   "execution_count": null,
   "metadata": {},
   "outputs": [],
   "source": [
    "# 如何通过条件提取数据\n",
    "index=(cashflows>0)  # index is a boolean variable\n",
    "print(cashflows[index])     # retrieve positive cashflows"
   ]
  },
  {
   "cell_type": "code",
   "execution_count": null,
   "metadata": {},
   "outputs": [],
   "source": [
    "# scipy模块有一系列的子函数包，比如stats包用于概率分布函数和统计分析，Optimize包用来优化和求解方程，常用的如stats包，使用哪个可以直接引用\n",
    "from scipy.stats import norm\n",
    "# 从scipy模块里的stats子函数包，引入norm函数\n",
    "print(norm.cdf(0))#累积正态分布在0处的取值"
   ]
  },
  {
   "cell_type": "code",
   "execution_count": null,
   "metadata": {},
   "outputs": [],
   "source": [
    "# 之前编写的BS公式，通过这个函数可以进行优化\n",
    "from scipy import log,exp,sqrt,stats\n",
    "def bs_call(S,X,T,r,sigma):\n",
    "    d1=(log(S/X)+(r+sigma*sigma/2.)*T)/(sigma*sqrt(T))\n",
    "    d2=d1-sigma*sqrt(T)\n",
    "    return S*stats.norm.cdf(d1)-X*exp(-r*T)*stats.norm.cdf(d2)\n",
    "\n",
    "price=bs_call(40,40,1,0.03,0.2)\n",
    "print(round(price,2))"
   ]
  },
  {
   "cell_type": "code",
   "execution_count": null,
   "metadata": {},
   "outputs": [],
   "source": [
    "from scipy import stats\n",
    "print(dir(stats))"
   ]
  },
  {
   "cell_type": "code",
   "execution_count": null,
   "metadata": {},
   "outputs": [],
   "source": [
    "# 通过seed可以获得一个固定的随机数据\n",
    "np.random.seed(124)            # get the same random values\n",
    "x=np.random.normal(0,1,100)    # mean=0, std=1\n",
    "skwe=stats.skew(x)             # 偏度，右偏\n",
    "skwe"
   ]
  },
  {
   "cell_type": "code",
   "execution_count": null,
   "metadata": {},
   "outputs": [],
   "source": [
    "# 如果没有seed\n",
    "x_1=np.random.normal(0,1,100) \n",
    "skwe=stats.skew(x_1)            \n",
    "skwe"
   ]
  },
  {
   "cell_type": "code",
   "execution_count": null,
   "metadata": {},
   "outputs": [],
   "source": [
    "# 随机生成服从标准正态分布的100个随机数，然后使用ttest_1samp函数进行单样本t检验，以测试均值是否为0，根据t值和p值，不能拒绝0假设，说明这个\n",
    "# 样本来自于均值为0的分布\n",
    "print(stats.ttest_1samp(x,0))  # if mean is zero, the result is T-value/P-value"
   ]
  },
  {
   "cell_type": "code",
   "execution_count": null,
   "metadata": {},
   "outputs": [],
   "source": [
    "# 利用numpy可以产生符合若干分布的随机数\n",
    "s=np.random.standard_t(10,size=1000)   # from standard-T, df=10\n",
    "x=np.random.uniform(low=0.0,high=1.0,size=100)  # uniform\n",
    "help(np.random.standard_t)#可以查看参数"
   ]
  },
  {
   "cell_type": "code",
   "execution_count": null,
   "metadata": {},
   "outputs": [],
   "source": [
    "# 从1到500的整数中，随机选择20个数\n",
    "stocks=np.random.randint(1,500,20)\n",
    "print(stocks)"
   ]
  },
  {
   "cell_type": "code",
   "execution_count": null,
   "metadata": {},
   "outputs": [],
   "source": [
    "# 通过scipy模块进行插值的方法\n",
    "# 需要引入interpolate子函数包和matplotlib绘图模块，关于matplotlib在之后讲\n",
    "import matplotlib.pyplot as plt\n",
    "from scipy.interpolate import interp1d"
   ]
  },
  {
   "cell_type": "code",
   "execution_count": null,
   "metadata": {},
   "outputs": [],
   "source": [
    "x=np.linspace(0,10,10)#从0到10生成10个等间距的数字，包括首尾，相当于平均分成了9份\n",
    "x"
   ]
  },
  {
   "cell_type": "code",
   "execution_count": null,
   "metadata": {},
   "outputs": [],
   "source": [
    "y=np.exp(-x/3.0)\n",
    "f=interp1d(x,y)\n",
    "f2=interp1d(x,y,kind=\"cubic\")#插值的方式可以选择，cubic是三阶样条插值\n",
    "xnew=np.linspace(0,10,40)\n",
    "plt.plot(x,y,'o',xnew,f(xnew),'-',xnew,f2(xnew),'--')#第一个位置自变量，第二个位置因变量，第三个位置代表怎么构图，'o'就是圆点，'-'实线，'--'虚线\n",
    "plt.legend(['data','linear','cubic'],loc='best')#loc = 'best'表示把标签放在合适的位置，还可以是upper left, upper right, center......\n",
    "plt.show()"
   ]
  },
  {
   "cell_type": "code",
   "execution_count": null,
   "metadata": {},
   "outputs": [],
   "source": [
    "# 通过scipy解线性方程，PPT\n",
    "A=sp.mat('[1 2 5; 2 5 1; 2 3 8]')\n",
    "b=sp.mat('[10;8;5]')\n",
    "print(A.I*b)#A.I为A矩阵的逆矩阵\n",
    "print(np.linalg.solve(A,b))  # offer the same solution"
   ]
  },
  {
   "cell_type": "code",
   "execution_count": null,
   "metadata": {},
   "outputs": [],
   "source": [
    "A"
   ]
  },
  {
   "cell_type": "code",
   "execution_count": null,
   "metadata": {},
   "outputs": [],
   "source": [
    "x=sp.random.rand(10)    # 10 random numbers from [0,1]\n",
    "y=sp.random.rand(5,2)   # random numbers 5 by 2 array\n",
    "print(x)\n",
    "print(y)"
   ]
  },
  {
   "cell_type": "code",
   "execution_count": null,
   "metadata": {},
   "outputs": [],
   "source": [
    "# 以上生成的都是随机数字，但是有时需要一组固定的随机数来重复测试模型和代码，这时候就需要用到seed，给定一个特定的种子来重复获得随机数\n",
    "# np中也有，之前提到过\n",
    "sp.random.seed(12345)\n",
    "print(sp.random.rand(5))"
   ]
  },
  {
   "cell_type": "code",
   "execution_count": null,
   "metadata": {},
   "outputs": [],
   "source": [
    "# 在导入的模块里查找函数\n",
    "# 可以把该模块所有函数赋值给一个变量，然后用循环语句来查找某个函数\n",
    "a=np.array(dir(np))\n",
    "for k in a:\n",
    "    if(k.find(\"uni\") != -1):\n",
    "        #find函数：在k中查找是否含有uni的字符，如果含有返回字符的位置，如果不含有则返回-1\n",
    "        print(k)"
   ]
  },
  {
   "cell_type": "code",
   "execution_count": null,
   "metadata": {},
   "outputs": [],
   "source": [
    "#函数最优化问题，定义一个函数，找到自变量的取值来使得函数达到最大值或者最小值\n",
    "import scipy.optimize as optimize\n",
    "def my_f(x):\n",
    "    return 3+x**2\n",
    "print (optimize.fmin(my_f,5) )       # 5 is initial value"
   ]
  },
  {
   "cell_type": "code",
   "execution_count": null,
   "metadata": {},
   "outputs": [],
   "source": [
    "# CAPM模型，PPT\n",
    "from scipy import stats\n",
    "stock_ret=[0.065, 0.0265, -0.0593, -0.001, 0.0346]\n",
    "mkt_ret=[0.055, -0.09, -0.041, 0.045, 0.022]\n",
    "beta, alpha, r_value, p_value, std_err = stats.linregress(stock_ret, mkt_ret)\n",
    "print(beta, alpha)\n",
    "print(\"R-squared=\", r_value**2)\n",
    "print('p-value=', p_value)"
   ]
  },
  {
   "cell_type": "code",
   "execution_count": null,
   "metadata": {},
   "outputs": [],
   "source": [
    "# matplotlib简介——绘图神器\n",
    "# 重启\n",
    "import matplotlib.pyplot as plt\n",
    "import numpy as np\n",
    "import scipy as sp"
   ]
  },
  {
   "cell_type": "code",
   "execution_count": null,
   "metadata": {},
   "outputs": [],
   "source": [
    "# 简单例子\n",
    "plt.plot([1,2,3,10])\n",
    "# xlabel('x- axis')\n",
    "# ylabel('my numbers')\n",
    "# title('my figure')\n",
    "plt.show()"
   ]
  },
  {
   "cell_type": "code",
   "execution_count": null,
   "metadata": {},
   "outputs": [],
   "source": [
    "# 正弦和余弦函数\n",
    "x = np.linspace(-np.pi, np.pi, 256)\n",
    "C, S=np.cos(x), np.sin(x)\n",
    "plt.plot(x,C)\n",
    "plt.plot(x,S)\n",
    "plt.show()"
   ]
  },
  {
   "cell_type": "code",
   "execution_count": null,
   "metadata": {},
   "outputs": [],
   "source": [
    "# 散点图\n",
    "# 首先，产生两组随机数（标准正态分布），每组1024个数字\n",
    "n=1024\n",
    "x=np.random.normal(0,1,n)\n",
    "y=np.random.normal(0,1,n)\n",
    "# x=np.linspace(1, 10, 1000)\n",
    "# y=np.linspace(1, 10, 1000)\n",
    "plt.scatter(x,y)\n",
    "plt.show()\n",
    "# 可以通过散点图来大致观察两只股票之间的相关性，假设x坐标和y坐标分别代表A，B两只股票一定时期的回报率，那么如果两只股票正相关，当A回报率高\n",
    "# 时候B也会高，A低时B也会低，那么散点图就会呈现倾斜向上的直线分布，举个极端的例子"
   ]
  },
  {
   "cell_type": "code",
   "execution_count": null,
   "metadata": {},
   "outputs": [],
   "source": [
    "# 绘制简单利率和复利利率的图像，PPT\n",
    "pv=1000\n",
    "r=0.08\n",
    "n=10\n",
    "t=np.linspace(0,n,n)\n",
    "y1=np.ones(len(t))*pv   # this is a horizontal line\n",
    "y2=pv*(1+r*t)\n",
    "y3=pv*(1+r)**t\n",
    "plt.title('Simple vs. compounded interest rate')\n",
    "plt.xlabel('Number of years')\n",
    "plt.ylabel('Values')\n",
    "plt.xlim(0, 11)\n",
    "plt.ylim(800, 2200)\n",
    "plt.plot(t, y1, 'b-')\n",
    "plt.plot(t, y2, 'g--')\n",
    "plt.plot(t, y3, 'r-')\n",
    "#plt.plot()第三个参数给出了颜色和线条形状，b代表蓝色，g绿色，r红色\n",
    "plt.show()"
   ]
  },
  {
   "cell_type": "code",
   "execution_count": null,
   "metadata": {},
   "outputs": [],
   "source": [
    "# 为图形添加文字\n",
    "x=[0, 1, 2]\n",
    "y=[2, 4, 6]\n",
    "plt.plot(x, y)\n",
    "plt.figtext(0.2, 0.7, 'North & West')\n",
    "plt.figtext(0.7, 0.2, 'East & South')\n",
    "#第一个第二个参数代表x，y坐标，第三个是添加的文字\n",
    "plt.show()"
   ]
  },
  {
   "cell_type": "code",
   "execution_count": null,
   "metadata": {},
   "outputs": [],
   "source": [
    "# 杜邦等式的图示\n",
    "# 简单设定了三家公司的毛利率、资金周转率和权益乘数，在图中表示\n",
    "import pandas as pd\n",
    "#pandas之后介绍\n",
    "\n",
    "ticker = 'Ticker'\n",
    "name1 = 'profitMargin'\n",
    "name2 = 'assetTurnover'\n",
    "name3 = 'equitMultiplier'\n",
    "scale = 7\n",
    "\n",
    "raw_data = {ticker : ['IBM', 'DELL', 'WMT'],\n",
    "            name1 : [0.1589 * scale, 0.0417 * scale, 0.036 * scale],\n",
    "            name2 : [0.8766, 1.1977, 2.31],\n",
    "            name3 : [6.32, 4.45, 2.6604]}\n",
    "#定义一个字典\n",
    "\n",
    "df = pd.DataFrame(raw_data, columns= [ticker, name1, name2, name3])\n",
    "#DataFrame就类似一个excel，有索引还有列名\n",
    "df"
   ]
  },
  {
   "cell_type": "code",
   "execution_count": null,
   "metadata": {},
   "outputs": [],
   "source": [
    "f, ax1 = plt.subplots(1, figsize = (10, 5))\n",
    "w = 0.75\n",
    "x = [i + 1 for i in range(len(df[name1]))]\n",
    "# 内部一个迭代器\n",
    "\n",
    "tick_pos = [i for i in x]\n",
    "\n",
    "ax1.bar(x, df[name1], width = w, label = name1, alpha = 0.5, color = 'blue')\n",
    "#aplha透明度\n",
    "ax1.bar(x, df[name2], width = w, bottom = df[name1], label = name2, alpha = 0.5, color = 'red')\n",
    "# 从第二个开始就要加上bottom\n",
    "ax1.bar(x, df[name3], width = w, bottom = [i + j for i, j in zip(df[name1], df[name2])], label = name3, alpha = 0.5, color = 'green')\n",
    "# zip在下边解释\n",
    "# ax1.bar(x, df[name3], width = w, bottom = df[name1] + df[name2], label = name3, alpha = 0.5, color = 'green')#结果一样\n",
    "plt.xticks(tick_pos, df[ticker])\n",
    "plt.xlabel('Different ticker')\n",
    "plt.ylabel('Dupoint Identity')\n",
    "plt.legend(loc = 'best')\n",
    "plt.title('Dupont Identity for 3 firms')\n",
    "plt.xlim([min(tick_pos) - w, max(tick_pos) + w])\n",
    "plt.show()"
   ]
  },
  {
   "cell_type": "code",
   "execution_count": null,
   "metadata": {},
   "outputs": [],
   "source": [
    "kk = list(zip(df[name1], df[name2]))\n",
    "kk"
   ]
  },
  {
   "cell_type": "code",
   "execution_count": null,
   "metadata": {},
   "outputs": [],
   "source": [
    "for i, j in kk:\n",
    "    print(i)\n",
    "#     print(j)\n",
    "#     print(i, j)"
   ]
  },
  {
   "cell_type": "code",
   "execution_count": null,
   "metadata": {},
   "outputs": [],
   "source": [
    "# 通过图形来看一个项目现金流的净现值和折现率的关系\n",
    "cashflows=[-200,80,90,100]\n",
    "rate=[]\n",
    "npv=[]\n",
    "x=(0,0.7)\n",
    "y=(0,0)\n",
    "for i in range(1,70):\n",
    "    rate.append(0.01*i)\n",
    "    npv.append(sp.npv(0.01*i, cashflows))\n",
    "#     相当于计算了69次npv，rate从0.1到0.69\n",
    "    \n",
    "plt.plot(rate,npv)\n",
    "plt.plot(x,y)\n",
    "plt.show()\n",
    "# 可以直观看出，两者是负相关的，此时有一个IRR"
   ]
  },
  {
   "cell_type": "code",
   "execution_count": null,
   "metadata": {},
   "outputs": [],
   "source": [
    "# 再看一个例子\n",
    "cashflows=[504,-432,-432,-432,832]\n",
    "rate=[]\n",
    "npv=[]\n",
    "x=[0,0.3]\n",
    "y=[0,0]\n",
    "for i in range(1,30):\n",
    "    rate.append(0.01*i)\n",
    "    npv.append(sp.npv(0.01*i,cashflows))\n",
    "plt.plot(x,y)\n",
    "plt.plot(rate,npv)\n",
    "plt.show()\n",
    "# 此时就有两个IRR"
   ]
  },
  {
   "cell_type": "code",
   "execution_count": null,
   "metadata": {},
   "outputs": [],
   "source": [
    "# 但是np的irr函数，只能计算一个IRR\n",
    "cashflows=[504,-432,-432,-432,832]\n",
    "x=np.irr(cashflows)\n",
    "print(x)"
   ]
  },
  {
   "cell_type": "code",
   "execution_count": null,
   "metadata": {},
   "outputs": [],
   "source": [
    "# 对颜色的使用可以让图像更突出\n",
    "# 假设有两个公司（沃尔玛和DELL）的每股收益（EPS）分，通过不同颜色来比较他们的每股收益\n",
    "A_EPS = (5.02, 4.54, 4.18, 3.73)\n",
    "B_EPS = (1.35, 1.88, 1.35, 0.73)\n",
    "ind=np.arange(len(A_EPS))  # the x locations for the groups\n",
    "width = 0.40                 # the width of the bars\n",
    "fig, ax = plt.subplots()\n",
    "A_Std= B_Std= (2, 2, 2, 2)\n",
    "rects1= ax.bar(ind, A_EPS, width, color='r', yerr=A_Std)\n",
    "# yerr让柱状图上下端空出一部分\n",
    "rects2= ax.bar(ind+width, B_EPS, width, color='y', yerr=B_Std)\n",
    "\n",
    "ax.set_ylabel('EPS')\n",
    "ax.set_xlabel('Year')\n",
    "\n",
    "ax.set_title('Diluted EPS Excluding Extraordinary Items ')\n",
    "ax.set_xticks(ind+width)\n",
    "ax.set_xticklabels(['2012', '2011', '2010','2009'])\n",
    "ax.legend((rects1[1], rects2[0]),('W-Mart', 'DELL') )\n",
    "def autolabel(rects):\n",
    "    for rect in rects:\n",
    "        height = rect.get_height()\n",
    "        ax.text(rect.get_x()+ rect.get_width()/2, 1.05*height, '%d'%int(height), ha='center',va='bottom')\n",
    "#         ha水平对齐方式，va垂直对齐方式\n",
    "autolabel(rects1)\n",
    "autolabel(rects2)\n",
    "plt.show()"
   ]
  },
  {
   "cell_type": "code",
   "execution_count": null,
   "metadata": {},
   "outputs": [],
   "source": [
    "# 颜色：b代表蓝色，g绿色，r红色，c青色，w白色，k黑色等等\n",
    "# 线条形状：-实线，--虚线，-.点划线，p五角星，+加号等等"
   ]
  },
  {
   "cell_type": "code",
   "execution_count": null,
   "metadata": {},
   "outputs": [],
   "source": [
    "图形演示分散投资的效果\n",
    "ret_A=np.array([0.102,-0.02, 0.213,0.12,0.13])\n",
    "ret_B=np.array([0.1062,0.23, 0.045,0.234,0.113])\n",
    "port_EW=(ret_A+ret_B)/2.\n",
    "m1,m2,m3=round(np.mean(ret_A),3),round(np.mean(ret_B),3),round(np.mean(port_EW),3)\n",
    "s1,s2,s3=round(np.std(ret_A),3),round(np.std(ret_B),3),round(np.std(port_EW),3)\n",
    "print(m1,m2,m3)\n",
    "print(s1,s2,s3)\n",
    "# 可以看出波动率小很多"
   ]
  },
  {
   "cell_type": "code",
   "execution_count": null,
   "metadata": {},
   "outputs": [],
   "source": [
    "year=[2009,2010,2011,2012,2013]\n",
    "\n",
    "plt.figtext(0.2,0.65, \"Stock A\")\n",
    "plt.figtext(0.15,0.4, \"Stock B\")\n",
    "\n",
    "plt.xlabel(\"Year\")\n",
    "plt.ylabel(\"Returns\")\n",
    "\n",
    "plt.plot(year, ret_A, lw=2)#lw线宽\n",
    "plt.plot(year, ret_B, lw=2)\n",
    "plt.plot(year, port_EW, lw=2)\n",
    "\n",
    "plt.title(\"Indiviudal stocks vs. an equal-weighted 2-stock portflio\")\n",
    "plt.annotate('Equal-weighted Portfolio', xy=(2010, 0.1), xytext=(2011.,0), arrowprops=dict(facecolor='black', shrink=0.05),)\n",
    "# 注解函数，第一个参数为注解内容，第二个xy是指向点点坐标，xytext是注解内容的坐标，arrowprops是箭头的形状，类型为字典，PPT\n",
    "\n",
    "plt.ylim(-0.1,0.3)\n",
    "plt.show()\n",
    "\n",
    "cor=sp.corrcoef(ret_A,ret_B)\n",
    "print(cor)\n",
    "# 看看他们的协方差矩阵，是负相关性，可以构建投资组合"
   ]
  },
  {
   "cell_type": "code",
   "execution_count": null,
   "metadata": {},
   "outputs": [],
   "source": [
    "# 股票的数目和投资组合风险\n",
    "# 1987年一篇名为《多元化的投资组合需要多少只个股》的论文，书中以这篇论文中的数据为例，做出了下面的图，其中，n代表投资组合中股票的数目，\n",
    "# port_sigma是投资组合年收益的标准差\n",
    "n=[1,2,4,6,8,10,12,14,16,18,20,25,30,35,40,45,50,75,100,200,300,400,500,600,700,800,900,1000]\n",
    "port_sigma=[0.49236,0.37358,0.29687,0.26643,0.24983,0.23932,0.23204,0.22670,0.22261,0.21939,0.21677,0.21196,0.20870,\n",
    "            0.20634,0.20456,0.20316,0.20203,0.19860,0.19686,0.19432,0.19336,0.19292,0.19265,0.19347,0.19233,0.19224,\n",
    "            0.19217,0.19211,0.19158]"
   ]
  },
  {
   "cell_type": "code",
   "execution_count": null,
   "metadata": {},
   "outputs": [],
   "source": [
    "plt.xlim(0,50)\n",
    "plt.ylim(0.1,0.4)\n",
    "\n",
    "plt.hlines(0.19217, 0, 50, colors='r', linestyles='dashed')\n",
    "# hlines画一条水平线，第一个参数是y值，第二个参数是xmin，第三个参数是xmax\n",
    "plt.annotate('', xy=(5, 0.19), xytext = (5, 0.28), arrowprops = {'arrowstyle':'<->'})\n",
    "plt.annotate('', xy=(30, 0.19), xytext = (30, 0.1), arrowprops = {'arrowstyle':'<->'})\n",
    "plt.annotate('Total portfolio risk', xy=(5,0.3),xytext=(25,0.35),arrowprops=dict(facecolor='black',shrink=0.02))\n",
    "\n",
    "plt.figtext(0.15,0.4,\"Diversiable risk\")\n",
    "plt.figtext(0.65,0.25,\"Nondiversifiable risk\")\n",
    "\n",
    "plt.plot(n[0:17],port_sigma[0:17])\n",
    "\n",
    "plt.title(\"Relationship between n and portfolio risk\")\n",
    "plt.xlabel(\"Number of stocks in a portfolio\")\n",
    "plt.ylabel(\"Ratio of Portfolio std to std of one stock\")\n",
    "plt.show()"
   ]
  },
  {
   "cell_type": "code",
   "execution_count": null,
   "metadata": {},
   "outputs": [],
   "source": [
    "# pandas和statsmodels的使用\n",
    "# pandas模块主要用于数据处理，statsmodels模块主要用于统计分析\n",
    "import pandas as pd\n",
    "import numpy as np\n",
    "import statsmodels.api as sm"
   ]
  },
  {
   "cell_type": "code",
   "execution_count": null,
   "metadata": {},
   "outputs": [],
   "source": [
    "# 生成两个时间序列\n",
    "dates=pd.date_range('20130101',periods=5)\n",
    "np.random.seed(12345)\n",
    "x=pd.DataFrame(np.random.rand(5,2), index=dates, columns=('A','B'))\n",
    "# pd.date_range函数生成一个用于索引的数组dates，pd.DataFrame生成一个以dates为序列的表格，函数里面第一个变量是表格的内容数据，第二个变量是\n",
    "# 序列，第三个是列名\n",
    "# numpy的基本数据格式是array，pd的基本数据格式是Series，可以理解为带有index的array\n",
    "# 而Dataframe可以看作是多个Series拼在一起，带有列名的表格"
   ]
  },
  {
   "cell_type": "code",
   "execution_count": null,
   "metadata": {},
   "outputs": [],
   "source": [
    "dates"
   ]
  },
  {
   "cell_type": "code",
   "execution_count": null,
   "metadata": {},
   "outputs": [],
   "source": [
    "x"
   ]
  },
  {
   "cell_type": "code",
   "execution_count": null,
   "metadata": {},
   "outputs": [],
   "source": [
    "x.describe()#通过这个函数可以得到这两列数的基本统计信息"
   ]
  },
  {
   "cell_type": "code",
   "execution_count": null,
   "metadata": {
    "scrolled": true
   },
   "outputs": [],
   "source": [
    "# 有的表格里面会有一些空值，如果要对其进行填充\n",
    "x=pd.Series([0.1,0.02,-0.03,np.nan,0.130,0.125])\n",
    "x"
   ]
  },
  {
   "cell_type": "code",
   "execution_count": null,
   "metadata": {},
   "outputs": [],
   "source": [
    "m=np.mean(x)\n",
    "round(m,4)"
   ]
  },
  {
   "cell_type": "code",
   "execution_count": null,
   "metadata": {},
   "outputs": [],
   "source": [
    "y=x.fillna(m)     # nan is repalced with the mean\n",
    "y"
   ]
  },
  {
   "cell_type": "code",
   "execution_count": null,
   "metadata": {},
   "outputs": [],
   "source": [
    "# 使用statsmodels去估计线性回归模型参数，PPT\n",
    "y=[1,2,3,4,2,3,4]\n",
    "x=range(1,8)\n",
    "x=sm.add_constant(x)\n",
    "# 加入一列1\n",
    "results=sm.OLS(y,x).fit()\n",
    "# 这里y在前面，.fit就是开始进行回归\n",
    "print(results.params)#输出结果第一个是alpha的估计值，之后是独立变量的系数的估计值"
   ]
  },
  {
   "cell_type": "code",
   "execution_count": null,
   "metadata": {},
   "outputs": [],
   "source": [
    "x"
   ]
  },
  {
   "cell_type": "code",
   "execution_count": null,
   "metadata": {},
   "outputs": [],
   "source": [
    "# 外部数据的输入"
   ]
  },
  {
   "cell_type": "code",
   "execution_count": null,
   "metadata": {},
   "outputs": [],
   "source": [
    "# 通过剪切板输入数据\n",
    "clip = pd.read_clipboard()\n",
    "clip"
   ]
  },
  {
   "cell_type": "code",
   "execution_count": null,
   "metadata": {},
   "outputs": [],
   "source": [
    "#通过一些网站API，例如tushare\n",
    "import tushare as ts\n",
    "tk = pd.read_csv('tk.csv')\n",
    "ts.set_token(tk.iloc[0])\n",
    "\n",
    "pro = ts.pro_api()\n",
    "df = pro.daily(ts_code = '000002.SZ', start_date = '20180901', end_date = '20181011')\n",
    "df"
   ]
  },
  {
   "cell_type": "code",
   "execution_count": null,
   "metadata": {},
   "outputs": [],
   "source": [
    "# 从txt文档中输入数据\n",
    "x = pd.read_table('data.txt')\n",
    "x"
   ]
  },
  {
   "cell_type": "code",
   "execution_count": null,
   "metadata": {},
   "outputs": [],
   "source": [
    "# 从excel中输入数据\n",
    "infile = pd.ExcelFile('data.xlsx')\n",
    "infile.parse(0)\n",
    "#选择excel的第一个表格"
   ]
  },
  {
   "cell_type": "code",
   "execution_count": null,
   "metadata": {},
   "outputs": [],
   "source": [
    "# 从csv文件中输入数据\n",
    "data = pd.read_csv('data.csv')\n",
    "data"
   ]
  },
  {
   "cell_type": "code",
   "execution_count": null,
   "metadata": {},
   "outputs": [],
   "source": [
    "# 生成一维时间序列\n",
    "x = pd.date_range('1/1/2013', periods=100)\n",
    "data = pd.Series(sp.randn(len(x)), index=x)\n",
    "\n",
    "print(data.head())#前5行\n",
    "print(data.tail())#后五行"
   ]
  },
  {
   "cell_type": "code",
   "execution_count": null,
   "metadata": {},
   "outputs": [],
   "source": [
    "# 使用日期变量\n",
    "x=pd.read_csv('data.csv',index_col=0, parse_dates=True)\n",
    "# index_col:用作行索引的列编号，parse_dates = True时表示对index按照日期格式进行解析\n",
    "# csv格式比较常用，里面的参数很多，可以在读取数据时就能实现很多功能，具体的参数简介及用法可以参考这个网址\n",
    "# https://blog.csdn.net/sinat_35562946/article/details/81058221\n",
    "\n",
    "x.head()"
   ]
  },
  {
   "cell_type": "code",
   "execution_count": null,
   "metadata": {},
   "outputs": [],
   "source": [
    "x=pd.read_csv('data.csv',index_col=0, usecols=[0])\n",
    "# 如果只对第一列感兴趣的话，可以在读取时只读取第一列，使用usecols\n",
    "x.head()"
   ]
  },
  {
   "cell_type": "code",
   "execution_count": null,
   "metadata": {},
   "outputs": [],
   "source": [
    "# 计算回报率\n",
    "p=np.array([1, 1.1, 0.9, 1.05])\n",
    "print(p)\n",
    "print(p[:-1])\n",
    "print(p[1:])\n",
    "ret=(p[1:]-p[:-1])/p[:-1]\n",
    "print(ret)\n",
    "ret1=(p[:-1]-p[1:])/p[1:]\n",
    "print(ret1)"
   ]
  },
  {
   "cell_type": "code",
   "execution_count": null,
   "metadata": {},
   "outputs": [],
   "source": [
    "pro = ts.pro_api()\n",
    "df = pro.daily(ts_code = '000002.SZ', start_date = '20180901', end_date = '20180920')\n",
    "df"
   ]
  },
  {
   "cell_type": "code",
   "execution_count": null,
   "metadata": {},
   "outputs": [],
   "source": [
    "ret = (np.array(df.close[:-1])- np.array(df.close[1:]))/ np.array(df.close[1:])\n",
    "ret\n",
    "# 可以看出数据是对的"
   ]
  },
  {
   "cell_type": "code",
   "execution_count": null,
   "metadata": {},
   "outputs": [],
   "source": [
    "ret = (df.close[:-1]- df.close[1:])/ df.close[1:]\n",
    "ret\n",
    "# 这就不可以，这是因为serise是有index的"
   ]
  },
  {
   "cell_type": "code",
   "execution_count": null,
   "metadata": {},
   "outputs": [],
   "source": [
    "# 从日回报率计算月回报率，PPT\n",
    "pro = ts.pro_api()\n",
    "df = pro.daily(ts_code = '000002.SZ', start_date = '20180801', end_date = '20180920')\n",
    "df"
   ]
  },
  {
   "cell_type": "code",
   "execution_count": null,
   "metadata": {},
   "outputs": [],
   "source": [
    "close = df.close.values\n",
    "logret=np.log(close[:-1]/x[1:])\n",
    "yyyymm=[]\n",
    "for i in range(0,np.size(logret)):\n",
    "    yyyymm.append(''.join([df.trade_date[i][:6]]))\n",
    "y = pd.DataFrame(logret, yyyymm, columns=['ret_monthly'])\n",
    "ret_monthly = y.groupby(y.index).sum()\n",
    "print(ret_monthly.head())\n",
    "# 计算年回报率和月类似"
   ]
  },
  {
   "cell_type": "code",
   "execution_count": null,
   "metadata": {},
   "outputs": [],
   "source": [
    "# 合并数据集,比如按照时间列合并\n",
    "df2 = pro.daily(ts_code = '000001.SZ', start_date = '20180801', end_date = '20180910')\n",
    "merge_1 = pd.merge(df, df2, on= 'trade_date', how= 'outer')"
   ]
  },
  {
   "cell_type": "code",
   "execution_count": null,
   "metadata": {},
   "outputs": [],
   "source": [
    "merge_1"
   ]
  }
 ],
 "metadata": {
  "kernelspec": {
   "display_name": "Python 3",
   "language": "python",
   "name": "python3"
  },
  "language_info": {
   "codemirror_mode": {
    "name": "ipython",
    "version": 3
   },
   "file_extension": ".py",
   "mimetype": "text/x-python",
   "name": "python",
   "nbconvert_exporter": "python",
   "pygments_lexer": "ipython3",
   "version": "3.6.5"
  }
 },
 "nbformat": 4,
 "nbformat_minor": 2
}
