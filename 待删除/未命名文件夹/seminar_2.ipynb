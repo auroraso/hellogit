{
 "cells": [
  {
   "cell_type": "code",
   "execution_count": null,
   "metadata": {},
   "outputs": [],
   "source": [
    "import pandas as pd\n",
    "import numpy as np\n",
    "import statsmodels.api as sm\n",
    "import tushare as ts\n",
    "import scipy as sp\n",
    "tk = pd.read_csv('tk.csv')\n",
    "ts.set_token(tk.iloc[0])"
   ]
  },
  {
   "cell_type": "code",
   "execution_count": null,
   "metadata": {},
   "outputs": [],
   "source": [
    "pro = ts.pro_api()\n",
    "df1 = pro.daily(ts_code = '000002.SZ', start_date = '20170901', end_date = '20181011')"
   ]
  },
  {
   "cell_type": "code",
   "execution_count": null,
   "metadata": {},
   "outputs": [],
   "source": [
    "# T-检验\n",
    "sp.random.seed(1235)\n",
    "x=sp.stats.norm.rvs(size=10000)\n",
    "# sp.stats.norm.rvs产生一个连续的正态分布函数\n",
    "print(\"T-value P-value (two-tail)\")\n",
    "print(sp.stats.ttest_1samp(x,0.5))\n",
    "print(sp.stats.ttest_1samp(x,0))\n",
    "# 第一个检验的零假设是均值为0.5，第二个检验的零假设是均值为0，根据检验结果，第一个检验结果推翻了零假设，第二个检验结果接受了零假设"
   ]
  },
  {
   "cell_type": "code",
   "execution_count": null,
   "metadata": {},
   "outputs": [],
   "source": [
    "close_1 = df1.close.values\n",
    "\n",
    "ret_1 = (close_1[:-1]-close_1[1:])/close_1[1:]"
   ]
  },
  {
   "cell_type": "code",
   "execution_count": null,
   "metadata": {},
   "outputs": [],
   "source": [
    "print(\"T-value P-value (two-tail)\")\n",
    "print(stats.ttest_1samp(ret_1,0))"
   ]
  },
  {
   "cell_type": "code",
   "execution_count": null,
   "metadata": {},
   "outputs": [],
   "source": [
    "# 检验方差是否相等\n",
    "# 检验两只股票一段时间的收益方差是否相等，sp.stats.bartlett()函数采用Bartlett方法来检验多个样本集的方差相等的这个零假设，通常称为F-检验，\n",
    "# 该函数输出t值和p值\n",
    "def ret_f(ticker,start,end):\n",
    "    price=pro.daily(ts_code = ticker, start_date = start, end_date = end)\n",
    "    x=price['close'].values\n",
    "    return(x[:-1]/x[1:]-1)\n",
    "start = '20170901'\n",
    "end = '20181011'\n",
    "s1=ret_f('000001.SZ',start,end)\n",
    "s2=ret_f('000002.SZ',start,end)\n",
    "print(sp.stats.bartlett(s1,s2))"
   ]
  },
  {
   "cell_type": "code",
   "execution_count": null,
   "metadata": {},
   "outputs": [],
   "source": [
    "# 根据结果，可以拒绝零假设"
   ]
  },
  {
   "cell_type": "code",
   "execution_count": null,
   "metadata": {},
   "outputs": [],
   "source": [
    "# 检验一月效应\n",
    "# 一月效应指的是一月份的回报率不同于其他月份\n",
    "start = '20090901'\n",
    "end = '20181011'\n",
    "df1 = pro.daily(ts_code = '000002.SZ', start_date = start, end_date = end)\n",
    "s1=ret_f('000001.SZ',start,end)\n",
    "yyyymm=[]\n",
    "for i in range(0,np.size(s1)):\n",
    "    yyyymm.append(''.join([df1.trade_date[i][:6]]))\n",
    "y = pd.DataFrame(s1, yyyymm, columns=['ret_monthly'])\n",
    "ret_monthly = y.groupby(y.index).sum()\n",
    "ret_monthly.reset_index(inplace= True)"
   ]
  },
  {
   "cell_type": "code",
   "execution_count": null,
   "metadata": {},
   "outputs": [],
   "source": [
    "ret_Jan = ret_monthly[ret_monthly['index'].apply(lambda x: x[4:] =='01')]\n",
    "ret_others = ret_monthly[ret_monthly['index'].apply(lambda x: x[4:] !='01')]\n",
    "print(sp.stats.bartlett(ret_Jan['ret_monthly'].values,ret_others['ret_monthly'].values))"
   ]
  },
  {
   "cell_type": "code",
   "execution_count": null,
   "metadata": {},
   "outputs": [],
   "source": [
    "# 根据结果，可以认为万科A的回报率不存在一月效应，但是这个结果仅仅针对万科一只股票，不应该一概而论，可以通过这种方法测试其他股票"
   ]
  },
  {
   "cell_type": "code",
   "execution_count": null,
   "metadata": {},
   "outputs": [],
   "source": [
    "# 基于52周最高价和最低价的交易策略\n",
    "from datetime import datetime\n",
    "from dateutil.relativedelta import relativedelta\n",
    "\n",
    "ticker='000002.SZ'\n",
    "enddate=datetime.now()\n",
    "begdate=enddate-relativedelta(years=1)\n",
    "start = str(begdate)[0:4] + str(begdate)[5:7] + str(begdate)[8:10]\n",
    "end = str(enddate)[0:4] + str(enddate)[5:7] + str(enddate)[8:10]\n",
    "\n",
    "p = pro.daily(ts_code = '000002.SZ', start_date = start, end_date = end)[['trade_date', 'close']]\n",
    "x=p.iloc[0]\n",
    "y=np.array(p['close'].values.tolist())[1:]\n",
    "high=max(y)\n",
    "low=min(y)\n",
    "print(\"    Today,    Price     High   Low,  % from low \")\n",
    "print(x[0],'   ', x[-1],'   ', high,' ', low,'  ',  round((x[-1]-low)/(high-low)*100,2))"
   ]
  },
  {
   "cell_type": "code",
   "execution_count": null,
   "metadata": {},
   "outputs": [],
   "source": [
    "# 滚动式估算市场风险系数\n",
    "def ret_f(ticker,start,end):\n",
    "    price=pro.daily(ts_code = ticker, start_date = start, end_date = end)\n",
    "    x=price['close'].values\n",
    "    return(x[:-1]/x[1:]-1)\n",
    "start = '20170901'\n",
    "end = '20181011'\n",
    "s1=ret_f('000001.SZ',start,end)\n",
    "s2=ret_f('000002.SZ',start,end)\n",
    "\n",
    "y0=list(s1)\n",
    "x0=sm.add_constant(list(s2))\n",
    "m = []\n",
    "window = 30\n",
    "for i in range(len(y0)-window):\n",
    "    y = y0[i: i+window]\n",
    "    x = x0[i: i+window]\n",
    "    model = sm.OLS(y, x).fit()\n",
    "    m.append(list(model.params)[1])"
   ]
  },
  {
   "cell_type": "code",
   "execution_count": null,
   "metadata": {},
   "outputs": [],
   "source": [
    "import matplotlib.pyplot as plt\n",
    "plt.plot(m)"
   ]
  },
  {
   "cell_type": "code",
   "execution_count": null,
   "metadata": {},
   "outputs": [],
   "source": [
    "# 在险价值简介，PPT\n",
    "# 下面代码计算在10天内持有50只股000001股票的在险价值\n",
    "n_shares=50                      # input 1\n",
    "confidence_level=0.99            # input 2\n",
    "n_days=10                        # input 3\n",
    "z=sp.stats.norm.ppf(confidence_level)\n",
    "# 在99%置信水平下的分界点\n",
    "ticker='000001.SZ'\n",
    "start = '20170901'\n",
    "end = '20181011'\n",
    "p = pro.daily(ts_code = ticker, start_date = start, end_date = end)[['trade_date', 'close']]\n",
    "s1=ret_f('000001.SZ',start,end)\n",
    "position=n_shares * p.close[0]\n",
    "VaR = position*z*np.std(s1)*np.sqrt(n_days)\n",
    "print(\"Holding=\",position, \"VaR=\", round(VaR,4), \"in \", n_days, \"Days\")"
   ]
  },
  {
   "cell_type": "code",
   "execution_count": null,
   "metadata": {},
   "outputs": [],
   "source": [
    "# 这就表示，今天的股票价值是493元，未来10天在99%置信水平的在险价值为79.46元，其实风险挺大的"
   ]
  },
  {
   "cell_type": "code",
   "execution_count": null,
   "metadata": {},
   "outputs": [],
   "source": [
    "# 构建有效边界\n",
    "#首先， 估计方差矩阵\n",
    "ret=np.matrix(np.array([[0.1,0.2],[0.10,0.1071],[-0.02,0.25],[0.012,0.028],[0.06,0.262],[0.14,0.115]]))\n",
    "# 假定一个收益矩阵\n",
    "print('收益矩阵')\n",
    "print(ret)\n",
    "\n",
    "covar_=ret.T*ret\n",
    "weight=np.matrix(np.array([0.4,0.6]))\n",
    "# 设定两只股票分别的权重\n",
    "\n",
    "print (\"权重\",weight)\n",
    "print(weight*covar_*weight.T)"
   ]
  },
  {
   "cell_type": "code",
   "execution_count": null,
   "metadata": {},
   "outputs": [],
   "source": [
    "# 其次，优化\n",
    "from scipy.optimize import minimize\n",
    "def y_f(x):\n",
    "    return (3+2*x**2)\n",
    "x0=100\n",
    "res = minimize(y_f, x0, method='nelder-mead', options={'xtol':1e-8,'disp': True})\n",
    "# method='nelder-mead'，options={'xtol':1e-8,'disp': True}这些都是统计上的参数，如果没有特殊要求，默认即可\n",
    "\n",
    "print(res.x)"
   ]
  },
  {
   "cell_type": "code",
   "execution_count": null,
   "metadata": {},
   "outputs": [],
   "source": [
    "# 表示该函数最小值是3，当x取值为0时取得"
   ]
  },
  {
   "cell_type": "code",
   "execution_count": null,
   "metadata": {},
   "outputs": [],
   "source": [
    "通过三只股票，构建一个有效边界\n",
    "简单讲解一下，大部分都是公式的编写，这些都是不需要改动的，可以直接套用，需要绘制有效边界时，基本上可以更改下step1和2即可\n",
    "# Step 1: input area\n",
    "start = '20180905'\n",
    "end = '20180930'\n",
    "n_stock = 3\n",
    "stocks = ['000001', '000002', '000004']\n",
    "\n",
    "# Step 2: Generate a return matrix R\n",
    "y = pd.DataFrame()\n",
    "y['000001'] = ret_f('000001.SZ',start,end)\n",
    "y['000002'] = ret_f('000002.SZ',start,end)\n",
    "y['000004'] = ret_f('000004.SZ',start,end)\n",
    "R = np.array(y)\n",
    "    \n",
    "def objFunction(W, R, target_ret): \n",
    "    stock_mean=np.mean(R,axis=0)\n",
    "    port_mean=np.dot(W,stock_mean)           # portfolio mean\n",
    "    cov=np.cov(R.T)                          # variance-covariance matrix\n",
    "    port_var=np.dot(np.dot(W,cov),W.T)       # portfolio variance\n",
    "    penalty = 2000*abs(port_mean-target_ret) # penalty for deviation from target\n",
    "    return np.sqrt(port_var) + penalty       # objective function \n",
    "\n",
    "#Step 3:estimate optimal portfolo for a given return \n",
    "out_mean,out_std,out_weight=[],[],[] \n",
    "stockMean=np.mean(R,axis=0)    \n",
    "for r in np.linspace(np.min(stockMean), np.max(stockMean), num=100):\n",
    "    W = np.ones([n_stock])/n_stock                       # starting from equal weights \n",
    "    b_ = [(0,1) for i in range(n_stock)]              # bounds, here no short\n",
    "    c_ = ({'type':'eq', 'fun': lambda W: sum(W)-1. }) # constraint\n",
    "    result=sp.optimize.minimize(objFunction,W,(R,r),method='SLSQP',constraints=c_, bounds=b_)    \n",
    "    if not result.success:                            # handle error\n",
    "        raise BaseException(result.message) \n",
    "    out_mean.append(round(r,4))                       # not too many decimal places\n",
    "    std_=round(np.std(np.sum(R*result.x,axis=1)),6)\n",
    "    out_std.append(std_)\n",
    "    out_weight.append(result.x) \n",
    "# Step 4: plot the efficient frontier\n",
    "plt.title('Efficient Frontier')\n",
    "plt.xlabel('Standard Deviation of the porfolio (Risk))')\n",
    "plt.ylabel('Return of the portfolio')\n",
    "plt.figtext(0.5,0.75,str(n_stock)+' stock are used: ')\n",
    "plt.figtext(0.5,0.7,' '+str(stocks))\n",
    "plt.figtext(0.5,0.65,'Time period: '+str(start)+' ------ '+str(end))\n",
    "plt.plot(out_std,out_mean,'--')\n",
    "plt.show()"
   ]
  },
  {
   "cell_type": "code",
   "execution_count": null,
   "metadata": {},
   "outputs": [],
   "source": [
    "# 其实通过上面这个例子可以看出，基础函数是最重要的，看似一个很复杂的代码，但是里面都是基础的东西，只不过因为一些公式的复杂度，导致基础的东西\n",
    "# 层层嵌套。看似复杂，其实最复杂的公式的东西都是不需要改动的，很多都可以直接套用，所以，那些最基础的一定要多练习"
   ]
  },
  {
   "cell_type": "code",
   "execution_count": null,
   "metadata": {},
   "outputs": [],
   "source": [
    "# 插值法简介\n",
    "x=pd.Series([1,2,np.nan,np.nan,6])\n",
    "# 假如想通过线性插值的方法填充缺失值，可以采用x.interpolate函数，但是注意，x必须是pands的格式(Series, Dataframe)\n",
    "print(x.interpolate())"
   ]
  },
  {
   "cell_type": "code",
   "execution_count": null,
   "metadata": {},
   "outputs": [],
   "source": [
    "# 假如有一个债券的收益率数据，知道期限分别为2年，3年，5年，10年的债券收益率，通过线性插值算法，大致估算其他期限的收益率\n",
    "x=pd.Series([0.29,0.57,np.nan,1.34,np.nan,np.nan,np.nan,np.nan,2.7])\n",
    "y=x.interpolate()\n",
    "print (y)"
   ]
  },
  {
   "cell_type": "code",
   "execution_count": null,
   "metadata": {},
   "outputs": [],
   "source": [
    "# 输出数据\n",
    "save = pd.DataFrame(np.random.rand(3, 2), columns=['a', 'b'])"
   ]
  },
  {
   "cell_type": "code",
   "execution_count": null,
   "metadata": {},
   "outputs": [],
   "source": [
    "save"
   ]
  },
  {
   "cell_type": "code",
   "execution_count": null,
   "metadata": {},
   "outputs": [],
   "source": [
    "save.to_csv('sa.csv')\n",
    "# 存储到csv文件中\n",
    "save.to_excel('sa.xlsx')\n",
    "# 存储到excel"
   ]
  },
  {
   "cell_type": "code",
   "execution_count": null,
   "metadata": {},
   "outputs": [],
   "source": [
    "# 关于talib，技术分析用的一个包，安装过程可以百度一下\n",
    "# 技术分析使用这个包可以省去很多步骤，比如计算macd，ma，布林线等"
   ]
  },
  {
   "cell_type": "code",
   "execution_count": null,
   "metadata": {},
   "outputs": [],
   "source": [
    "# 举个例子，计算一个股票的ROCR指标，其实是ROC的移动平均\n",
    "# ROC(Price Rate of Change)又称变动率指标，今天的收盘价比较其N天前的收盘价的差除以N天前的收盘价（本质其实是N日K线的涨幅）\n",
    "# 重置\n",
    "import numpy as np\n",
    "import pandas as pd\n",
    "import talib as ta\n",
    "from pyexcel_xls import get_data\n",
    "# 对于读取多个子表格的excel时，这个模块很方便\n",
    "import matplotlib.pyplot as plt\n",
    "import warnings\n",
    "warnings.filterwarnings(\"ignore\")\n",
    "# 忽略警告"
   ]
  },
  {
   "cell_type": "code",
   "execution_count": null,
   "metadata": {},
   "outputs": [],
   "source": [
    "# 读取文件\n",
    "df1 = get_data('sz50.xlsx')\n",
    "code = list(df1.keys())\n",
    "# 因为这个excel中子表格很多，因此，通过get_data获取到excel对应的一个字典，字典的keys就是子表格名字，可以方便后期使用"
   ]
  },
  {
   "cell_type": "code",
   "execution_count": null,
   "metadata": {},
   "outputs": [],
   "source": [
    "data_dict = {}\n",
    "for i in code:\n",
    "    data = pd.read_excel('sz50.xlsx', sheetname=i, index_col= 'datetime')\n",
    "    data_dict[i] = data.loc['2017-01-03': '2017-11-20']\n",
    "PN = pd.Panel(data_dict)\n",
    "\n",
    "data_rocr = PN.ix[:, :, 'close']"
   ]
  },
  {
   "cell_type": "code",
   "execution_count": null,
   "metadata": {},
   "outputs": [],
   "source": [
    "data_rocr"
   ]
  },
  {
   "cell_type": "code",
   "execution_count": null,
   "metadata": {},
   "outputs": [],
   "source": [
    "#用talib计算50只股票的周期为5的ROCR100，生成Dataframe\n",
    "rocr100_5 = pd.DataFrame()\n",
    "data_rocr.dropna(how= 'all', axis = 1, inplace= True)\n",
    "code = list(data_rocr)\n",
    "for i in code:\n",
    "    rocr100_5[i] = ta.ROCR100(data_rocr[i], 5)\n",
    "\n",
    "print(rocr100_5)"
   ]
  },
  {
   "cell_type": "code",
   "execution_count": null,
   "metadata": {},
   "outputs": [],
   "source": [
    "plt.figure(figsize=(15, 7))\n",
    "plt.plot(rocr100_5.ix[:, 0])\n",
    "plt.plot(rocr100_5.ix[:, 1])\n",
    "plt.plot(rocr100_5.ix[:, 2])\n",
    "plt.plot(rocr100_5.ix[:, 3])\n",
    "plt.plot(rocr100_5.ix[:, 4])\n",
    "plt.legend(list(rocr100_5)[:5])\n",
    "plt.show()"
   ]
  }
 ],
 "metadata": {
  "kernelspec": {
   "display_name": "Python 3",
   "language": "python",
   "name": "python3"
  },
  "language_info": {
   "codemirror_mode": {
    "name": "ipython",
    "version": 3
   },
   "file_extension": ".py",
   "mimetype": "text/x-python",
   "name": "python",
   "nbconvert_exporter": "python",
   "pygments_lexer": "ipython3",
   "version": "3.6.5"
  }
 },
 "nbformat": 4,
 "nbformat_minor": 2
}
