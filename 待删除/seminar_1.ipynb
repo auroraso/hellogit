{
 "cells": [
  {
   "cell_type": "code",
   "execution_count": null,
   "metadata": {},
   "outputs": [],
   "source": [
    "import pandas as pd\n",
    "import numpy as np"
   ]
  },
  {
   "cell_type": "code",
   "execution_count": null,
   "metadata": {},
   "outputs": [],
   "source": [
    "# 第一部分——基础简介"
   ]
  },
  {
   "cell_type": "code",
   "execution_count": null,
   "metadata": {},
   "outputs": [],
   "source": [
    "#变量的赋值以及显示\n",
    "#python中一切皆为对象，可以对任何对象进行操作\n",
    "pv = 22\n",
    "pv + 2"
   ]
  },
  {
   "cell_type": "code",
   "execution_count": null,
   "metadata": {},
   "outputs": [],
   "source": [
    "pv"
   ]
  },
  {
   "cell_type": "code",
   "execution_count": null,
   "metadata": {},
   "outputs": [],
   "source": [
    "sqrt(3)#由于sqrt是math包里的函数，因此必须要引用此函数，要不然会报错"
   ]
  },
  {
   "cell_type": "code",
   "execution_count": null,
   "metadata": {},
   "outputs": [],
   "source": [
    "import math\n",
    "math.sqrt(3)"
   ]
  },
  {
   "cell_type": "code",
   "execution_count": null,
   "metadata": {},
   "outputs": [],
   "source": [
    "#不能调用没有赋值的变量\n",
    "abd"
   ]
  },
  {
   "cell_type": "code",
   "execution_count": null,
   "metadata": {},
   "outputs": [],
   "source": [
    "#查找已经使用的变量和函数\n",
    "dir()\n",
    "# dir(math)\n",
    "# dir('')#列出所有的字符串函数"
   ]
  },
  {
   "cell_type": "code",
   "execution_count": null,
   "metadata": {},
   "outputs": [],
   "source": [
    "#删除变量\n",
    "pv"
   ]
  },
  {
   "cell_type": "code",
   "execution_count": null,
   "metadata": {},
   "outputs": [],
   "source": [
    "del pv"
   ]
  },
  {
   "cell_type": "code",
   "execution_count": null,
   "metadata": {},
   "outputs": [],
   "source": [
    "#加减乘除运算+,-,*,除法比较特别\n",
    "7/3"
   ]
  },
  {
   "cell_type": "code",
   "execution_count": null,
   "metadata": {},
   "outputs": [],
   "source": [
    "7//3#取整"
   ]
  },
  {
   "cell_type": "code",
   "execution_count": null,
   "metadata": {},
   "outputs": [],
   "source": [
    "7%3#取余"
   ]
  },
  {
   "cell_type": "code",
   "execution_count": null,
   "metadata": {},
   "outputs": [],
   "source": [
    "7**3#幂函数"
   ]
  },
  {
   "cell_type": "code",
   "execution_count": 14,
   "metadata": {},
   "outputs": [
    {
     "data": {
      "text/plain": [
       "343"
      ]
     },
     "execution_count": 14,
     "metadata": {},
     "output_type": "execute_result"
    }
   ],
   "source": [
    "pow(7, 3)#幂函数"
   ]
  },
  {
   "cell_type": "code",
   "execution_count": 16,
   "metadata": {},
   "outputs": [
    {
     "data": {
      "text/plain": [
       "3"
      ]
     },
     "execution_count": 16,
     "metadata": {},
     "output_type": "execute_result"
    }
   ],
   "source": [
    "pow(7, 3, 4)#幂函数之后再取余数"
   ]
  },
  {
   "cell_type": "code",
   "execution_count": null,
   "metadata": {},
   "outputs": [],
   "source": [
    "help(pow)"
   ]
  },
  {
   "cell_type": "code",
   "execution_count": null,
   "metadata": {},
   "outputs": [],
   "source": [
    "payment = 3 / 7"
   ]
  },
  {
   "cell_type": "code",
   "execution_count": null,
   "metadata": {},
   "outputs": [],
   "source": [
    "payment"
   ]
  },
  {
   "cell_type": "code",
   "execution_count": null,
   "metadata": {},
   "outputs": [],
   "source": [
    "#保留小数\n",
    "round(payment, 3)"
   ]
  },
  {
   "cell_type": "code",
   "execution_count": null,
   "metadata": {},
   "outputs": [],
   "source": [
    "#派，e，对数，指数函数\n",
    "math.pi"
   ]
  },
  {
   "cell_type": "code",
   "execution_count": null,
   "metadata": {},
   "outputs": [],
   "source": [
    "math.e"
   ]
  },
  {
   "cell_type": "code",
   "execution_count": null,
   "metadata": {},
   "outputs": [],
   "source": [
    "math.exp(2.2)#e的2.2次幂"
   ]
  },
  {
   "cell_type": "code",
   "execution_count": null,
   "metadata": {},
   "outputs": [],
   "source": [
    "#以e为底\n",
    "math.log(math.e)"
   ]
  },
  {
   "cell_type": "code",
   "execution_count": null,
   "metadata": {},
   "outputs": [],
   "source": [
    "math.log10(10)"
   ]
  },
  {
   "cell_type": "code",
   "execution_count": null,
   "metadata": {},
   "outputs": [],
   "source": [
    "#from ** import *和import **区别\n",
    "from math import *\n",
    "sqrt(3)"
   ]
  },
  {
   "cell_type": "code",
   "execution_count": null,
   "metadata": {},
   "outputs": [],
   "source": [
    "pi"
   ]
  },
  {
   "cell_type": "code",
   "execution_count": null,
   "metadata": {},
   "outputs": [],
   "source": [
    "dir()\n",
    "#尽管很方便，但是有一个弊端，就是不能再给e或者pi赋值，如果赋值，那么就会发生改变"
   ]
  },
  {
   "cell_type": "code",
   "execution_count": null,
   "metadata": {},
   "outputs": [],
   "source": [
    "pi = 3\n",
    "pi"
   ]
  },
  {
   "cell_type": "code",
   "execution_count": null,
   "metadata": {},
   "outputs": [],
   "source": [
    "type(2.7)"
   ]
  },
  {
   "cell_type": "code",
   "execution_count": null,
   "metadata": {},
   "outputs": [],
   "source": [
    "type(np.array([[1, 2, 3],\n",
    "             [2, 3, 4]]))"
   ]
  },
  {
   "cell_type": "code",
   "execution_count": null,
   "metadata": {},
   "outputs": [],
   "source": [
    "9+7"
   ]
  },
  {
   "cell_type": "code",
   "execution_count": null,
   "metadata": {},
   "outputs": [],
   "source": [
    "#下划线表示上一个结果，不过我感觉不是很常用\n",
    "4 + _"
   ]
  },
  {
   "cell_type": "code",
   "execution_count": null,
   "metadata": {},
   "outputs": [],
   "source": [
    "#两个字符串的结合\n",
    "x = 'This'\n",
    "y = 'is'\n",
    "x + ' ' + y"
   ]
  },
  {
   "cell_type": "code",
   "execution_count": null,
   "metadata": {},
   "outputs": [],
   "source": [
    "#小写变为大写\n",
    "z = _\n",
    "z\n",
    "# z.upper()"
   ]
  },
  {
   "cell_type": "code",
   "execution_count": null,
   "metadata": {},
   "outputs": [],
   "source": [
    "z = ' ' + z + ' '\n",
    "z"
   ]
  },
  {
   "cell_type": "code",
   "execution_count": null,
   "metadata": {},
   "outputs": [],
   "source": [
    "#strip()函数可以删除字符串开头和结尾的空格\n",
    "z.strip()"
   ]
  },
  {
   "cell_type": "code",
   "execution_count": null,
   "metadata": {},
   "outputs": [],
   "source": [
    "#元组数据类型(tuple)，特征是圆括号和逗号\n",
    "x = ('john', 21)\n",
    "type(x)"
   ]
  },
  {
   "cell_type": "code",
   "execution_count": null,
   "metadata": {},
   "outputs": [],
   "source": [
    "len(x)#查看该元组有几个数据项"
   ]
  },
  {
   "cell_type": "code",
   "execution_count": null,
   "metadata": {},
   "outputs": [],
   "source": [
    "x[0]"
   ]
  },
  {
   "cell_type": "code",
   "execution_count": null,
   "metadata": {},
   "outputs": [],
   "source": [
    "type(x[1])"
   ]
  },
  {
   "cell_type": "code",
   "execution_count": null,
   "metadata": {},
   "outputs": [],
   "source": [
    "#定义元组（0个或1个数据）\n",
    "z = ()\n",
    "type(z)"
   ]
  },
  {
   "cell_type": "code",
   "execution_count": null,
   "metadata": {},
   "outputs": [],
   "source": [
    "y = (1, )\n",
    "type(y)"
   ]
  },
  {
   "cell_type": "code",
   "execution_count": null,
   "metadata": {},
   "outputs": [],
   "source": [
    "#元组内的值无法更改，是元组最重要的特征，之后会讲到list\n",
    "inv = ('npv', 100, 'R', 20)\n",
    "inv[1] = 200"
   ]
  },
  {
   "cell_type": "code",
   "execution_count": null,
   "metadata": {},
   "outputs": [],
   "source": [
    "#介绍了一些基本概念和常用的python内置函数，如赋值、数值精度、加、减、乘、除、幂函数等运算"
   ]
  },
  {
   "cell_type": "code",
   "execution_count": null,
   "metadata": {},
   "outputs": [],
   "source": [
    "#编写函数(注意缩进问题)\n",
    "def pv_f(fv, r, n):\n",
    "    return fv/(1 + r) ** n"
   ]
  },
  {
   "cell_type": "code",
   "execution_count": null,
   "metadata": {},
   "outputs": [],
   "source": [
    "dir()#检查函数是否存在\n",
    "# pv_f(100, 0.1, 5)"
   ]
  },
  {
   "cell_type": "code",
   "execution_count": null,
   "metadata": {},
   "outputs": [],
   "source": [
    "#如果想要把自己做的函数存起来，该怎么做\n",
    "#如果还有一个函数，都放在一起该怎么做\n",
    "def pv_perpetuity(c, r):\n",
    "    '''\n",
    "    一个永息债券\n",
    "    '''\n",
    "    return c/r\n",
    "from test01 import pv_f"
   ]
  },
  {
   "cell_type": "code",
   "execution_count": null,
   "metadata": {},
   "outputs": [],
   "source": [
    "#关于注释的方法：两种\n",
    "#第一种\n",
    "'''\n",
    "第二种\n",
    "可以多行注释\n",
    "使用pycharm编写函数时，在多行注释上可以有些快捷操作\n",
    "'''"
   ]
  },
  {
   "cell_type": "code",
   "execution_count": null,
   "metadata": {},
   "outputs": [],
   "source": [
    "# 条件函数：if()\n",
    "# 计算增长型永久年金的现值\n",
    "# pv = c/(R-g),R为每期折现率，g是恒定的每期增长率，该式子成立的一个必要条件是，折现率大于增长率，即R>g，这个条件可以考虑用if条件来实现\n",
    "def pv_growing_perpetuity(c, r, g):\n",
    "    if(r < g):\n",
    "        print('r<g !!!')\n",
    "    else:\n",
    "        return(c / (r - g))"
   ]
  },
  {
   "cell_type": "code",
   "execution_count": null,
   "metadata": {},
   "outputs": [],
   "source": [
    "pv_growing_perpetuity(10, 0.1, 0.08)\n",
    "# pv_growing_perpetuity(10, 0.1, 0.18)"
   ]
  },
  {
   "cell_type": "code",
   "execution_count": null,
   "metadata": {},
   "outputs": [],
   "source": [
    "#利率互换，见ppt\n",
    "(1 + 0.05/2)**2 - 1"
   ]
  },
  {
   "cell_type": "code",
   "execution_count": null,
   "metadata": {},
   "outputs": [],
   "source": [
    "(1 + 0.051/4)**4 - 1"
   ]
  },
  {
   "cell_type": "code",
   "execution_count": null,
   "metadata": {},
   "outputs": [],
   "source": [
    "#连续复利利率（PPT）\n",
    "2*log(1+0.05/2)"
   ]
  },
  {
   "cell_type": "code",
   "execution_count": null,
   "metadata": {},
   "outputs": [],
   "source": [
    "#数据类型：列表，用[]来定义，可以容纳不同类型的数据，并且数据可以进行更改，和元组不同\n",
    "record = ['john', 1, 'EN']\n",
    "record"
   ]
  },
  {
   "cell_type": "code",
   "execution_count": null,
   "metadata": {},
   "outputs": [],
   "source": [
    "record[0] = 2\n",
    "record"
   ]
  },
  {
   "cell_type": "code",
   "execution_count": null,
   "metadata": {},
   "outputs": [],
   "source": [
    "record[1:]\n",
    "# record[:2]\n",
    "# record[::-1]"
   ]
  },
  {
   "cell_type": "code",
   "execution_count": null,
   "metadata": {},
   "outputs": [],
   "source": [
    "#净现值的计算，PPT\n",
    "def npv_f(rate, cashflows):\n",
    "    total = 0.0\n",
    "    for i, cashflow in enumerate(cashflows):\n",
    "        total += cashflow / (1 + rate)**i\n",
    "    return total"
   ]
  },
  {
   "cell_type": "code",
   "execution_count": null,
   "metadata": {},
   "outputs": [],
   "source": [
    "#关于enumerate()遍历函数\n",
    "for i in range (10):\n",
    "    print(i)\n",
    "# for m, n in enumerate(range(10)):\n",
    "#     print(m, n)"
   ]
  },
  {
   "cell_type": "code",
   "execution_count": null,
   "metadata": {},
   "outputs": [],
   "source": [
    "r = 0.05\n",
    "cashflows = [-100, 20, 40, 50, 20, 10]\n",
    "npv_f(r, cashflows)"
   ]
  },
  {
   "cell_type": "code",
   "execution_count": null,
   "metadata": {},
   "outputs": [],
   "source": [
    "#内部收益率,PPT\n",
    "def IRR_f(cashflows, iterations=100):\n",
    "    rate = 1.0\n",
    "    investment = cashflows[0]\n",
    "    for i in range(1, iterations+1):\n",
    "        rate*=(1-npv_f(rate, cashflows) / investment)\n",
    "    return rate"
   ]
  },
  {
   "cell_type": "code",
   "execution_count": null,
   "metadata": {},
   "outputs": [],
   "source": [
    "IRR_f(cashflows)"
   ]
  },
  {
   "cell_type": "code",
   "execution_count": null,
   "metadata": {},
   "outputs": [],
   "source": [
    "#计算看涨期权价格\n",
    "from math import *\n",
    "def CND(X):\n",
    "  (a1,a2,a3,a4,a5)=(0.31938153,-0.356563782,1.781477937,-1.821255978,1.330274429)\n",
    "  L = abs(X)\n",
    "  K=1.0/(1.0+0.2316419*L)\n",
    "  w=1.0-1.0/sqrt(2*pi)*exp(-L*L/2.)*(a1*K+a2*K*K+a3*pow(K,3)+a4*pow(K,4)+a5*pow(K,5))\n",
    "  if X<0:\n",
    "       w = 1.0-w\n",
    "  return w\n",
    "#CND是一个计算累积正态分布的函数，之后可以使用scipy包来改进\n",
    "\n",
    "def bs_call(S,X,T,r,sigma):\n",
    "    d1 = (log(S/X)+(r+sigma*sigma/2.)*T)/(sigma*sqrt(T))\n",
    "    d2 = d1-sigma*sqrt(T)\n",
    "    return S*CND(d1)-X*exp(-r*T)*CND(d2)"
   ]
  },
  {
   "cell_type": "code",
   "execution_count": null,
   "metadata": {},
   "outputs": [],
   "source": [
    "bs_call(40, 42, 0.5, 0.1, 0.2)"
   ]
  },
  {
   "cell_type": "code",
   "execution_count": null,
   "metadata": {},
   "outputs": [],
   "source": [
    "#第二部分——模块简介\n",
    "#重启\n",
    "# PPT"
   ]
  },
  {
   "cell_type": "code",
   "execution_count": null,
   "metadata": {},
   "outputs": [],
   "source": [
    "#引入模块：import ...\n",
    "# 模块只有安装了才可以通过import 来使用\n",
    "# 查看内置函数的方法\n",
    "dir(__builtins__)#这些都是不需要引入模块就可以直接使用的函数"
   ]
  },
  {
   "cell_type": "code",
   "execution_count": null,
   "metadata": {},
   "outputs": [],
   "source": [
    "# 为导入的模块取个简称，之后就可以使用简称来调用该模块中的制定函数\n",
    "import time as tt\n",
    "tt.localtime()"
   ]
  },
  {
   "cell_type": "code",
   "execution_count": null,
   "metadata": {},
   "outputs": [],
   "source": [
    "# 显示模块里的所有函数\n",
    "dir(tt)"
   ]
  },
  {
   "cell_type": "code",
   "execution_count": null,
   "metadata": {},
   "outputs": [],
   "source": [
    "# 删除已经导入的模块\n",
    "dir()\n",
    "# del tt\n",
    "# dir()"
   ]
  },
  {
   "cell_type": "code",
   "execution_count": null,
   "metadata": {},
   "outputs": [],
   "source": [
    "tt.localtime()"
   ]
  },
  {
   "cell_type": "code",
   "execution_count": null,
   "metadata": {},
   "outputs": [],
   "source": [
    "# 但是\n",
    "from math import *"
   ]
  },
  {
   "cell_type": "code",
   "execution_count": null,
   "metadata": {},
   "outputs": [],
   "source": [
    "del math"
   ]
  },
  {
   "cell_type": "code",
   "execution_count": null,
   "metadata": {},
   "outputs": [],
   "source": [
    "sqrt(3)"
   ]
  },
  {
   "cell_type": "code",
   "execution_count": null,
   "metadata": {},
   "outputs": [],
   "source": [
    "#必须单独删除各个函数\n",
    "del sqrt"
   ]
  },
  {
   "cell_type": "code",
   "execution_count": null,
   "metadata": {},
   "outputs": [],
   "source": [
    "sqrt(3)"
   ]
  },
  {
   "cell_type": "code",
   "execution_count": null,
   "metadata": {},
   "outputs": [],
   "source": [
    "# 如果只需要一个模块中固定的几个函数，可以只导入固定的几个函数\n",
    "from math import log, exp, sqrt\n",
    "round(exp(2), 4)"
   ]
  },
  {
   "cell_type": "code",
   "execution_count": null,
   "metadata": {},
   "outputs": [],
   "source": [
    "# 查看某个模块是否安装，运行时间较长\n",
    "help()#之后输入想要查找的模块，输入modules和该模块的名字，如matplotlib，如果安装了就会出现相关的信息，如果没有就会出错"
   ]
  },
  {
   "cell_type": "code",
   "execution_count": null,
   "metadata": {},
   "outputs": [],
   "source": [
    "# 找到一个已安装的的模块的目录位置\n",
    "import numpy as np\n",
    "np\n",
    "# 如果不小心建立了一些模块，可以通过这个方法找到路径然后进行修改和调试"
   ]
  },
  {
   "cell_type": "code",
   "execution_count": null,
   "metadata": {},
   "outputs": [],
   "source": [
    "# 安装额外的模块\n",
    "# pip install --pandas\n",
    "# pip install --upgrade pandas\n",
    "# https://pypi.org 可以搜索了解相关模块的更新和介绍\n",
    "# anaconda是一个很好用的工具，附带了常用的模块"
   ]
  },
  {
   "cell_type": "code",
   "execution_count": 2,
   "metadata": {},
   "outputs": [],
   "source": [
    "# numpy介绍\n",
    "# 重启\n",
    "import numpy as np\n",
    "import scipy as sp"
   ]
  },
  {
   "cell_type": "code",
   "execution_count": 10,
   "metadata": {},
   "outputs": [
    {
     "data": {
      "text/plain": [
       "array([[1, 2, 3],\n",
       "       [4, 5, 6]])"
      ]
     },
     "execution_count": 10,
     "metadata": {},
     "output_type": "execute_result"
    }
   ],
   "source": [
    "x = np.array([[1,2,3], [4,5,6]])    # 2 by 3 matrix\n",
    "# 关于np.array,PPT\n",
    "x"
   ]
  },
  {
   "cell_type": "code",
   "execution_count": 4,
   "metadata": {},
   "outputs": [
    {
     "data": {
      "text/plain": [
       "6"
      ]
     },
     "execution_count": 4,
     "metadata": {},
     "output_type": "execute_result"
    }
   ],
   "source": [
    "np.size(x)          # 含有多少个数据"
   ]
  },
  {
   "cell_type": "code",
   "execution_count": 6,
   "metadata": {},
   "outputs": [
    {
     "data": {
      "text/plain": [
       "2"
      ]
     },
     "execution_count": 6,
     "metadata": {},
     "output_type": "execute_result"
    }
   ],
   "source": [
    "np.size(x, 1)         # 含有多少列（1代表列，0代表行）    2 by 3 matrix\n",
    "# np.size(x, 0)"
   ]
  },
  {
   "cell_type": "code",
   "execution_count": 8,
   "metadata": {},
   "outputs": [
    {
     "data": {
      "text/plain": [
       "array([0.81649658, 1.24721913])"
      ]
     },
     "execution_count": 8,
     "metadata": {},
     "output_type": "execute_result"
    }
   ],
   "source": [
    "np.std(x) #注意这个计算的是所有数据的标准差，所以只有一个\n",
    "np.std(x,1)#这个计算的是的标准差，所以只有一个"
   ]
  },
  {
   "cell_type": "code",
   "execution_count": 14,
   "metadata": {},
   "outputs": [
    {
     "name": "stdout",
     "output_type": "stream",
     "text": [
      "21\n",
      "[ 6 15]\n",
      "[5 7 9]\n"
     ]
    }
   ],
   "source": [
    "#关于计算都是看的方向，而合并等操作是看的行还是列\n",
    "total=x.sum() \n",
    "total_1=x.sum(1)\n",
    "total_0=x.sum(0)\n",
    "print(total)\n",
    "print(total_1)\n",
    "print(total_0)"
   ]
  },
  {
   "cell_type": "code",
   "execution_count": 20,
   "metadata": {},
   "outputs": [
    {
     "name": "stdout",
     "output_type": "stream",
     "text": [
      "[0.63458559 0.41233835 0.71231315 0.52326743 0.44816205 0.72839831\n",
      " 0.1221781  0.49744998 0.38642377 0.67003275]\n",
      "[ 1.3303649   0.60942726 -0.4874245   0.18438597  1.56164498 -0.30208345\n",
      "  0.04669108  0.61654309 -1.01148287  0.94097457  1.9364555   1.00817669\n",
      " -0.291972   -0.5979444   0.10695547 -0.35498646  1.45633184  1.36816689\n",
      " -0.07237152  0.59270241 -2.34224997 -0.11616983  1.31648658  0.51755157\n",
      "  1.04275799 -0.6686726  -1.90473158 -1.10897622 -1.39664699 -1.04927937\n",
      "  0.22251816  1.04586865  0.27699812  0.31125916 -1.03918932  0.78693767\n",
      " -1.15424508  0.70538303 -0.01032345 -0.00501034  0.15226672 -2.27497029\n",
      "  0.38284524  1.35829045  1.07211829 -0.1654419  -0.1991972   0.12159483\n",
      " -0.60033672  1.93787673 -0.83070918  1.97601803  0.81288099 -0.33137227\n",
      "  0.69108079 -0.75114884 -0.82726146 -0.2975359   0.80184153  0.93079175\n",
      " -2.23564635  0.34002272 -0.12590857 -0.47836565 -0.11738461  2.91199215\n",
      " -0.27055458 -0.97780495 -0.51013537 -0.3923747  -0.71878335 -1.21961044\n",
      " -1.20099473  1.47242508 -0.15822734  0.20178581 -0.29697334 -0.41357807\n",
      " -0.51598606  1.65797366  0.43883003 -0.19675249  0.14487846  0.1537431\n",
      "  1.24150512  0.20158087  0.34190494  0.54393375 -0.64973368  0.6033037\n",
      "  1.28330859  0.80774279 -0.15483363  0.07668477  0.41288837 -1.08269653\n",
      "  1.3564813   1.73473558  0.77729023 -1.78442807]\n",
      "[0.   0.01 0.02 0.03 0.04 0.05 0.06 0.07 0.08 0.09 0.1  0.11 0.12 0.13\n",
      " 0.14 0.15 0.16 0.17 0.18 0.19 0.2  0.21 0.22 0.23 0.24 0.25 0.26 0.27\n",
      " 0.28 0.29 0.3  0.31 0.32 0.33 0.34 0.35 0.36 0.37 0.38 0.39 0.4  0.41\n",
      " 0.42 0.43 0.44 0.45 0.46 0.47 0.48 0.49 0.5  0.51 0.52 0.53 0.54 0.55\n",
      " 0.56 0.57 0.58 0.59 0.6  0.61 0.62 0.63 0.64 0.65 0.66 0.67 0.68 0.69\n",
      " 0.7  0.71 0.72 0.73 0.74 0.75 0.76 0.77 0.78 0.79 0.8  0.81 0.82 0.83\n",
      " 0.84 0.85 0.86 0.87 0.88 0.89 0.9  0.91 0.92 0.93 0.94 0.95 0.96 0.97\n",
      " 0.98 0.99]\n"
     ]
    }
   ],
   "source": [
    "# 关于产生随机数\n",
    "z=np.random.rand(10)    # 10 random obs from [0,1], float\n",
    "print(z)\n",
    "y=np.random.normal(size=100)   # from standard normal\n",
    "print(y)\n",
    "r=np.array(range(0,100))/100  # from 0, .10,to .99\n",
    "print(r)"
   ]
  },
  {
   "cell_type": "code",
   "execution_count": 22,
   "metadata": {},
   "outputs": [
    {
     "name": "stdout",
     "output_type": "stream",
     "text": [
      "[ 1.  2.  3. 20.]\n"
     ]
    },
    {
     "ename": "ValueError",
     "evalue": "could not convert string to float: 'good'",
     "output_type": "error",
     "traceback": [
      "\u001b[0;31m---------------------------------------------------------------------------\u001b[0m",
      "\u001b[0;31mValueError\u001b[0m                                Traceback (most recent call last)",
      "\u001b[0;32m<ipython-input-22-b876086e4418>\u001b[0m in \u001b[0;36m<module>\u001b[0;34m()\u001b[0m\n\u001b[1;32m      5\u001b[0m \u001b[0;34m\u001b[0m\u001b[0m\n\u001b[1;32m      6\u001b[0m \u001b[0mx2\u001b[0m\u001b[0;34m=\u001b[0m\u001b[0;34m[\u001b[0m\u001b[0;36m1\u001b[0m\u001b[0;34m,\u001b[0m\u001b[0;36m2\u001b[0m\u001b[0;34m,\u001b[0m\u001b[0;36m3\u001b[0m\u001b[0;34m,\u001b[0m\u001b[0;34m\"good\"\u001b[0m\u001b[0;34m]\u001b[0m\u001b[0;34m\u001b[0m\u001b[0m\n\u001b[0;32m----> 7\u001b[0;31m \u001b[0my2\u001b[0m\u001b[0;34m=\u001b[0m\u001b[0mnp\u001b[0m\u001b[0;34m.\u001b[0m\u001b[0marray\u001b[0m\u001b[0;34m(\u001b[0m\u001b[0mx2\u001b[0m\u001b[0;34m,\u001b[0m\u001b[0mfloat\u001b[0m\u001b[0;34m)\u001b[0m\u001b[0;34m\u001b[0m\u001b[0m\n\u001b[0m\u001b[1;32m      8\u001b[0m \u001b[0mprint\u001b[0m\u001b[0;34m(\u001b[0m\u001b[0my2\u001b[0m\u001b[0;34m)\u001b[0m\u001b[0;34m\u001b[0m\u001b[0m\n",
      "\u001b[0;31mValueError\u001b[0m: could not convert string to float: 'good'"
     ]
    }
   ],
   "source": [
    "# 关于array中数据类型\n",
    "x1=[1,2,3,20]\n",
    "y1=np.array(x1,dtype=float)\n",
    "print(y1)\n",
    "\n",
    "x2=[1,2,3,\"good\"]\n",
    "y2=np.array(x2,float)\n",
    "print(y2)"
   ]
  },
  {
   "cell_type": "code",
   "execution_count": 1,
   "metadata": {},
   "outputs": [],
   "source": [
    "# scipy介绍\n",
    "import scipy as sp"
   ]
  },
  {
   "cell_type": "code",
   "execution_count": 24,
   "metadata": {},
   "outputs": [
    {
     "name": "stdout",
     "output_type": "stream",
     "text": [
      "144.56\n"
     ]
    }
   ],
   "source": [
    "cashflows=[50,40,20,10,50]\n",
    "x=sp.npv(0.1,cashflows)   #estimate NPV（净现值），第一个参数是折现率，第二个参数是现金流的数组，是个list\n",
    "print(round(x,2))"
   ]
  },
  {
   "cell_type": "code",
   "execution_count": 25,
   "metadata": {},
   "outputs": [
    {
     "name": "stdout",
     "output_type": "stream",
     "text": [
      "100.0\n"
     ]
    }
   ],
   "source": [
    "c=[100]\n",
    "print(sp.npv(0.1,c))#说明scipy中NPV的计算第一笔是期初金额"
   ]
  },
  {
   "cell_type": "code",
   "execution_count": 26,
   "metadata": {},
   "outputs": [
    {
     "name": "stdout",
     "output_type": "stream",
     "text": [
      "31.41\n"
     ]
    }
   ],
   "source": [
    "cashflows1=[-100,50,40,20,10,50]\n",
    "x1=sp.npv(0.1,cashflows1)   #estimate NPV\n",
    "print(round(x1,2))"
   ]
  },
  {
   "cell_type": "code",
   "execution_count": 2,
   "metadata": {},
   "outputs": [
    {
     "data": {
      "text/plain": [
       "<function numpy.lib.financial.pmt(rate, nper, pv, fv=0, when='end')>"
      ]
     },
     "execution_count": 2,
     "metadata": {},
     "output_type": "execute_result"
    }
   ],
   "source": [
    "# 关于payment计算，PPT\n",
    "sp.pmt#可以查看具体参数"
   ]
  },
  {
   "cell_type": "code",
   "execution_count": 4,
   "metadata": {},
   "outputs": [
    {
     "name": "stdout",
     "output_type": "stream",
     "text": [
      "-1266.71\n"
     ]
    }
   ],
   "source": [
    "payment=sp.pmt(rate= 0.045/12, nper= 30*12, pv= 250000)\n",
    "print(round(payment,2))"
   ]
  },
  {
   "cell_type": "code",
   "execution_count": 5,
   "metadata": {},
   "outputs": [
    {
     "name": "stdout",
     "output_type": "stream",
     "text": [
      "-62.09\n",
      "-379.08\n"
     ]
    }
   ],
   "source": [
    "#pv（现值）计算\n",
    "pv1=sp.pv(rate= 0.1, nper= 5, pmt=0, fv= 100)  # pv of one future cash flow\n",
    "print(round(pv1,2))\n",
    "\n",
    "pv2=sp.pv(rate= 0.1, nper=5, pmt= 100)    # pv of annuity\n",
    "print(round(pv2,2))"
   ]
  },
  {
   "cell_type": "code",
   "execution_count": 8,
   "metadata": {},
   "outputs": [
    {
     "data": {
      "text/plain": [
       "<function numpy.lib.financial.fv(rate, nper, pmt, pv, when='end')>"
      ]
     },
     "execution_count": 8,
     "metadata": {},
     "output_type": "execute_result"
    }
   ],
   "source": [
    "sp.fv#和pv类似，就不举例子了"
   ]
  },
  {
   "cell_type": "code",
   "execution_count": null,
   "metadata": {},
   "outputs": [],
   "source": [
    "# 关于计算均值，PPT"
   ]
  },
  {
   "cell_type": "code",
   "execution_count": 10,
   "metadata": {},
   "outputs": [
    {
     "name": "stdout",
     "output_type": "stream",
     "text": [
      "3.0\n",
      "2.8845\n"
     ]
    }
   ],
   "source": [
    "# 假设a，b，c三个数，分别为2, 3, 4\n",
    "print((2+3+4)/3)           # 算数平均\n",
    "geo_mean=(2*3*4)**(1./3)   # 几何平均\n",
    "print(round(geo_mean,4))"
   ]
  },
  {
   "cell_type": "code",
   "execution_count": 18,
   "metadata": {},
   "outputs": [
    {
     "name": "stdout",
     "output_type": "stream",
     "text": [
      "0.04333333333333334\n",
      "0.04216388706767926\n"
     ]
    }
   ],
   "source": [
    "# 计算收益率时\n",
    "# sp.prod()函数计算所有数据项的乘积\n",
    "ret=sp.array([0.1,0.05,-0.02])\n",
    "m1=sp.mean(ret)   # atithmetic mean\n",
    "print(m1)\n",
    "m2=pow(sp.prod(ret + 1),1./len(ret))-1   # geometric mean\n",
    "print(m2)"
   ]
  },
  {
   "cell_type": "code",
   "execution_count": 21,
   "metadata": {},
   "outputs": [
    {
     "name": "stdout",
     "output_type": "stream",
     "text": [
      "[2 3 4 6]\n",
      "4.0\n"
     ]
    }
   ],
   "source": [
    "# 两个比较有用的函数：sp.unique()和sp.median()\n",
    "r1=sp.unique([2,3,4,6,6,4,4])\n",
    "print(r1)\n",
    "r2=sp.median([1,2,3,4,5])\n",
    "print(r2)"
   ]
  },
  {
   "cell_type": "code",
   "execution_count": 22,
   "metadata": {},
   "outputs": [
    {
     "name": "stdout",
     "output_type": "stream",
     "text": [
      "['ALLOW_THREADS', 'AxisError', 'BUFSIZE', 'CLIP', 'ComplexWarning', 'DataSource', 'ERR_CALL', 'ERR_DEFAULT', 'ERR_IGNORE', 'ERR_LOG', 'ERR_PRINT', 'ERR_RAISE', 'ERR_WARN', 'FLOATING_POINT_SUPPORT', 'FPE_DIVIDEBYZERO', 'FPE_INVALID', 'FPE_OVERFLOW', 'FPE_UNDERFLOW', 'False_', 'Inf', 'Infinity', 'MAXDIMS', 'MAY_SHARE_BOUNDS', 'MAY_SHARE_EXACT', 'MachAr', 'ModuleDeprecationWarning', 'NAN', 'NINF', 'NZERO', 'NaN', 'PINF', 'PZERO', 'PackageLoader', 'RAISE', 'RankWarning', 'SHIFT_DIVIDEBYZERO', 'SHIFT_INVALID', 'SHIFT_OVERFLOW', 'SHIFT_UNDERFLOW', 'ScalarType', 'Tester', 'TooHardError', 'True_', 'UFUNC_BUFSIZE_DEFAULT', 'UFUNC_PYVALS_NAME', 'VisibleDeprecationWarning', 'WRAP', '_NoValue', '__NUMPY_SETUP__', '__all__', '__builtins__', '__cached__', '__config__', '__doc__', '__file__', '__git_revision__', '__loader__', '__mkl_version__', '__name__', '__package__', '__path__', '__spec__', '__version__', '_distributor_init', '_globals', '_import_tools', '_mat', '_mklinit', '_numpy_tester', 'abs', 'absolute', 'absolute_import', 'add', 'add_docstring', 'add_newdoc', 'add_newdoc_ufunc', 'add_newdocs', 'alen', 'all', 'allclose', 'alltrue', 'amax', 'amin', 'angle', 'any', 'append', 'apply_along_axis', 'apply_over_axes', 'arange', 'arccos', 'arccosh', 'arcsin', 'arcsinh', 'arctan', 'arctan2', 'arctanh', 'argmax', 'argmin', 'argpartition', 'argsort', 'argwhere', 'around', 'array', 'array2string', 'array_equal', 'array_equiv', 'array_repr', 'array_split', 'array_str', 'asanyarray', 'asarray', 'asarray_chkfinite', 'ascontiguousarray', 'asfarray', 'asfortranarray', 'asmatrix', 'asscalar', 'atleast_1d', 'atleast_2d', 'atleast_3d', 'average', 'bartlett', 'base_repr', 'bench', 'binary_repr', 'bincount', 'bitwise_and', 'bitwise_not', 'bitwise_or', 'bitwise_xor', 'blackman', 'block', 'bmat', 'bool', 'bool8', 'bool_', 'broadcast', 'broadcast_arrays', 'broadcast_to', 'busday_count', 'busday_offset', 'busdaycalendar', 'byte', 'byte_bounds', 'bytes0', 'bytes_', 'c_', 'can_cast', 'cast', 'cbrt', 'cdouble', 'ceil', 'cfloat', 'char', 'character', 'chararray', 'choose', 'clip', 'clongdouble', 'clongfloat', 'column_stack', 'common_type', 'compare_chararrays', 'compat', 'complex', 'complex128', 'complex256', 'complex64', 'complex_', 'complexfloating', 'compress', 'concatenate', 'conj', 'conjugate', 'convolve', 'copy', 'copysign', 'copyto', 'core', 'corrcoef', 'correlate', 'cos', 'cosh', 'count_nonzero', 'cov', 'cross', 'csingle', 'ctypeslib', 'cumprod', 'cumproduct', 'cumsum', 'datetime64', 'datetime_as_string', 'datetime_data', 'deg2rad', 'degrees', 'delete', 'deprecate', 'deprecate_with_doc', 'diag', 'diag_indices', 'diag_indices_from', 'diagflat', 'diagonal', 'diff', 'digitize', 'disp', 'divide', 'division', 'divmod', 'dot', 'double', 'dsplit', 'dstack', 'dtype', 'e', 'ediff1d', 'einsum', 'einsum_path', 'emath', 'empty', 'empty_like', 'equal', 'erf', 'errstate', 'euler_gamma', 'exp', 'exp2', 'expand_dims', 'expm1', 'extract', 'eye', 'fabs', 'fastCopyAndTranspose', 'fft', 'fill_diagonal', 'find_common_type', 'finfo', 'fix', 'flatiter', 'flatnonzero', 'flexible', 'flip', 'fliplr', 'flipud', 'float', 'float128', 'float16', 'float32', 'float64', 'float_', 'float_power', 'floating', 'floor', 'floor_divide', 'fmax', 'fmin', 'fmod', 'format_float_positional', 'format_float_scientific', 'format_parser', 'frexp', 'frombuffer', 'fromfile', 'fromfunction', 'fromiter', 'frompyfunc', 'fromregex', 'fromstring', 'full', 'full_like', 'fv', 'generic', 'genfromtxt', 'geomspace', 'get_array_wrap', 'get_include', 'get_printoptions', 'getbufsize', 'geterr', 'geterrcall', 'geterrobj', 'gradient', 'greater', 'greater_equal', 'half', 'hamming', 'hanning', 'heaviside', 'histogram', 'histogram2d', 'histogramdd', 'hsplit', 'hstack', 'hypot', 'i0', 'identity', 'iinfo', 'imag', 'in1d', 'index_exp', 'indices', 'inexact', 'inf', 'info', 'infty', 'inner', 'insert', 'int', 'int0', 'int16', 'int32', 'int64', 'int8', 'int_', 'int_asbuffer', 'intc', 'integer', 'interp', 'intersect1d', 'intp', 'invert', 'ipmt', 'irr', 'is_busday', 'isclose', 'iscomplex', 'iscomplexobj', 'isfinite', 'isfortran', 'isin', 'isinf', 'isnan', 'isnat', 'isneginf', 'isposinf', 'isreal', 'isrealobj', 'isscalar', 'issctype', 'issubclass_', 'issubdtype', 'issubsctype', 'iterable', 'ix_', 'kaiser', 'kron', 'ldexp', 'left_shift', 'less', 'less_equal', 'lexsort', 'lib', 'linalg', 'linspace', 'little_endian', 'load', 'loads', 'loadtxt', 'log', 'log10', 'log1p', 'log2', 'logaddexp', 'logaddexp2', 'logical_and', 'logical_not', 'logical_or', 'logical_xor', 'logspace', 'long', 'longcomplex', 'longdouble', 'longfloat', 'longlong', 'lookfor', 'ma', 'mafromtxt', 'mask_indices', 'mat', 'math', 'matmul', 'matrix', 'matrixlib', 'max', 'maximum', 'maximum_sctype', 'may_share_memory', 'mean', 'median', 'memmap', 'meshgrid', 'mgrid', 'min', 'min_scalar_type', 'minimum', 'mintypecode', 'mirr', 'mod', 'modf', 'moveaxis', 'msort', 'multiply', 'nan', 'nan_to_num', 'nanargmax', 'nanargmin', 'nancumprod', 'nancumsum', 'nanmax', 'nanmean', 'nanmedian', 'nanmin', 'nanpercentile', 'nanprod', 'nanstd', 'nansum', 'nanvar', 'nbytes', 'ndarray', 'ndenumerate', 'ndfromtxt', 'ndim', 'ndindex', 'nditer', 'negative', 'nested_iters', 'newaxis', 'nextafter', 'nonzero', 'not_equal', 'nper', 'npv', 'numarray', 'number', 'obj2sctype', 'object', 'object0', 'object_', 'ogrid', 'oldnumeric', 'ones', 'ones_like', 'os', 'outer', 'packbits', 'pad', 'partition', 'percentile', 'pi', 'piecewise', 'pkgload', 'place', 'pmt', 'poly', 'poly1d', 'polyadd', 'polyder', 'polydiv', 'polyfit', 'polyint', 'polymul', 'polynomial', 'polysub', 'polyval', 'positive', 'power', 'ppmt', 'print_function', 'prod', 'product', 'promote_types', 'ptp', 'put', 'putmask', 'pv', 'r_', 'rad2deg', 'radians', 'random', 'rank', 'rate', 'ravel', 'ravel_multi_index', 'real', 'real_if_close', 'rec', 'recarray', 'recfromcsv', 'recfromtxt', 'reciprocal', 'record', 'remainder', 'repeat', 'require', 'reshape', 'resize', 'result_type', 'right_shift', 'rint', 'roll', 'rollaxis', 'roots', 'rot90', 'round', 'round_', 'row_stack', 's_', 'safe_eval', 'save', 'savetxt', 'savez', 'savez_compressed', 'sctype2char', 'sctypeDict', 'sctypeNA', 'sctypes', 'searchsorted', 'select', 'set_numeric_ops', 'set_printoptions', 'set_string_function', 'setbufsize', 'setdiff1d', 'seterr', 'seterrcall', 'seterrobj', 'setxor1d', 'shape', 'shares_memory', 'short', 'show_config', 'sign', 'signbit', 'signedinteger', 'sin', 'sinc', 'single', 'singlecomplex', 'sinh', 'size', 'sometrue', 'sort', 'sort_complex', 'source', 'spacing', 'split', 'sqrt', 'square', 'squeeze', 'stack', 'std', 'str', 'str0', 'str_', 'string_', 'subtract', 'sum', 'swapaxes', 'sys', 'take', 'tan', 'tanh', 'tensordot', 'test', 'testing', 'tile', 'timedelta64', 'trace', 'tracemalloc_domain', 'transpose', 'trapz', 'tri', 'tril', 'tril_indices', 'tril_indices_from', 'trim_zeros', 'triu', 'triu_indices', 'triu_indices_from', 'true_divide', 'trunc', 'typeDict', 'typeNA', 'typecodes', 'typename', 'ubyte', 'ufunc', 'uint', 'uint0', 'uint16', 'uint32', 'uint64', 'uint8', 'uintc', 'uintp', 'ulonglong', 'unicode', 'unicode_', 'union1d', 'unique', 'unpackbits', 'unravel_index', 'unsignedinteger', 'unwrap', 'ushort', 'vander', 'var', 'vdot', 'vectorize', 'version', 'void', 'void0', 'vsplit', 'vstack', 'warnings', 'where', 'who', 'zeros', 'zeros_like']\n"
     ]
    }
   ],
   "source": [
    "#显示numpy模块里的所有函数\n",
    "import numpy as np\n",
    "print(dir(np))"
   ]
  },
  {
   "cell_type": "code",
   "execution_count": 23,
   "metadata": {},
   "outputs": [
    {
     "name": "stdout",
     "output_type": "stream",
     "text": [
      "620\n",
      "['diag_indices' 'diag_indices_from' 'diagflat' 'diagonal' 'diff'\n",
      " 'digitize' 'disp' 'divide' 'division' 'divmod']\n"
     ]
    }
   ],
   "source": [
    "x=np.array(dir(np))\n",
    "print(len(x))      # showing the length of the array\n",
    "print(x[200:210])  # showing 10 lines starting from 200"
   ]
  },
  {
   "cell_type": "code",
   "execution_count": 28,
   "metadata": {},
   "outputs": [
    {
     "name": "stdout",
     "output_type": "stream",
     "text": [
      "['ALLOW_THREADS', 'AxisError', 'BUFSIZE', 'CLIP', 'ComplexWarning', 'DataSource', 'ERR_CALL', 'ERR_DEFAULT', 'ERR_IGNORE', 'ERR_LOG', 'ERR_PRINT', 'ERR_RAISE', 'ERR_WARN', 'FLOATING_POINT_SUPPORT', 'FPE_DIVIDEBYZERO', 'FPE_INVALID', 'FPE_OVERFLOW', 'FPE_UNDERFLOW', 'False_', 'Inf', 'Infinity', 'LowLevelCallable', 'MAXDIMS', 'MAY_SHARE_BOUNDS', 'MAY_SHARE_EXACT', 'MachAr', 'ModuleDeprecationWarning', 'NAN', 'NINF', 'NZERO', 'NaN', 'PINF', 'PZERO', 'PackageLoader', 'RAISE', 'RankWarning', 'SHIFT_DIVIDEBYZERO', 'SHIFT_INVALID', 'SHIFT_OVERFLOW', 'SHIFT_UNDERFLOW', 'ScalarType', 'TooHardError', 'True_', 'UFUNC_BUFSIZE_DEFAULT', 'UFUNC_PYVALS_NAME', 'VisibleDeprecationWarning', 'WRAP', '__SCIPY_SETUP__', '__all__', '__builtins__', '__cached__', '__config__', '__doc__', '__file__', '__loader__', '__name__', '__numpy_version__', '__package__', '__path__', '__spec__', '__version__', '_distributor_init', '_lib', 'absolute', 'absolute_import', 'add', 'add_docstring', 'add_newdoc', 'add_newdoc_ufunc', 'add_newdocs', 'alen', 'all', 'allclose', 'alltrue', 'amax', 'amin', 'angle', 'any', 'append', 'apply_along_axis', 'apply_over_axes', 'arange', 'arccos', 'arccosh', 'arcsin', 'arcsinh', 'arctan', 'arctan2', 'arctanh', 'argmax', 'argmin', 'argpartition', 'argsort', 'argwhere', 'around', 'array', 'array2string', 'array_equal', 'array_equiv', 'array_repr', 'array_split', 'array_str', 'asanyarray', 'asarray', 'asarray_chkfinite', 'ascontiguousarray', 'asfarray', 'asfortranarray', 'asmatrix', 'asscalar', 'atleast_1d', 'atleast_2d', 'atleast_3d', 'average', 'bartlett', 'base_repr', 'binary_repr', 'bincount', 'bitwise_and', 'bitwise_not', 'bitwise_or', 'bitwise_xor', 'blackman', 'block', 'bmat', 'bool8', 'bool_', 'broadcast', 'broadcast_arrays', 'broadcast_to', 'busday_count', 'busday_offset', 'busdaycalendar', 'byte', 'byte_bounds', 'bytes0', 'bytes_', 'c_', 'can_cast', 'cast', 'cbrt', 'cdouble', 'ceil', 'cfloat', 'char', 'character', 'chararray', 'choose', 'clip', 'clongdouble', 'clongfloat', 'column_stack', 'common_type', 'compare_chararrays', 'complex128', 'complex256', 'complex64', 'complex_', 'complexfloating', 'compress', 'concatenate', 'conj', 'conjugate', 'convolve', 'copy', 'copysign', 'copyto', 'corrcoef', 'correlate', 'cos', 'cosh', 'count_nonzero', 'cov', 'cross', 'csingle', 'ctypeslib', 'cumprod', 'cumproduct', 'cumsum', 'datetime64', 'datetime_as_string', 'datetime_data', 'deg2rad', 'degrees', 'delete', 'deprecate', 'deprecate_with_doc', 'diag', 'diag_indices', 'diag_indices_from', 'diagflat', 'diagonal', 'diff', 'digitize', 'disp', 'divide', 'division', 'divmod', 'dot', 'double', 'dsplit', 'dstack', 'dtype', 'e', 'ediff1d', 'einsum', 'einsum_path', 'emath', 'empty', 'empty_like', 'equal', 'erf', 'errstate', 'euler_gamma', 'exp', 'exp2', 'expand_dims', 'expm1', 'extract', 'eye', 'fabs', 'fastCopyAndTranspose', 'fft', 'fill_diagonal', 'find_common_type', 'finfo', 'fix', 'flatiter', 'flatnonzero', 'flexible', 'flip', 'fliplr', 'flipud', 'float128', 'float16', 'float32', 'float64', 'float_', 'float_power', 'floating', 'floor', 'floor_divide', 'fmax', 'fmin', 'fmod', 'format_float_positional', 'format_float_scientific', 'format_parser', 'frexp', 'frombuffer', 'fromfile', 'fromfunction', 'fromiter', 'frompyfunc', 'fromregex', 'fromstring', 'full', 'full_like', 'fv', 'generic', 'genfromtxt', 'geomspace', 'get_array_wrap', 'get_include', 'get_printoptions', 'getbufsize', 'geterr', 'geterrcall', 'geterrobj', 'gradient', 'greater', 'greater_equal', 'half', 'hamming', 'hanning', 'heaviside', 'histogram', 'histogram2d', 'histogramdd', 'hsplit', 'hstack', 'hypot', 'i0', 'identity', 'ifft', 'iinfo', 'imag', 'in1d', 'index_exp', 'indices', 'inexact', 'inf', 'info', 'infty', 'inner', 'insert', 'int0', 'int16', 'int32', 'int64', 'int8', 'int_', 'int_asbuffer', 'intc', 'integer', 'interp', 'intersect1d', 'intp', 'invert', 'ipmt', 'irr', 'is_busday', 'isclose', 'iscomplex', 'iscomplexobj', 'isfinite', 'isfortran', 'isin', 'isinf', 'isnan', 'isnat', 'isneginf', 'isposinf', 'isreal', 'isrealobj', 'isscalar', 'issctype', 'issubclass_', 'issubdtype', 'issubsctype', 'iterable', 'ix_', 'kaiser', 'kron', 'ldexp', 'left_shift', 'less', 'less_equal', 'lexsort', 'linspace', 'little_endian', 'load', 'loads', 'loadtxt', 'log', 'log10', 'log1p', 'log2', 'logaddexp', 'logaddexp2', 'logical_and', 'logical_not', 'logical_or', 'logical_xor', 'logn', 'logspace', 'long', 'longcomplex', 'longdouble', 'longfloat', 'longlong', 'lookfor', 'ma', 'mafromtxt', 'mask_indices', 'mat', 'math', 'matmul', 'matrix', 'maximum', 'maximum_sctype', 'may_share_memory', 'mean', 'median', 'memmap', 'meshgrid', 'mgrid', 'min_scalar_type', 'minimum', 'mintypecode', 'mirr', 'mod', 'modf', 'moveaxis', 'msort', 'multiply', 'nan', 'nan_to_num', 'nanargmax', 'nanargmin', 'nancumprod', 'nancumsum', 'nanmax', 'nanmean', 'nanmedian', 'nanmin', 'nanpercentile', 'nanprod', 'nanstd', 'nansum', 'nanvar', 'nbytes', 'ndarray', 'ndenumerate', 'ndfromtxt', 'ndim', 'ndindex', 'nditer', 'negative', 'nested_iters', 'newaxis', 'nextafter', 'nonzero', 'not_equal', 'nper', 'npv', 'number', 'obj2sctype', 'object0', 'object_', 'ogrid', 'ones', 'ones_like', 'outer', 'packbits', 'pad', 'partition', 'percentile', 'pi', 'piecewise', 'pkgload', 'place', 'pmt', 'poly', 'poly1d', 'polyadd', 'polyder', 'polydiv', 'polyfit', 'polyint', 'polymul', 'polysub', 'polyval', 'positive', 'power', 'ppmt', 'print_function', 'prod', 'product', 'promote_types', 'ptp', 'put', 'putmask', 'pv', 'r_', 'rad2deg', 'radians', 'rand', 'randn', 'random', 'rank', 'rate', 'ravel', 'ravel_multi_index', 'real', 'real_if_close', 'rec', 'recarray', 'recfromcsv', 'recfromtxt', 'reciprocal', 'record', 'remainder', 'repeat', 'require', 'reshape', 'resize', 'result_type', 'right_shift', 'rint', 'roll', 'rollaxis', 'roots', 'rot90', 'round_', 'row_stack', 's_', 'safe_eval', 'save', 'savetxt', 'savez', 'savez_compressed', 'sctype2char', 'sctypeDict', 'sctypeNA', 'sctypes', 'searchsorted', 'select', 'set_numeric_ops', 'set_printoptions', 'set_string_function', 'setbufsize', 'setdiff1d', 'seterr', 'seterrcall', 'seterrobj', 'setxor1d', 'shape', 'shares_memory', 'short', 'show_config', 'show_numpy_config', 'sign', 'signbit', 'signedinteger', 'sin', 'sinc', 'single', 'singlecomplex', 'sinh', 'size', 'sometrue', 'sort', 'sort_complex', 'source', 'spacing', 'split', 'sqrt', 'square', 'squeeze', 'stack', 'std', 'str0', 'str_', 'string_', 'subtract', 'sum', 'swapaxes', 'take', 'tan', 'tanh', 'tensordot', 'test', 'tile', 'timedelta64', 'trace', 'tracemalloc_domain', 'transpose', 'trapz', 'tri', 'tril', 'tril_indices', 'tril_indices_from', 'trim_zeros', 'triu', 'triu_indices', 'triu_indices_from', 'true_divide', 'trunc', 'typeDict', 'typeNA', 'typecodes', 'typename', 'ubyte', 'ufunc', 'uint', 'uint0', 'uint16', 'uint32', 'uint64', 'uint8', 'uintc', 'uintp', 'ulonglong', 'unicode', 'unicode_', 'union1d', 'unique', 'unpackbits', 'unravel_index', 'unsignedinteger', 'unwrap', 'ushort', 'vander', 'var', 'vdot', 'vectorize', 'version', 'void', 'void0', 'vsplit', 'vstack', 'where', 'who', 'zeros', 'zeros_like']\n"
     ]
    }
   ],
   "source": [
    "# 同样可以应用到scipy模块\n",
    "print(dir(sp))"
   ]
  },
  {
   "cell_type": "code",
   "execution_count": 26,
   "metadata": {},
   "outputs": [
    {
     "name": "stdout",
     "output_type": "stream",
     "text": [
      "Help on function std in module numpy.core.fromnumeric:\n",
      "\n",
      "std(a, axis=None, dtype=None, out=None, ddof=0, keepdims=<class 'numpy._globals._NoValue'>)\n",
      "    Compute the standard deviation along the specified axis.\n",
      "    \n",
      "    Returns the standard deviation, a measure of the spread of a distribution,\n",
      "    of the array elements. The standard deviation is computed for the\n",
      "    flattened array by default, otherwise over the specified axis.\n",
      "    \n",
      "    Parameters\n",
      "    ----------\n",
      "    a : array_like\n",
      "        Calculate the standard deviation of these values.\n",
      "    axis : None or int or tuple of ints, optional\n",
      "        Axis or axes along which the standard deviation is computed. The\n",
      "        default is to compute the standard deviation of the flattened array.\n",
      "    \n",
      "        .. versionadded:: 1.7.0\n",
      "    \n",
      "        If this is a tuple of ints, a standard deviation is performed over\n",
      "        multiple axes, instead of a single axis or all the axes as before.\n",
      "    dtype : dtype, optional\n",
      "        Type to use in computing the standard deviation. For arrays of\n",
      "        integer type the default is float64, for arrays of float types it is\n",
      "        the same as the array type.\n",
      "    out : ndarray, optional\n",
      "        Alternative output array in which to place the result. It must have\n",
      "        the same shape as the expected output but the type (of the calculated\n",
      "        values) will be cast if necessary.\n",
      "    ddof : int, optional\n",
      "        Means Delta Degrees of Freedom.  The divisor used in calculations\n",
      "        is ``N - ddof``, where ``N`` represents the number of elements.\n",
      "        By default `ddof` is zero.\n",
      "    keepdims : bool, optional\n",
      "        If this is set to True, the axes which are reduced are left\n",
      "        in the result as dimensions with size one. With this option,\n",
      "        the result will broadcast correctly against the input array.\n",
      "    \n",
      "        If the default value is passed, then `keepdims` will not be\n",
      "        passed through to the `std` method of sub-classes of\n",
      "        `ndarray`, however any non-default value will be.  If the\n",
      "        sub-classes `sum` method does not implement `keepdims` any\n",
      "        exceptions will be raised.\n",
      "    \n",
      "    Returns\n",
      "    -------\n",
      "    standard_deviation : ndarray, see dtype parameter above.\n",
      "        If `out` is None, return a new array containing the standard deviation,\n",
      "        otherwise return a reference to the output array.\n",
      "    \n",
      "    See Also\n",
      "    --------\n",
      "    var, mean, nanmean, nanstd, nanvar\n",
      "    numpy.doc.ufuncs : Section \"Output arguments\"\n",
      "    \n",
      "    Notes\n",
      "    -----\n",
      "    The standard deviation is the square root of the average of the squared\n",
      "    deviations from the mean, i.e., ``std = sqrt(mean(abs(x - x.mean())**2))``.\n",
      "    \n",
      "    The average squared deviation is normally calculated as\n",
      "    ``x.sum() / N``, where ``N = len(x)``.  If, however, `ddof` is specified,\n",
      "    the divisor ``N - ddof`` is used instead. In standard statistical\n",
      "    practice, ``ddof=1`` provides an unbiased estimator of the variance\n",
      "    of the infinite population. ``ddof=0`` provides a maximum likelihood\n",
      "    estimate of the variance for normally distributed variables. The\n",
      "    standard deviation computed in this function is the square root of\n",
      "    the estimated variance, so even with ``ddof=1``, it will not be an\n",
      "    unbiased estimate of the standard deviation per se.\n",
      "    \n",
      "    Note that, for complex numbers, `std` takes the absolute\n",
      "    value before squaring, so that the result is always real and nonnegative.\n",
      "    \n",
      "    For floating-point input, the *std* is computed using the same\n",
      "    precision the input has. Depending on the input data, this can cause\n",
      "    the results to be inaccurate, especially for float32 (see example below).\n",
      "    Specifying a higher-accuracy accumulator using the `dtype` keyword can\n",
      "    alleviate this issue.\n",
      "    \n",
      "    Examples\n",
      "    --------\n",
      "    >>> a = np.array([[1, 2], [3, 4]])\n",
      "    >>> np.std(a)\n",
      "    1.1180339887498949\n",
      "    >>> np.std(a, axis=0)\n",
      "    array([ 1.,  1.])\n",
      "    >>> np.std(a, axis=1)\n",
      "    array([ 0.5,  0.5])\n",
      "    \n",
      "    In single precision, std() can be inaccurate:\n",
      "    \n",
      "    >>> a = np.zeros((2, 512*512), dtype=np.float32)\n",
      "    >>> a[0, :] = 1.0\n",
      "    >>> a[1, :] = 0.1\n",
      "    >>> np.std(a)\n",
      "    0.45000005\n",
      "    \n",
      "    Computing the standard deviation in float64 is more accurate:\n",
      "    \n",
      "    >>> np.std(a, dtype=np.float64)\n",
      "    0.44999999925494177\n",
      "\n"
     ]
    }
   ],
   "source": [
    "# 想要查找一个函数的信息时\n",
    "help(np.std)"
   ]
  },
  {
   "cell_type": "code",
   "execution_count": 29,
   "metadata": {},
   "outputs": [
    {
     "name": "stdout",
     "output_type": "stream",
     "text": [
      "<class 'list'>\n"
     ]
    }
   ],
   "source": [
    "# 定义一个list，list可以更改数据项，而且可以包含不同类型的数据\n",
    "x=[1,2,'John','M',\"Student\"]\n",
    "print(type(x))"
   ]
  },
  {
   "cell_type": "code",
   "execution_count": 30,
   "metadata": {},
   "outputs": [
    {
     "name": "stdout",
     "output_type": "stream",
     "text": [
      "[1, 2, 'John', 'M', 'Student']\n",
      "2\n",
      "['John', 'M', 'Student']\n"
     ]
    }
   ],
   "source": [
    "# 调用不同数据项的方法\n",
    "print(x)\n",
    "print(x[1])\n",
    "print(x[2:])"
   ]
  },
  {
   "cell_type": "code",
   "execution_count": 31,
   "metadata": {},
   "outputs": [
    {
     "data": {
      "text/plain": [
       "[1, 10, 'John', 'M', 'Student']"
      ]
     },
     "execution_count": 31,
     "metadata": {},
     "output_type": "execute_result"
    }
   ],
   "source": [
    "# 修改数据\n",
    "x[1]= 10\n",
    "x"
   ]
  },
  {
   "cell_type": "code",
   "execution_count": null,
   "metadata": {},
   "outputs": [],
   "source": [
    "# 关于list差集并集\n",
    "cc1 = ['a', 'b', 'c']\n",
    "cc2 = ['a', 'b', 'd']\n",
    "list(set(cc1) ^ set(cc2))#差集\n",
    "# list(set(cc1).union(set(cc2)))#并集\n",
    "# list(set(cc1).union(set(cc2)) ^ (set(cc1) ^ set(cc2)))#交集，即是两个集合的并集和差集的差集"
   ]
  },
  {
   "cell_type": "code",
   "execution_count": 33,
   "metadata": {},
   "outputs": [
    {
     "name": "stdout",
     "output_type": "stream",
     "text": [
      "[0. 0. 0. 0. 0. 0. 0. 0. 0. 0.]\n",
      "[[0. 0.]\n",
      " [0. 0.]\n",
      " [0. 0.]]\n",
      "[[1 1 1]\n",
      " [1 1 1]\n",
      " [1 1 1]\n",
      " [1 1 1]]\n",
      "[0. 1. 2. 3. 4. 5. 6. 7. 8. 9.]\n"
     ]
    }
   ],
   "source": [
    "a=np.zeros(10)                 # array with 10 zeros\n",
    "print(a)\n",
    "b=np.zeros((3,2),dtype=float)  # 3 by 2 with zeroa\n",
    "print(b)\n",
    "c=np.ones((4,3),float)         # 4 by 3 with all ones, (or int)\n",
    "print(c)\n",
    "d=np.array(range(10),float)    # 0,1,2,3.. up to 9\n",
    "print(d)"
   ]
  },
  {
   "cell_type": "code",
   "execution_count": 36,
   "metadata": {},
   "outputs": [
    {
     "name": "stdout",
     "output_type": "stream",
     "text": [
      "[[1. 0. 0. 0.]\n",
      " [0. 1. 0. 0.]\n",
      " [0. 0. 1. 0.]\n",
      " [0. 0. 0. 1.]]\n",
      "[[1. 0. 0. 0.]\n",
      " [0. 1. 0. 0.]\n",
      " [0. 0. 1. 0.]\n",
      " [0. 0. 0. 1.]]\n",
      "[[0. 1. 0. 0.]\n",
      " [0. 0. 1. 0.]\n",
      " [0. 0. 0. 1.]\n",
      " [0. 0. 0. 0.]]\n"
     ]
    }
   ],
   "source": [
    "e1=np.identity(4)              # identity 4 by 4 matrix\n",
    "print(e1)\n",
    "e2=np.eye(4)                   # same as above\n",
    "print(e2)\n",
    "e3=np.eye(4,k=1)               # 1 start from k\n",
    "print(e3)"
   ]
  },
  {
   "cell_type": "code",
   "execution_count": 39,
   "metadata": {},
   "outputs": [
    {
     "name": "stdout",
     "output_type": "stream",
     "text": [
      "[ 1.  4.  7. 10. 13. 16. 19.]\n"
     ]
    }
   ],
   "source": [
    "# 创建随机数时，可以设置间隔\n",
    "f=np.arange(1,20,3,float)      # from 1 to 19 interval 3\n",
    "print(f)"
   ]
  },
  {
   "cell_type": "code",
   "execution_count": 40,
   "metadata": {},
   "outputs": [
    {
     "name": "stdout",
     "output_type": "stream",
     "text": [
      "[[2 2 2]\n",
      " [3 3 3]]\n"
     ]
    }
   ],
   "source": [
    "g=np.array([[2,2,2],[3,3,3]])  # 2 by 3\n",
    "print(g)"
   ]
  },
  {
   "cell_type": "code",
   "execution_count": 42,
   "metadata": {},
   "outputs": [
    {
     "name": "stdout",
     "output_type": "stream",
     "text": [
      "[[0 0 0]\n",
      " [0 0 0]]\n",
      "[[1 1 1]\n",
      " [1 1 1]]\n"
     ]
    }
   ],
   "source": [
    "# 如果有一个现成的矩阵，如g，想要创造和他一样的全一矩阵或者全0矩阵，那么可以\n",
    "h=np.zeros_like(g)             # all zeros\n",
    "print(h)\n",
    "i=np.ones_like(g)              # all ones\n",
    "print(i)"
   ]
  },
  {
   "cell_type": "code",
   "execution_count": 46,
   "metadata": {},
   "outputs": [
    {
     "name": "stdout",
     "output_type": "stream",
     "text": [
      "[100.   10.   10.2  34.   22.   34. ]\n",
      "[[100.   10. ]\n",
      " [ 10.2  34. ]\n",
      " [ 22.   34. ]]\n"
     ]
    }
   ],
   "source": [
    "pv=np.array([[100,10,10.2],[34,22,34]])  # 2 by 3\n",
    "x=pv.flatten()                           # matrix becomes a vector\n",
    "print(x)\n",
    "vp2=np.reshape(x,[3,2])                  # 3 by 2 now\n",
    "print(vp2)\n",
    "# 也可以直接对pv进行变化"
   ]
  },
  {
   "cell_type": "code",
   "execution_count": 47,
   "metadata": {},
   "outputs": [
    {
     "name": "stdout",
     "output_type": "stream",
     "text": [
      "[-180  150  140]\n"
     ]
    }
   ],
   "source": [
    "# 数据的加减乘除\n",
    "cashflows_1=np.array([-100,50,20])\n",
    "cashflows_2=np.array([-80,100,120])\n",
    "print(cashflows_1+cashflows_2)"
   ]
  },
  {
   "cell_type": "code",
   "execution_count": 48,
   "metadata": {},
   "outputs": [
    {
     "name": "stdout",
     "output_type": "stream",
     "text": [
      "[[19. 23.]\n",
      " [43. 53.]]\n"
     ]
    }
   ],
   "source": [
    "# 矩阵乘法\n",
    "x=np.array([[1,2,3],[4,5,6]],float)   # 2 by 3 matrix\n",
    "y=np.array([[1,2],[3,3],[4,5]],float) # 3 by 2 matrix\n",
    "r=np.dot(x, y)\n",
    "print(r)"
   ]
  },
  {
   "cell_type": "code",
   "execution_count": 55,
   "metadata": {},
   "outputs": [
    {
     "name": "stdout",
     "output_type": "stream",
     "text": [
      "[[1. 2. 3.]\n",
      " [4. 5. 6.]]\n",
      "[[1. 2. 3.]\n",
      " [3. 4. 5.]]\n",
      "[[ 1.  4.  9.]\n",
      " [12. 20. 30.]]\n"
     ]
    }
   ],
   "source": [
    "y = y.reshape(2, 3)\n",
    "print(x)\n",
    "print(y)\n",
    "print(x*y)"
   ]
  },
  {
   "cell_type": "code",
   "execution_count": 45,
   "metadata": {},
   "outputs": [
    {
     "data": {
      "text/plain": [
       "array([[100. ,  10. ,  10.2],\n",
       "       [ 34. ,  22. ,  34. ]])"
      ]
     },
     "execution_count": 45,
     "metadata": {},
     "output_type": "execute_result"
    }
   ],
   "source": [
    "x1=np.array([[1,2,3],[4,5,6]],float)\n",
    "x2=np.matrix(x1) # from array to matrix\n",
    "x3=np.array(x2)  # from matrix to array\n",
    "print(x2)\n",
    "print(x3)\n",
    "\n",
    "x=np.array([[1,2,3],[4,5,6]],float)\n",
    "y=np.array([[2,1,2],[4,0,5]],float)\n",
    "print (x*y)"
   ]
  },
  {
   "cell_type": "code",
   "execution_count": 59,
   "metadata": {},
   "outputs": [
    {
     "name": "stdout",
     "output_type": "stream",
     "text": [
      "[[19 23]\n",
      " [43 53]]\n"
     ]
    }
   ],
   "source": [
    "# 关于乘法，还有一种方法，不过我感觉不太常用，掌握array方法就可以\n",
    "k=np.matrix(\"1,2,3;4,5,6\")\n",
    "r=np.matrix(\"1,2;3,3;4,5\")\n",
    "print(k*r)#这个方法的结果是和np.dot一样的"
   ]
  },
  {
   "cell_type": "code",
   "execution_count": 60,
   "metadata": {},
   "outputs": [
    {
     "name": "stdout",
     "output_type": "stream",
     "text": [
      "[[19 23]\n",
      " [43 53]]\n"
     ]
    }
   ],
   "source": [
    "print(np.dot(k, r))#也可以使用np.dot"
   ]
  },
  {
   "cell_type": "code",
   "execution_count": 63,
   "metadata": {},
   "outputs": [
    {
     "name": "stdout",
     "output_type": "stream",
     "text": [
      "6\n",
      "6\n"
     ]
    }
   ],
   "source": [
    "# 求和函数，当x是一个numpy数组时，可以直接使用x.function()进行相关操作\n",
    "x=np.array([1,2,3])\n",
    "print(x.sum())\n",
    "print(np.sum(x))"
   ]
  },
  {
   "cell_type": "code",
   "execution_count": 62,
   "metadata": {},
   "outputs": [
    {
     "name": "stdout",
     "output_type": "stream",
     "text": [
      "-100\n",
      "0\n"
     ]
    }
   ],
   "source": [
    "cashflows=np.array([-100,30,50,100,30,40])\n",
    "print(cashflows.min())#最小值\n",
    "print(cashflows.argmin())#最小值位置"
   ]
  },
  {
   "cell_type": "code",
   "execution_count": 64,
   "metadata": {},
   "outputs": [
    {
     "name": "stdout",
     "output_type": "stream",
     "text": [
      "-100\n",
      "50\n",
      "40\n",
      "30\n",
      "25\n",
      "-10\n",
      "50\n",
      "100\n"
     ]
    }
   ],
   "source": [
    "# 循环语句，依次打印每一个数值\n",
    "cash_flows=np.array([-100,50,40,30,25,-10,50,100])\n",
    "for cash in cash_flows:\n",
    "    print(cash)"
   ]
  },
  {
   "cell_type": "code",
   "execution_count": 73,
   "metadata": {},
   "outputs": [
    {
     "name": "stdout",
     "output_type": "stream",
     "text": [
      "True False\n"
     ]
    }
   ],
   "source": [
    "# 与数组有关的逻辑关系\n",
    "x=np.array([True,False,True,False],bool)\n",
    "a=any(x)  # if one item is TRUE then return TRUE\n",
    "b=all(x)  # if all are TRUE then return TRUE\n",
    "print(a,b)"
   ]
  },
  {
   "cell_type": "code",
   "execution_count": 74,
   "metadata": {},
   "outputs": [
    {
     "name": "stdout",
     "output_type": "stream",
     "text": [
      "[False  True  True  True  True False]\n",
      "[False  True  True  True False False]\n"
     ]
    }
   ],
   "source": [
    "cashflows = np.array([-100,50,40,30,100,-5])\n",
    "c=cashflows > 0\n",
    "print(c)\n",
    "d=np.logical_and(cashflows>0,cashflows<60)\n",
    "print(d)"
   ]
  },
  {
   "cell_type": "code",
   "execution_count": 72,
   "metadata": {},
   "outputs": [
    {
     "name": "stdout",
     "output_type": "stream",
     "text": [
      "[ 50  40  30 100]\n"
     ]
    }
   ],
   "source": [
    "# 如何通过条件提取数据\n",
    "index=(cashflows>0)  # index is a boolean variable\n",
    "print(cashflows[index])     # retrieve positive cashflows"
   ]
  },
  {
   "cell_type": "code",
   "execution_count": 65,
   "metadata": {},
   "outputs": [
    {
     "name": "stdout",
     "output_type": "stream",
     "text": [
      "0.5\n"
     ]
    }
   ],
   "source": [
    "# scipy模块有一系列的子函数包，比如stats包用于概率分布函数和统计分析，Optimize包用来优化和求解方程，常用的如stats包，使用哪个可以直接引用\n",
    "from scipy.stats import norm\n",
    "# 从scipy模块里的stats子函数包，引入norm函数\n",
    "print(norm.cdf(0))#累积正态分布在0处的取值"
   ]
  },
  {
   "cell_type": "code",
   "execution_count": 66,
   "metadata": {},
   "outputs": [
    {
     "name": "stdout",
     "output_type": "stream",
     "text": [
      "3.77\n"
     ]
    }
   ],
   "source": [
    "# 之前编写的BS公式，通过这个函数可以进行优化\n",
    "from scipy import log,exp,sqrt,stats\n",
    "def bs_call(S,X,T,r,sigma):\n",
    "    d1=(log(S/X)+(r+sigma*sigma/2.)*T)/(sigma*sqrt(T))\n",
    "    d2=d1-sigma*sqrt(T)\n",
    "    return S*stats.norm.cdf(d1)-X*exp(-r*T)*stats.norm.cdf(d2)\n",
    "\n",
    "price=bs_call(40,40,1,0.03,0.2)\n",
    "print(round(price,2))"
   ]
  },
  {
   "cell_type": "code",
   "execution_count": 75,
   "metadata": {},
   "outputs": [
    {
     "name": "stdout",
     "output_type": "stream",
     "text": [
      "['__all__', '__builtins__', '__cached__', '__doc__', '__file__', '__loader__', '__name__', '__package__', '__path__', '__spec__', '_binned_statistic', '_constants', '_continuous_distns', '_discrete_distns', '_distn_infrastructure', '_distr_params', '_multivariate', '_stats', '_stats_mstats_common', '_tukeylambda_stats', 'absolute_import', 'alpha', 'anderson', 'anderson_ksamp', 'anglit', 'ansari', 'arcsine', 'argus', 'bartlett', 'bayes_mvs', 'bernoulli', 'beta', 'betaprime', 'binned_statistic', 'binned_statistic_2d', 'binned_statistic_dd', 'binom', 'binom_test', 'boltzmann', 'boxcox', 'boxcox_llf', 'boxcox_normmax', 'boxcox_normplot', 'bradford', 'burr', 'burr12', 'cauchy', 'chi', 'chi2', 'chi2_contingency', 'chisquare', 'circmean', 'circstd', 'circvar', 'combine_pvalues', 'contingency', 'cosine', 'crystalball', 'cumfreq', 'describe', 'dgamma', 'dirichlet', 'distributions', 'division', 'dlaplace', 'dweibull', 'energy_distance', 'entropy', 'erlang', 'expon', 'exponnorm', 'exponpow', 'exponweib', 'f', 'f_oneway', 'fatiguelife', 'find_repeats', 'fisher_exact', 'fisk', 'fligner', 'foldcauchy', 'foldnorm', 'frechet_l', 'frechet_r', 'friedmanchisquare', 'gamma', 'gausshyper', 'gaussian_kde', 'genexpon', 'genextreme', 'gengamma', 'genhalflogistic', 'genlogistic', 'gennorm', 'genpareto', 'geom', 'gilbrat', 'gmean', 'gompertz', 'gumbel_l', 'gumbel_r', 'halfcauchy', 'halfgennorm', 'halflogistic', 'halfnorm', 'hmean', 'hypergeom', 'hypsecant', 'invgamma', 'invgauss', 'invweibull', 'invwishart', 'iqr', 'itemfreq', 'jarque_bera', 'johnsonsb', 'johnsonsu', 'kappa3', 'kappa4', 'kde', 'kendalltau', 'kruskal', 'ks_2samp', 'ksone', 'kstat', 'kstatvar', 'kstest', 'kstwobign', 'kurtosis', 'kurtosistest', 'laplace', 'levene', 'levy', 'levy_l', 'levy_stable', 'linregress', 'loggamma', 'logistic', 'loglaplace', 'lognorm', 'logser', 'lomax', 'mannwhitneyu', 'matrix_normal', 'maxwell', 'median_test', 'mielke', 'mode', 'moment', 'mood', 'morestats', 'moyal', 'mstats', 'mstats_basic', 'mstats_extras', 'multinomial', 'multivariate_normal', 'mvn', 'mvsdist', 'nakagami', 'nbinom', 'ncf', 'nct', 'ncx2', 'norm', 'normaltest', 'norminvgauss', 'obrientransform', 'ortho_group', 'pareto', 'pearson3', 'pearsonr', 'percentileofscore', 'planck', 'pointbiserialr', 'poisson', 'power_divergence', 'powerlaw', 'powerlognorm', 'powernorm', 'ppcc_max', 'ppcc_plot', 'print_function', 'probplot', 'randint', 'random_correlation', 'rankdata', 'ranksums', 'rayleigh', 'rdist', 'recipinvgauss', 'reciprocal', 'relfreq', 'rice', 'rv_continuous', 'rv_discrete', 'rv_histogram', 'scoreatpercentile', 'sem', 'semicircular', 'shapiro', 'sigmaclip', 'skellam', 'skew', 'skewnorm', 'skewtest', 'spearmanr', 'special_ortho_group', 'statlib', 'stats', 't', 'test', 'theilslopes', 'tiecorrect', 'tmax', 'tmean', 'tmin', 'trapz', 'triang', 'trim1', 'trim_mean', 'trimboth', 'truncexpon', 'truncnorm', 'tsem', 'tstd', 'ttest_1samp', 'ttest_ind', 'ttest_ind_from_stats', 'ttest_rel', 'tukeylambda', 'tvar', 'uniform', 'unitary_group', 'variation', 'vonmises', 'vonmises_line', 'wald', 'wasserstein_distance', 'weibull_max', 'weibull_min', 'weightedtau', 'wilcoxon', 'wishart', 'wrapcauchy', 'zipf', 'zmap', 'zscore']\n"
     ]
    }
   ],
   "source": [
    "from scipy import stats\n",
    "print(dir(stats))"
   ]
  },
  {
   "cell_type": "code",
   "execution_count": 97,
   "metadata": {},
   "outputs": [
    {
     "data": {
      "text/plain": [
       "-0.22970945459723696"
      ]
     },
     "execution_count": 97,
     "metadata": {},
     "output_type": "execute_result"
    }
   ],
   "source": [
    "# 通过seed可以获得一个固定的随机数据\n",
    "np.random.seed(124)            # get the same random values\n",
    "x=np.random.normal(0,1,100)    # mean=0, std=1\n",
    "skwe=stats.skew(x)             # 偏度，右偏\n",
    "skwe"
   ]
  },
  {
   "cell_type": "code",
   "execution_count": 95,
   "metadata": {},
   "outputs": [
    {
     "data": {
      "text/plain": [
       "0.041368736371759425"
      ]
     },
     "execution_count": 95,
     "metadata": {},
     "output_type": "execute_result"
    }
   ],
   "source": [
    "# 如果没有seed\n",
    "x_1=np.random.normal(0,1,100) \n",
    "skwe=stats.skew(x_1)            \n",
    "skwe"
   ]
  },
  {
   "cell_type": "code",
   "execution_count": 98,
   "metadata": {},
   "outputs": [
    {
     "name": "stdout",
     "output_type": "stream",
     "text": [
      "Ttest_1sampResult(statistic=1.1763312806843913, pvalue=0.24228334454436026)\n"
     ]
    }
   ],
   "source": [
    "# 随机生成服从标准正态分布的100个随机数，然后使用ttest_1samp函数进行单样本t检验，以测试均值是否为0，根据t值和p值，不能拒绝0假设，说明这个\n",
    "# 样本来自于均值为0的分布\n",
    "print(stats.ttest_1samp(x,0))  # if mean is zero, the result is T-value/P-value"
   ]
  },
  {
   "cell_type": "code",
   "execution_count": 88,
   "metadata": {},
   "outputs": [
    {
     "name": "stdout",
     "output_type": "stream",
     "text": [
      "Help on built-in function standard_t:\n",
      "\n",
      "standard_t(...) method of mtrand.RandomState instance\n",
      "    standard_t(df, size=None)\n",
      "    \n",
      "    Draw samples from a standard Student's t distribution with `df` degrees\n",
      "    of freedom.\n",
      "    \n",
      "    A special case of the hyperbolic distribution.  As `df` gets\n",
      "    large, the result resembles that of the standard normal\n",
      "    distribution (`standard_normal`).\n",
      "    \n",
      "    Parameters\n",
      "    ----------\n",
      "    df : float or array_like of floats\n",
      "        Degrees of freedom, should be > 0.\n",
      "    size : int or tuple of ints, optional\n",
      "        Output shape.  If the given shape is, e.g., ``(m, n, k)``, then\n",
      "        ``m * n * k`` samples are drawn.  If size is ``None`` (default),\n",
      "        a single value is returned if ``df`` is a scalar.  Otherwise,\n",
      "        ``np.array(df).size`` samples are drawn.\n",
      "    \n",
      "    Returns\n",
      "    -------\n",
      "    out : ndarray or scalar\n",
      "        Drawn samples from the parameterized standard Student's t distribution.\n",
      "    \n",
      "    Notes\n",
      "    -----\n",
      "    The probability density function for the t distribution is\n",
      "    \n",
      "    .. math:: P(x, df) = \\frac{\\Gamma(\\frac{df+1}{2})}{\\sqrt{\\pi df}\n",
      "              \\Gamma(\\frac{df}{2})}\\Bigl( 1+\\frac{x^2}{df} \\Bigr)^{-(df+1)/2}\n",
      "    \n",
      "    The t test is based on an assumption that the data come from a\n",
      "    Normal distribution. The t test provides a way to test whether\n",
      "    the sample mean (that is the mean calculated from the data) is\n",
      "    a good estimate of the true mean.\n",
      "    \n",
      "    The derivation of the t-distribution was first published in\n",
      "    1908 by William Gosset while working for the Guinness Brewery\n",
      "    in Dublin. Due to proprietary issues, he had to publish under\n",
      "    a pseudonym, and so he used the name Student.\n",
      "    \n",
      "    References\n",
      "    ----------\n",
      "    .. [1] Dalgaard, Peter, \"Introductory Statistics With R\",\n",
      "           Springer, 2002.\n",
      "    .. [2] Wikipedia, \"Student's t-distribution\"\n",
      "           http://en.wikipedia.org/wiki/Student's_t-distribution\n",
      "    \n",
      "    Examples\n",
      "    --------\n",
      "    From Dalgaard page 83 [1]_, suppose the daily energy intake for 11\n",
      "    women in Kj is:\n",
      "    \n",
      "    >>> intake = np.array([5260., 5470, 5640, 6180, 6390, 6515, 6805, 7515, \\\n",
      "    ...                    7515, 8230, 8770])\n",
      "    \n",
      "    Does their energy intake deviate systematically from the recommended\n",
      "    value of 7725 kJ?\n",
      "    \n",
      "    We have 10 degrees of freedom, so is the sample mean within 95% of the\n",
      "    recommended value?\n",
      "    \n",
      "    >>> s = np.random.standard_t(10, size=100000)\n",
      "    >>> np.mean(intake)\n",
      "    6753.636363636364\n",
      "    >>> intake.std(ddof=1)\n",
      "    1142.1232221373727\n",
      "    \n",
      "    Calculate the t statistic, setting the ddof parameter to the unbiased\n",
      "    value so the divisor in the standard deviation will be degrees of\n",
      "    freedom, N-1.\n",
      "    \n",
      "    >>> t = (np.mean(intake)-7725)/(intake.std(ddof=1)/np.sqrt(len(intake)))\n",
      "    >>> import matplotlib.pyplot as plt\n",
      "    >>> h = plt.hist(s, bins=100, normed=True)\n",
      "    \n",
      "    For a one-sided t-test, how far out in the distribution does the t\n",
      "    statistic appear?\n",
      "    \n",
      "    >>> np.sum(s<t) / float(len(s))\n",
      "    0.0090699999999999999  #random\n",
      "    \n",
      "    So the p-value is about 0.009, which says the null hypothesis has a\n",
      "    probability of about 99% of being true.\n",
      "\n"
     ]
    }
   ],
   "source": [
    "# 利用numpy可以产生符合若干分布的随机数\n",
    "s=np.random.standard_t(10,size=1000)   # from standard-T, df=10\n",
    "x=np.random.uniform(low=0.0,high=1.0,size=100)  # uniform\n",
    "help(np.random.standard_t)#可以查看参数"
   ]
  },
  {
   "cell_type": "code",
   "execution_count": 100,
   "metadata": {},
   "outputs": [
    {
     "name": "stdout",
     "output_type": "stream",
     "text": [
      "[137 308 113 252 193   2  12 228 233 225 445  74 318 266 153 363 324 156\n",
      " 101 410]\n"
     ]
    }
   ],
   "source": [
    "# 从1到500的整数中，随机选择20个数\n",
    "stocks=np.random.randint(1,500,20)\n",
    "print(stocks)"
   ]
  },
  {
   "cell_type": "code",
   "execution_count": 101,
   "metadata": {},
   "outputs": [],
   "source": [
    "# 通过scipy模块进行插值的方法\n",
    "# 需要引入interpolate子函数包和matplotlib绘图模块，关于matplotlib在之后讲\n",
    "import matplotlib.pyplot as plt\n",
    "from scipy.interpolate import interp1d"
   ]
  },
  {
   "cell_type": "code",
   "execution_count": 104,
   "metadata": {},
   "outputs": [
    {
     "data": {
      "text/plain": [
       "array([ 0.        ,  1.11111111,  2.22222222,  3.33333333,  4.44444444,\n",
       "        5.55555556,  6.66666667,  7.77777778,  8.88888889, 10.        ])"
      ]
     },
     "execution_count": 104,
     "metadata": {},
     "output_type": "execute_result"
    }
   ],
   "source": [
    "x=np.linspace(0,10,10)#从0到10生成10个等间距的数字，包括首尾，相当于平均分成了9份\n",
    "x"
   ]
  },
  {
   "cell_type": "code",
   "execution_count": 111,
   "metadata": {},
   "outputs": [
    {
     "data": {
      "image/png": "[encoded data removed]",
      "text/plain": [
       "<Figure size 432x288 with 1 Axes>"
      ]
     },
     "metadata": {},
     "output_type": "display_data"
    }
   ],
   "source": [
    "y=np.exp(-x/3.0)\n",
    "f=interp1d(x,y)\n",
    "f2=interp1d(x,y,kind=\"cubic\")#插值的方式可以选择，cubic是三阶样条插值\n",
    "xnew=np.linspace(0,10,40)\n",
    "plt.plot(x,y,'o',xnew,f(xnew),'-',xnew,f2(xnew),'--')#第一个位置自变量，第二个位置因变量，第三个位置代表怎么构图，'o'就是圆点，'-'实线，'--'虚线\n",
    "plt.legend(['data','linear','cubic'],loc='best')#loc = 'best'表示把标签放在合适的位置，还可以是upper left, upper right, center......\n",
    "plt.show()"
   ]
  },
  {
   "cell_type": "code",
   "execution_count": 123,
   "metadata": {},
   "outputs": [
    {
     "name": "stdout",
     "output_type": "stream",
     "text": [
      "[[-22.45454545]\n",
      " [ 10.09090909]\n",
      " [  2.45454545]]\n",
      "[[-22.45454545]\n",
      " [ 10.09090909]\n",
      " [  2.45454545]]\n"
     ]
    }
   ],
   "source": [
    "# 通过scipy解线性方程，PPT\n",
    "A=sp.mat('[1 2 5; 2 5 1; 2 3 8]')\n",
    "b=sp.mat('[10;8;5]')\n",
    "print(A.I*b)#A.I为A矩阵的逆矩阵\n",
    "print(np.linalg.solve(A,b))  # offer the same solution"
   ]
  },
  {
   "cell_type": "code",
   "execution_count": 122,
   "metadata": {},
   "outputs": [
    {
     "data": {
      "text/plain": [
       "matrix([[1, 2, 5],\n",
       "        [2, 5, 1],\n",
       "        [2, 3, 8]])"
      ]
     },
     "execution_count": 122,
     "metadata": {},
     "output_type": "execute_result"
    }
   ],
   "source": [
    "A"
   ]
  },
  {
   "cell_type": "code",
   "execution_count": 170,
   "metadata": {},
   "outputs": [
    {
     "name": "stdout",
     "output_type": "stream",
     "text": [
      "[0.84246515 0.41699805 0.95230823 0.80074551 0.25703913 0.88262531\n",
      " 0.88083906 0.23614498 0.15723194 0.20276373]\n",
      "[[0.63464184 0.00933742]\n",
      " [0.86180036 0.91188233]\n",
      " [0.55845753 0.18537444]\n",
      " [0.17698497 0.13656405]\n",
      " [0.23504776 0.7772465 ]]\n"
     ]
    }
   ],
   "source": [
    "x=sp.random.rand(10)    # 10 random numbers from [0,1]\n",
    "y=sp.random.rand(5,2)   # random numbers 5 by 2 array\n",
    "print(x)\n",
    "print(y)"
   ]
  },
  {
   "cell_type": "code",
   "execution_count": 171,
   "metadata": {},
   "outputs": [
    {
     "name": "stdout",
     "output_type": "stream",
     "text": [
      "[0.92961609 0.31637555 0.18391881 0.20456028 0.56772503]\n"
     ]
    }
   ],
   "source": [
    "# 以上生成的都是随机数字，但是有时需要一组固定的随机数来重复测试模型和代码，这时候就需要用到seed，给定一个特定的种子来重复获得随机数\n",
    "# np中也有，之前提到过\n",
    "sp.random.seed(12345)\n",
    "print(sp.random.rand(5))"
   ]
  },
  {
   "cell_type": "code",
   "execution_count": 175,
   "metadata": {},
   "outputs": [
    {
     "name": "stdout",
     "output_type": "stream",
     "text": [
      "unicode\n",
      "unicode_\n",
      "union1d\n",
      "unique\n"
     ]
    }
   ],
   "source": [
    "# 在导入的模块里查找函数\n",
    "# 可以把该模块所有函数赋值给一个变量，然后用循环语句来查找某个函数\n",
    "a=np.array(dir(np))\n",
    "for k in a:\n",
    "    if(k.find(\"uni\") != -1):\n",
    "        #find函数：在k中查找是否含有uni的字符，如果含有返回字符的位置，如果不含有则返回-1\n",
    "        print(k)"
   ]
  },
  {
   "cell_type": "code",
   "execution_count": 176,
   "metadata": {},
   "outputs": [
    {
     "name": "stdout",
     "output_type": "stream",
     "text": [
      "Optimization terminated successfully.\n",
      "         Current function value: 3.000000\n",
      "         Iterations: 20\n",
      "         Function evaluations: 40\n",
      "[0.]\n"
     ]
    }
   ],
   "source": [
    "#函数最优化问题，定义一个函数，找到自变量的取值来使得函数达到最大值或者最小值\n",
    "import scipy.optimize as optimize\n",
    "def my_f(x):\n",
    "    return 3+x**2\n",
    "print (optimize.fmin(my_f,5) )       # 5 is initial value"
   ]
  },
  {
   "cell_type": "code",
   "execution_count": 178,
   "metadata": {},
   "outputs": [
    {
     "name": "stdout",
     "output_type": "stream",
     "text": [
      "0.5077431878770808 -0.008481900352462384\n",
      "R-squared= 0.1478856629663111\n",
      "p-value= 0.5227155239089462\n"
     ]
    }
   ],
   "source": [
    "# CAPM模型，PPT\n",
    "from scipy import stats\n",
    "stock_ret=[0.065, 0.0265, -0.0593, -0.001, 0.0346]\n",
    "mkt_ret=[0.055, -0.09, -0.041, 0.045, 0.022]\n",
    "beta, alpha, r_value, p_value, std_err = stats.linregress(stock_ret, mkt_ret)\n",
    "print(beta, alpha)\n",
    "print(\"R-squared=\", r_value**2)\n",
    "print('p-value=', p_value)"
   ]
  },
  {
   "cell_type": "code",
   "execution_count": 59,
   "metadata": {},
   "outputs": [],
   "source": [
    "# matplotlib简介——绘图神器\n",
    "# 重启\n",
    "import matplotlib.pyplot as plt\n",
    "import numpy as np\n",
    "import scipy as sp"
   ]
  },
  {
   "cell_type": "code",
   "execution_count": 6,
   "metadata": {},
   "outputs": [
    {
     "data": {
      "image/png": "[encoded data removed]",
      "text/plain": [
       "<Figure size 432x288 with 1 Axes>"
      ]
     },
     "metadata": {},
     "output_type": "display_data"
    }
   ],
   "source": [
    "# 简单例子\n",
    "plt.plot([1,2,3,10])\n",
    "# xlabel('x- axis')\n",
    "# ylabel('my numbers')\n",
    "# title('my figure')\n",
    "plt.show()"
   ]
  },
  {
   "cell_type": "code",
   "execution_count": 10,
   "metadata": {},
   "outputs": [
    {
     "data": {
      "image/png": "[encoded data removed]",
      "text/plain": [
       "<Figure size 432x288 with 1 Axes>"
      ]
     },
     "metadata": {},
     "output_type": "display_data"
    }
   ],
   "source": [
    "# 正弦和余弦函数\n",
    "x = np.linspace(-np.pi, np.pi, 256)\n",
    "C, S=np.cos(x), np.sin(x)\n",
    "plt.plot(x,C)\n",
    "plt.plot(x,S)\n",
    "plt.show()"
   ]
  },
  {
   "cell_type": "code",
   "execution_count": 14,
   "metadata": {},
   "outputs": [
    {
     "data": {
      "image/png": "[encoded data removed]",
      "text/plain": [
       "<Figure size 432x288 with 1 Axes>"
      ]
     },
     "metadata": {},
     "output_type": "display_data"
    }
   ],
   "source": [
    "# 散点图\n",
    "# 首先，产生两组随机数（标准正态分布），每组1024个数字\n",
    "n=1024\n",
    "x=np.random.normal(0,1,n)\n",
    "y=np.random.normal(0,1,n)\n",
    "# x=np.linspace(1, 10, 1000)\n",
    "# y=np.linspace(1, 10, 1000)\n",
    "plt.scatter(x,y)\n",
    "plt.show()\n",
    "# 可以通过散点图来大致观察两只股票之间的相关性，假设x坐标和y坐标分别代表A，B两只股票一定时期的回报率，那么如果两只股票正相关，当A回报率高\n",
    "# 时候B也会高，A低时B也会低，那么散点图就会呈现倾斜向上的直线分布，举个极端的例子"
   ]
  },
  {
   "cell_type": "code",
   "execution_count": 14,
   "metadata": {},
   "outputs": [
    {
     "data": {
      "image/png": "[encoded data removed]",
      "text/plain": [
       "<Figure size 432x288 with 1 Axes>"
      ]
     },
     "metadata": {},
     "output_type": "display_data"
    }
   ],
   "source": [
    "# 绘制简单利率和复利利率的图像，PPT\n",
    "pv=1000\n",
    "r=0.08\n",
    "n=10\n",
    "t=np.linspace(0,n,n)\n",
    "y1=np.ones(len(t))*pv   # this is a horizontal line\n",
    "y2=pv*(1+r*t)\n",
    "y3=pv*(1+r)**t\n",
    "plt.title('Simple vs. compounded interest rate')\n",
    "plt.xlabel('Number of years')\n",
    "plt.ylabel('Values')\n",
    "plt.xlim(0, 11)\n",
    "plt.ylim(800, 2200)\n",
    "plt.plot(t, y1, 'b-')\n",
    "plt.plot(t, y2, 'g--')\n",
    "plt.plot(t, y3, 'r-')\n",
    "#plt.plot()第三个参数给出了颜色和线条形状，b代表蓝色，g绿色，r红色\n",
    "plt.show()"
   ]
  },
  {
   "cell_type": "code",
   "execution_count": 16,
   "metadata": {},
   "outputs": [
    {
     "data": {
      "image/png": "[encoded data removed]",
      "text/plain": [
       "<Figure size 432x288 with 1 Axes>"
      ]
     },
     "metadata": {},
     "output_type": "display_data"
    }
   ],
   "source": [
    "# 为图形添加文字\n",
    "x=[0, 1, 2]\n",
    "y=[2, 4, 6]\n",
    "plt.plot(x, y)\n",
    "plt.figtext(0.2, 0.7, 'North & West')\n",
    "plt.figtext(0.7, 0.2, 'East & South')\n",
    "#第一个第二个参数代表x，y坐标，第三个是添加的文字\n",
    "plt.show()"
   ]
  },
  {
   "cell_type": "code",
   "execution_count": 27,
   "metadata": {},
   "outputs": [
    {
     "data": {
      "text/html": [
       "<div>\n",
       "<style scoped>\n",
       "    .dataframe tbody tr th:only-of-type {\n",
       "        vertical-align: middle;\n",
       "    }\n",
       "\n",
       "    .dataframe tbody tr th {\n",
       "        vertical-align: top;\n",
       "    }\n",
       "\n",
       "    .dataframe thead th {\n",
       "        text-align: right;\n",
       "    }\n",
       "</style>\n",
       "<table border=\"1\" class=\"dataframe\">\n",
       "  <thead>\n",
       "    <tr style=\"text-align: right;\">\n",
       "      <th></th>\n",
       "      <th>Ticker</th>\n",
       "      <th>profitMargin</th>\n",
       "      <th>assetTurnover</th>\n",
       "      <th>equitMultiplier</th>\n",
       "    </tr>\n",
       "  </thead>\n",
       "  <tbody>\n",
       "    <tr>\n",
       "      <th>0</th>\n",
       "      <td>IBM</td>\n",
       "      <td>1.1123</td>\n",
       "      <td>0.8766</td>\n",
       "      <td>6.3200</td>\n",
       "    </tr>\n",
       "    <tr>\n",
       "      <th>1</th>\n",
       "      <td>DELL</td>\n",
       "      <td>0.2919</td>\n",
       "      <td>1.1977</td>\n",
       "      <td>4.4500</td>\n",
       "    </tr>\n",
       "    <tr>\n",
       "      <th>2</th>\n",
       "      <td>WMT</td>\n",
       "      <td>0.2520</td>\n",
       "      <td>2.3100</td>\n",
       "      <td>2.6604</td>\n",
       "    </tr>\n",
       "  </tbody>\n",
       "</table>\n",
       "</div>"
      ],
      "text/plain": [
       "  Ticker  profitMargin  assetTurnover  equitMultiplier\n",
       "0    IBM        1.1123         0.8766           6.3200\n",
       "1   DELL        0.2919         1.1977           4.4500\n",
       "2    WMT        0.2520         2.3100           2.6604"
      ]
     },
     "execution_count": 27,
     "metadata": {},
     "output_type": "execute_result"
    }
   ],
   "source": [
    "# 杜邦等式的图示\n",
    "# 简单设定了三家公司的毛利率、资金周转率和权益乘数，在图中表示\n",
    "import pandas as pd\n",
    "#pandas之后介绍\n",
    "\n",
    "ticker = 'Ticker'\n",
    "name1 = 'profitMargin'\n",
    "name2 = 'assetTurnover'\n",
    "name3 = 'equitMultiplier'\n",
    "scale = 7\n",
    "\n",
    "raw_data = {ticker : ['IBM', 'DELL', 'WMT'],\n",
    "            name1 : [0.1589 * scale, 0.0417 * scale, 0.036 * scale],\n",
    "            name2 : [0.8766, 1.1977, 2.31],\n",
    "            name3 : [6.32, 4.45, 2.6604]}\n",
    "#定义一个字典\n",
    "\n",
    "df = pd.DataFrame(raw_data, columns= [ticker, name1, name2, name3])\n",
    "#DataFrame就类似一个excel，有索引还有列名\n",
    "df"
   ]
  },
  {
   "cell_type": "code",
   "execution_count": 56,
   "metadata": {},
   "outputs": [
    {
     "data": {
      "image/png": "[encoded data removed]",
      "text/plain": [
       "<Figure size 720x360 with 1 Axes>"
      ]
     },
     "metadata": {},
     "output_type": "display_data"
    }
   ],
   "source": [
    "f, ax1 = plt.subplots(1, figsize = (10, 5))\n",
    "w = 0.75\n",
    "x = [i + 1 for i in range(len(df[name1]))]\n",
    "# 内部一个迭代器\n",
    "\n",
    "tick_pos = [i for i in x]\n",
    "\n",
    "ax1.bar(x, df[name1], width = w, label = name1, alpha = 0.5, color = 'blue')\n",
    "#aplha透明度\n",
    "ax1.bar(x, df[name2], width = w, bottom = df[name1], label = name2, alpha = 0.5, color = 'red')\n",
    "# 从第二个开始就要加上bottom\n",
    "ax1.bar(x, df[name3], width = w, bottom = [i + j for i, j in zip(df[name1], df[name2])], label = name3, alpha = 0.5, color = 'green')\n",
    "# zip在下边解释\n",
    "# ax1.bar(x, df[name3], width = w, bottom = df[name1] + df[name2], label = name3, alpha = 0.5, color = 'green')#结果一样\n",
    "plt.xticks(tick_pos, df[ticker])\n",
    "plt.xlabel('Different ticker')\n",
    "plt.ylabel('Dupoint Identity')\n",
    "plt.legend(loc = 'best')\n",
    "plt.title('Dupont Identity for 3 firms')\n",
    "plt.xlim([min(tick_pos) - w, max(tick_pos) + w])\n",
    "plt.show()"
   ]
  },
  {
   "cell_type": "code",
   "execution_count": 44,
   "metadata": {},
   "outputs": [
    {
     "data": {
      "text/plain": [
       "[(1.1123, 0.8766), (0.2919, 1.1977), (0.252, 2.31)]"
      ]
     },
     "execution_count": 44,
     "metadata": {},
     "output_type": "execute_result"
    }
   ],
   "source": [
    "kk = list(zip(df[name1], df[name2]))\n",
    "kk"
   ]
  },
  {
   "cell_type": "code",
   "execution_count": 58,
   "metadata": {},
   "outputs": [
    {
     "name": "stdout",
     "output_type": "stream",
     "text": [
      "1.1123 0.8766\n",
      "0.2919 1.1977\n",
      "0.252 2.31\n"
     ]
    }
   ],
   "source": [
    "for i, j in kk:\n",
    "    print(i)\n",
    "#     print(j)\n",
    "#     print(i, j)"
   ]
  },
  {
   "cell_type": "code",
   "execution_count": 62,
   "metadata": {},
   "outputs": [
    {
     "data": {
      "image/png": "[encoded data removed]",
      "text/plain": [
       "<Figure size 432x288 with 1 Axes>"
      ]
     },
     "metadata": {},
     "output_type": "display_data"
    }
   ],
   "source": [
    "# 通过图形来看一个项目现金流的净现值和折现率的关系\n",
    "cashflows=[-200,80,90,100]\n",
    "rate=[]\n",
    "npv=[]\n",
    "x=(0,0.7)\n",
    "y=(0,0)\n",
    "for i in range(1,70):\n",
    "    rate.append(0.01*i)\n",
    "    npv.append(sp.npv(0.01*i, cashflows))\n",
    "#     相当于计算了69次npv，rate从0.1到0.69\n",
    "    \n",
    "plt.plot(rate,npv)\n",
    "plt.plot(x,y)\n",
    "plt.show()\n",
    "# 可以直观看出，两者是负相关的，此时有一个IRR"
   ]
  },
  {
   "cell_type": "code",
   "execution_count": 63,
   "metadata": {},
   "outputs": [
    {
     "data": {
      "image/png": "[encoded data removed]",
      "text/plain": [
       "<Figure size 432x288 with 1 Axes>"
      ]
     },
     "metadata": {},
     "output_type": "display_data"
    }
   ],
   "source": [
    "# 再看一个例子\n",
    "cashflows=[504,-432,-432,-432,832]\n",
    "rate=[]\n",
    "npv=[]\n",
    "x=[0,0.3]\n",
    "y=[0,0]\n",
    "for i in range(1,30):\n",
    "    rate.append(0.01*i)\n",
    "    npv.append(sp.npv(0.01*i,cashflows))\n",
    "plt.plot(x,y)\n",
    "plt.plot(rate,npv)\n",
    "plt.show()\n",
    "# 此时就有两个IRR"
   ]
  },
  {
   "cell_type": "code",
   "execution_count": 64,
   "metadata": {},
   "outputs": [
    {
     "name": "stdout",
     "output_type": "stream",
     "text": [
      "0.08949087038126313\n"
     ]
    }
   ],
   "source": [
    "# 但是np的irr函数，只能计算一个IRR\n",
    "cashflows=[504,-432,-432,-432,832]\n",
    "x=np.irr(cashflows)\n",
    "print(x)"
   ]
  },
  {
   "cell_type": "code",
   "execution_count": 91,
   "metadata": {},
   "outputs": [
    {
     "data": {
      "image/png": "[encoded data removed]",
      "text/plain": [
       "<Figure size 432x288 with 1 Axes>"
      ]
     },
     "metadata": {},
     "output_type": "display_data"
    }
   ],
   "source": [
    "# 对颜色的使用可以让图像更突出\n",
    "# 假设有两个公司（沃尔玛和DELL）的每股收益（EPS）分，通过不同颜色来比较他们的每股收益\n",
    "A_EPS = (5.02, 4.54, 4.18, 3.73)\n",
    "B_EPS = (1.35, 1.88, 1.35, 0.73)\n",
    "ind=np.arange(len(A_EPS))  # the x locations for the groups\n",
    "width = 0.40                 # the width of the bars\n",
    "fig, ax = plt.subplots()\n",
    "A_Std= B_Std= (2, 2, 2, 2)\n",
    "rects1= ax.bar(ind, A_EPS, width, color='r', yerr=A_Std)\n",
    "# yerr让柱状图上下端空出一部分\n",
    "rects2= ax.bar(ind+width, B_EPS, width, color='y', yerr=B_Std)\n",
    "\n",
    "ax.set_ylabel('EPS')\n",
    "ax.set_xlabel('Year')\n",
    "\n",
    "ax.set_title('Diluted EPS Excluding Extraordinary Items ')\n",
    "ax.set_xticks(ind+width)\n",
    "ax.set_xticklabels(['2012', '2011', '2010','2009'])\n",
    "ax.legend((rects1[1], rects2[0]),('W-Mart', 'DELL') )\n",
    "def autolabel(rects):\n",
    "    for rect in rects:\n",
    "        height = rect.get_height()\n",
    "        ax.text(rect.get_x()+ rect.get_width()/2, 1.05*height, '%d'%int(height), ha='center',va='bottom')\n",
    "#         ha水平对齐方式，va垂直对齐方式\n",
    "autolabel(rects1)\n",
    "autolabel(rects2)\n",
    "plt.show()"
   ]
  },
  {
   "cell_type": "code",
   "execution_count": null,
   "metadata": {},
   "outputs": [],
   "source": [
    "# 颜色：b代表蓝色，g绿色，r红色，c青色，w白色，k黑色等等\n",
    "# 线条形状：-实线，--虚线，-.点划线，p五角星，+加号等等"
   ]
  },
  {
   "cell_type": "code",
   "execution_count": 92,
   "metadata": {},
   "outputs": [
    {
     "name": "stdout",
     "output_type": "stream",
     "text": [
      "0.109 0.146 0.127\n",
      "0.075 0.074 0.027\n"
     ]
    }
   ],
   "source": [
    "图形演示分散投资的效果\n",
    "ret_A=np.array([0.102,-0.02, 0.213,0.12,0.13])\n",
    "ret_B=np.array([0.1062,0.23, 0.045,0.234,0.113])\n",
    "port_EW=(ret_A+ret_B)/2.\n",
    "m1,m2,m3=round(np.mean(ret_A),3),round(np.mean(ret_B),3),round(np.mean(port_EW),3)\n",
    "s1,s2,s3=round(np.std(ret_A),3),round(np.std(ret_B),3),round(np.std(port_EW),3)\n",
    "print(m1,m2,m3)\n",
    "print(s1,s2,s3)\n",
    "# 可以看出波动率小很多"
   ]
  },
  {
   "cell_type": "code",
   "execution_count": 98,
   "metadata": {},
   "outputs": [
    {
     "data": {
      "image/png": "[encoded data removed]",
      "text/plain": [
       "<Figure size 432x288 with 1 Axes>"
      ]
     },
     "metadata": {},
     "output_type": "display_data"
    },
    {
     "name": "stdout",
     "output_type": "stream",
     "text": [
      "[[ 1.         -0.74583429]\n",
      " [-0.74583429  1.        ]]\n"
     ]
    }
   ],
   "source": [
    "year=[2009,2010,2011,2012,2013]\n",
    "\n",
    "plt.figtext(0.2,0.65, \"Stock A\")\n",
    "plt.figtext(0.15,0.4, \"Stock B\")\n",
    "\n",
    "plt.xlabel(\"Year\")\n",
    "plt.ylabel(\"Returns\")\n",
    "\n",
    "plt.plot(year, ret_A, lw=2)#lw线宽\n",
    "plt.plot(year, ret_B, lw=2)\n",
    "plt.plot(year, port_EW, lw=2)\n",
    "\n",
    "plt.title(\"Indiviudal stocks vs. an equal-weighted 2-stock portflio\")\n",
    "plt.annotate('Equal-weighted Portfolio', xy=(2010, 0.1), xytext=(2011.,0), arrowprops=dict(facecolor='black', shrink=0.05),)\n",
    "# 注解函数，第一个参数为注解内容，第二个xy是指向点点坐标，xytext是注解内容的坐标，arrowprops是箭头的形状，类型为字典，PPT\n",
    "\n",
    "plt.ylim(-0.1,0.3)\n",
    "plt.show()\n",
    "\n",
    "cor=sp.corrcoef(ret_A,ret_B)\n",
    "print(cor)\n",
    "# 看看他们的协方差矩阵，是负相关性，可以构建投资组合"
   ]
  },
  {
   "cell_type": "code",
   "execution_count": 103,
   "metadata": {},
   "outputs": [],
   "source": [
    "# 股票的数目和投资组合风险\n",
    "# 1987年一篇名为《多元化的投资组合需要多少只个股》的论文，书中以这篇论文中的数据为例，做出了下面的图，其中，n代表投资组合中股票的数目，\n",
    "# port_sigma是投资组合年收益的标准差\n",
    "n=[1,2,4,6,8,10,12,14,16,18,20,25,30,35,40,45,50,75,100,200,300,400,500,600,700,800,900,1000]\n",
    "port_sigma=[0.49236,0.37358,0.29687,0.26643,0.24983,0.23932,0.23204,0.22670,0.22261,0.21939,0.21677,0.21196,0.20870,\n",
    "            0.20634,0.20456,0.20316,0.20203,0.19860,0.19686,0.19432,0.19336,0.19292,0.19265,0.19347,0.19233,0.19224,\n",
    "            0.19217,0.19211,0.19158]"
   ]
  },
  {
   "cell_type": "code",
   "execution_count": 104,
   "metadata": {},
   "outputs": [
    {
     "data": {
      "image/png": "[encoded data removed]",
      "text/plain": [
       "<Figure size 432x288 with 1 Axes>"
      ]
     },
     "metadata": {},
     "output_type": "display_data"
    }
   ],
   "source": [
    "plt.xlim(0,50)\n",
    "plt.ylim(0.1,0.4)\n",
    "\n",
    "plt.hlines(0.19217, 0, 50, colors='r', linestyles='dashed')\n",
    "# hlines画一条水平线，第一个参数是y值，第二个参数是xmin，第三个参数是xmax\n",
    "plt.annotate('', xy=(5, 0.19), xytext = (5, 0.28), arrowprops = {'arrowstyle':'<->'})\n",
    "plt.annotate('', xy=(30, 0.19), xytext = (30, 0.1), arrowprops = {'arrowstyle':'<->'})\n",
    "plt.annotate('Total portfolio risk', xy=(5,0.3),xytext=(25,0.35),arrowprops=dict(facecolor='black',shrink=0.02))\n",
    "\n",
    "plt.figtext(0.15,0.4,\"Diversiable risk\")\n",
    "plt.figtext(0.65,0.25,\"Nondiversifiable risk\")\n",
    "\n",
    "plt.plot(n[0:17],port_sigma[0:17])\n",
    "\n",
    "plt.title(\"Relationship between n and portfolio risk\")\n",
    "plt.xlabel(\"Number of stocks in a portfolio\")\n",
    "plt.ylabel(\"Ratio of Portfolio std to std of one stock\")\n",
    "plt.show()"
   ]
  },
  {
   "cell_type": "code",
   "execution_count": 106,
   "metadata": {},
   "outputs": [],
   "source": [
    "# pandas和statsmodels的使用\n",
    "# pandas模块主要用于数据处理，statsmodels模块主要用于统计分析\n",
    "import pandas as pd\n",
    "import numpy as np\n",
    "import statsmodels.api as sm"
   ]
  },
  {
   "cell_type": "code",
   "execution_count": 110,
   "metadata": {},
   "outputs": [],
   "source": [
    "# 生成两个时间序列\n",
    "dates=pd.date_range('20130101',periods=5)\n",
    "np.random.seed(12345)\n",
    "x=pd.DataFrame(np.random.rand(5,2), index=dates, columns=('A','B'))\n",
    "# pd.date_range函数生成一个用于索引的数组dates，pd.DataFrame生成一个以dates为序列的表格，函数里面第一个变量是表格的内容数据，第二个变量是\n",
    "# 序列，第三个是列名\n",
    "# numpy的基本数据格式是array，pd的基本数据格式是Series，可以理解为带有index的array\n",
    "# 而Dataframe可以看作是多个Series拼在一起，带有列名的表格"
   ]
  },
  {
   "cell_type": "code",
   "execution_count": 111,
   "metadata": {},
   "outputs": [
    {
     "data": {
      "text/plain": [
       "DatetimeIndex(['2013-01-01', '2013-01-02', '2013-01-03', '2013-01-04',\n",
       "               '2013-01-05'],\n",
       "              dtype='datetime64[ns]', freq='D')"
      ]
     },
     "execution_count": 111,
     "metadata": {},
     "output_type": "execute_result"
    }
   ],
   "source": [
    "dates"
   ]
  },
  {
   "cell_type": "code",
   "execution_count": 112,
   "metadata": {},
   "outputs": [
    {
     "data": {
      "text/html": [
       "<div>\n",
       "<style scoped>\n",
       "    .dataframe tbody tr th:only-of-type {\n",
       "        vertical-align: middle;\n",
       "    }\n",
       "\n",
       "    .dataframe tbody tr th {\n",
       "        vertical-align: top;\n",
       "    }\n",
       "\n",
       "    .dataframe thead th {\n",
       "        text-align: right;\n",
       "    }\n",
       "</style>\n",
       "<table border=\"1\" class=\"dataframe\">\n",
       "  <thead>\n",
       "    <tr style=\"text-align: right;\">\n",
       "      <th></th>\n",
       "      <th>A</th>\n",
       "      <th>B</th>\n",
       "    </tr>\n",
       "  </thead>\n",
       "  <tbody>\n",
       "    <tr>\n",
       "      <th>2013-01-01</th>\n",
       "      <td>0.929616</td>\n",
       "      <td>0.316376</td>\n",
       "    </tr>\n",
       "    <tr>\n",
       "      <th>2013-01-02</th>\n",
       "      <td>0.183919</td>\n",
       "      <td>0.204560</td>\n",
       "    </tr>\n",
       "    <tr>\n",
       "      <th>2013-01-03</th>\n",
       "      <td>0.567725</td>\n",
       "      <td>0.595545</td>\n",
       "    </tr>\n",
       "    <tr>\n",
       "      <th>2013-01-04</th>\n",
       "      <td>0.964515</td>\n",
       "      <td>0.653177</td>\n",
       "    </tr>\n",
       "    <tr>\n",
       "      <th>2013-01-05</th>\n",
       "      <td>0.748907</td>\n",
       "      <td>0.653570</td>\n",
       "    </tr>\n",
       "  </tbody>\n",
       "</table>\n",
       "</div>"
      ],
      "text/plain": [
       "                   A         B\n",
       "2013-01-01  0.929616  0.316376\n",
       "2013-01-02  0.183919  0.204560\n",
       "2013-01-03  0.567725  0.595545\n",
       "2013-01-04  0.964515  0.653177\n",
       "2013-01-05  0.748907  0.653570"
      ]
     },
     "execution_count": 112,
     "metadata": {},
     "output_type": "execute_result"
    }
   ],
   "source": [
    "x"
   ]
  },
  {
   "cell_type": "code",
   "execution_count": 113,
   "metadata": {},
   "outputs": [
    {
     "data": {
      "text/html": [
       "<div>\n",
       "<style scoped>\n",
       "    .dataframe tbody tr th:only-of-type {\n",
       "        vertical-align: middle;\n",
       "    }\n",
       "\n",
       "    .dataframe tbody tr th {\n",
       "        vertical-align: top;\n",
       "    }\n",
       "\n",
       "    .dataframe thead th {\n",
       "        text-align: right;\n",
       "    }\n",
       "</style>\n",
       "<table border=\"1\" class=\"dataframe\">\n",
       "  <thead>\n",
       "    <tr style=\"text-align: right;\">\n",
       "      <th></th>\n",
       "      <th>A</th>\n",
       "      <th>B</th>\n",
       "    </tr>\n",
       "  </thead>\n",
       "  <tbody>\n",
       "    <tr>\n",
       "      <th>count</th>\n",
       "      <td>5.000000</td>\n",
       "      <td>5.000000</td>\n",
       "    </tr>\n",
       "    <tr>\n",
       "      <th>mean</th>\n",
       "      <td>0.678936</td>\n",
       "      <td>0.484646</td>\n",
       "    </tr>\n",
       "    <tr>\n",
       "      <th>std</th>\n",
       "      <td>0.318866</td>\n",
       "      <td>0.209761</td>\n",
       "    </tr>\n",
       "    <tr>\n",
       "      <th>min</th>\n",
       "      <td>0.183919</td>\n",
       "      <td>0.204560</td>\n",
       "    </tr>\n",
       "    <tr>\n",
       "      <th>25%</th>\n",
       "      <td>0.567725</td>\n",
       "      <td>0.316376</td>\n",
       "    </tr>\n",
       "    <tr>\n",
       "      <th>50%</th>\n",
       "      <td>0.748907</td>\n",
       "      <td>0.595545</td>\n",
       "    </tr>\n",
       "    <tr>\n",
       "      <th>75%</th>\n",
       "      <td>0.929616</td>\n",
       "      <td>0.653177</td>\n",
       "    </tr>\n",
       "    <tr>\n",
       "      <th>max</th>\n",
       "      <td>0.964515</td>\n",
       "      <td>0.653570</td>\n",
       "    </tr>\n",
       "  </tbody>\n",
       "</table>\n",
       "</div>"
      ],
      "text/plain": [
       "              A         B\n",
       "count  5.000000  5.000000\n",
       "mean   0.678936  0.484646\n",
       "std    0.318866  0.209761\n",
       "min    0.183919  0.204560\n",
       "25%    0.567725  0.316376\n",
       "50%    0.748907  0.595545\n",
       "75%    0.929616  0.653177\n",
       "max    0.964515  0.653570"
      ]
     },
     "execution_count": 113,
     "metadata": {},
     "output_type": "execute_result"
    }
   ],
   "source": [
    "x.describe()#通过这个函数可以得到这两列数的基本统计信息"
   ]
  },
  {
   "cell_type": "code",
   "execution_count": 117,
   "metadata": {
    "scrolled": true
   },
   "outputs": [
    {
     "data": {
      "text/plain": [
       "0    0.100\n",
       "1    0.020\n",
       "2   -0.030\n",
       "3      NaN\n",
       "4    0.130\n",
       "5    0.125\n",
       "dtype: float64"
      ]
     },
     "execution_count": 117,
     "metadata": {},
     "output_type": "execute_result"
    }
   ],
   "source": [
    "# 有的表格里面会有一些空值，如果要对其进行填充\n",
    "x=pd.Series([0.1,0.02,-0.03,np.nan,0.130,0.125])\n",
    "x"
   ]
  },
  {
   "cell_type": "code",
   "execution_count": 118,
   "metadata": {},
   "outputs": [
    {
     "data": {
      "text/plain": [
       "0.069"
      ]
     },
     "execution_count": 118,
     "metadata": {},
     "output_type": "execute_result"
    }
   ],
   "source": [
    "m=np.mean(x)\n",
    "round(m,4)"
   ]
  },
  {
   "cell_type": "code",
   "execution_count": 120,
   "metadata": {},
   "outputs": [
    {
     "data": {
      "text/plain": [
       "0    0.100\n",
       "1    0.020\n",
       "2   -0.030\n",
       "3    0.069\n",
       "4    0.130\n",
       "5    0.125\n",
       "dtype: float64"
      ]
     },
     "execution_count": 120,
     "metadata": {},
     "output_type": "execute_result"
    }
   ],
   "source": [
    "y=x.fillna(m)     # nan is repalced with the mean\n",
    "y"
   ]
  },
  {
   "cell_type": "code",
   "execution_count": 124,
   "metadata": {},
   "outputs": [
    {
     "name": "stdout",
     "output_type": "stream",
     "text": [
      "[1.28571429 0.35714286]\n"
     ]
    }
   ],
   "source": [
    "# 使用statsmodels去估计线性回归模型参数，PPT\n",
    "y=[1,2,3,4,2,3,4]\n",
    "x=range(1,8)\n",
    "x=sm.add_constant(x)\n",
    "# 加入一列1\n",
    "results=sm.OLS(y,x).fit()\n",
    "# 这里y在前面，.fit就是开始进行回归\n",
    "print(results.params)#输出结果第一个是alpha的估计值，之后是独立变量的系数的估计值"
   ]
  },
  {
   "cell_type": "code",
   "execution_count": 122,
   "metadata": {},
   "outputs": [
    {
     "data": {
      "text/plain": [
       "array([[1., 1.],\n",
       "       [1., 2.],\n",
       "       [1., 3.],\n",
       "       [1., 4.],\n",
       "       [1., 5.],\n",
       "       [1., 6.],\n",
       "       [1., 7.]])"
      ]
     },
     "execution_count": 122,
     "metadata": {},
     "output_type": "execute_result"
    }
   ],
   "source": [
    "x"
   ]
  },
  {
   "cell_type": "code",
   "execution_count": null,
   "metadata": {},
   "outputs": [],
   "source": [
    "# 外部数据的输入"
   ]
  },
  {
   "cell_type": "code",
   "execution_count": 138,
   "metadata": {},
   "outputs": [
    {
     "data": {
      "text/html": [
       "<div>\n",
       "<style scoped>\n",
       "    .dataframe tbody tr th:only-of-type {\n",
       "        vertical-align: middle;\n",
       "    }\n",
       "\n",
       "    .dataframe tbody tr th {\n",
       "        vertical-align: top;\n",
       "    }\n",
       "\n",
       "    .dataframe thead th {\n",
       "        text-align: right;\n",
       "    }\n",
       "</style>\n",
       "<table border=\"1\" class=\"dataframe\">\n",
       "  <thead>\n",
       "    <tr style=\"text-align: right;\">\n",
       "      <th></th>\n",
       "      <th>a</th>\n",
       "      <th>b</th>\n",
       "    </tr>\n",
       "  </thead>\n",
       "  <tbody>\n",
       "    <tr>\n",
       "      <th>0</th>\n",
       "      <td>1</td>\n",
       "      <td>2</td>\n",
       "    </tr>\n",
       "    <tr>\n",
       "      <th>1</th>\n",
       "      <td>2</td>\n",
       "      <td>d</td>\n",
       "    </tr>\n",
       "    <tr>\n",
       "      <th>2</th>\n",
       "      <td>3</td>\n",
       "      <td>4</td>\n",
       "    </tr>\n",
       "  </tbody>\n",
       "</table>\n",
       "</div>"
      ],
      "text/plain": [
       "   a  b\n",
       "0  1  2\n",
       "1  2  d\n",
       "2  3  4"
      ]
     },
     "execution_count": 138,
     "metadata": {},
     "output_type": "execute_result"
    }
   ],
   "source": [
    "# 通过剪切板输入数据\n",
    "clip = pd.read_clipboard()\n",
    "clip"
   ]
  },
  {
   "cell_type": "code",
   "execution_count": 151,
   "metadata": {},
   "outputs": [
    {
     "data": {
      "text/html": [
       "<div>\n",
       "<style scoped>\n",
       "    .dataframe tbody tr th:only-of-type {\n",
       "        vertical-align: middle;\n",
       "    }\n",
       "\n",
       "    .dataframe tbody tr th {\n",
       "        vertical-align: top;\n",
       "    }\n",
       "\n",
       "    .dataframe thead th {\n",
       "        text-align: right;\n",
       "    }\n",
       "</style>\n",
       "<table border=\"1\" class=\"dataframe\">\n",
       "  <thead>\n",
       "    <tr style=\"text-align: right;\">\n",
       "      <th></th>\n",
       "      <th>ts_code</th>\n",
       "      <th>trade_date</th>\n",
       "      <th>open</th>\n",
       "      <th>high</th>\n",
       "      <th>low</th>\n",
       "      <th>close</th>\n",
       "      <th>pre_close</th>\n",
       "      <th>change</th>\n",
       "      <th>pct_change</th>\n",
       "      <th>vol</th>\n",
       "      <th>amount</th>\n",
       "    </tr>\n",
       "  </thead>\n",
       "  <tbody>\n",
       "    <tr>\n",
       "      <th>0</th>\n",
       "      <td>000002.SZ</td>\n",
       "      <td>20181011</td>\n",
       "      <td>21.00</td>\n",
       "      <td>21.50</td>\n",
       "      <td>20.81</td>\n",
       "      <td>20.93</td>\n",
       "      <td>21.75</td>\n",
       "      <td>-0.82</td>\n",
       "      <td>-3.7701</td>\n",
       "      <td>709553.01</td>\n",
       "      <td>1498597.099</td>\n",
       "    </tr>\n",
       "    <tr>\n",
       "      <th>1</th>\n",
       "      <td>000002.SZ</td>\n",
       "      <td>20181010</td>\n",
       "      <td>21.77</td>\n",
       "      <td>22.03</td>\n",
       "      <td>21.40</td>\n",
       "      <td>21.75</td>\n",
       "      <td>21.82</td>\n",
       "      <td>-0.07</td>\n",
       "      <td>-0.3208</td>\n",
       "      <td>437797.76</td>\n",
       "      <td>951971.015</td>\n",
       "    </tr>\n",
       "    <tr>\n",
       "      <th>2</th>\n",
       "      <td>000002.SZ</td>\n",
       "      <td>20181009</td>\n",
       "      <td>22.05</td>\n",
       "      <td>22.12</td>\n",
       "      <td>21.26</td>\n",
       "      <td>21.82</td>\n",
       "      <td>22.05</td>\n",
       "      <td>-0.23</td>\n",
       "      <td>-1.0431</td>\n",
       "      <td>628633.52</td>\n",
       "      <td>1360687.509</td>\n",
       "    </tr>\n",
       "    <tr>\n",
       "      <th>3</th>\n",
       "      <td>000002.SZ</td>\n",
       "      <td>20181008</td>\n",
       "      <td>22.95</td>\n",
       "      <td>23.20</td>\n",
       "      <td>21.98</td>\n",
       "      <td>22.05</td>\n",
       "      <td>24.30</td>\n",
       "      <td>-2.25</td>\n",
       "      <td>-9.2593</td>\n",
       "      <td>1037914.88</td>\n",
       "      <td>2339001.429</td>\n",
       "    </tr>\n",
       "    <tr>\n",
       "      <th>4</th>\n",
       "      <td>000002.SZ</td>\n",
       "      <td>20180928</td>\n",
       "      <td>24.50</td>\n",
       "      <td>24.90</td>\n",
       "      <td>23.95</td>\n",
       "      <td>24.30</td>\n",
       "      <td>24.45</td>\n",
       "      <td>-0.15</td>\n",
       "      <td>-0.6135</td>\n",
       "      <td>683236.25</td>\n",
       "      <td>1671576.714</td>\n",
       "    </tr>\n",
       "    <tr>\n",
       "      <th>5</th>\n",
       "      <td>000002.SZ</td>\n",
       "      <td>20180927</td>\n",
       "      <td>24.63</td>\n",
       "      <td>24.78</td>\n",
       "      <td>24.30</td>\n",
       "      <td>24.45</td>\n",
       "      <td>24.67</td>\n",
       "      <td>-0.22</td>\n",
       "      <td>-0.8918</td>\n",
       "      <td>445294.33</td>\n",
       "      <td>1090622.042</td>\n",
       "    </tr>\n",
       "    <tr>\n",
       "      <th>6</th>\n",
       "      <td>000002.SZ</td>\n",
       "      <td>20180926</td>\n",
       "      <td>24.66</td>\n",
       "      <td>25.33</td>\n",
       "      <td>23.89</td>\n",
       "      <td>24.67</td>\n",
       "      <td>24.64</td>\n",
       "      <td>0.03</td>\n",
       "      <td>0.1218</td>\n",
       "      <td>845884.37</td>\n",
       "      <td>2088651.952</td>\n",
       "    </tr>\n",
       "    <tr>\n",
       "      <th>7</th>\n",
       "      <td>000002.SZ</td>\n",
       "      <td>20180925</td>\n",
       "      <td>24.80</td>\n",
       "      <td>25.12</td>\n",
       "      <td>24.40</td>\n",
       "      <td>24.64</td>\n",
       "      <td>25.80</td>\n",
       "      <td>-1.16</td>\n",
       "      <td>-4.4961</td>\n",
       "      <td>908838.54</td>\n",
       "      <td>2247254.080</td>\n",
       "    </tr>\n",
       "    <tr>\n",
       "      <th>8</th>\n",
       "      <td>000002.SZ</td>\n",
       "      <td>20180921</td>\n",
       "      <td>24.20</td>\n",
       "      <td>26.00</td>\n",
       "      <td>23.93</td>\n",
       "      <td>25.80</td>\n",
       "      <td>24.01</td>\n",
       "      <td>1.79</td>\n",
       "      <td>7.4552</td>\n",
       "      <td>1064216.38</td>\n",
       "      <td>2663500.909</td>\n",
       "    </tr>\n",
       "    <tr>\n",
       "      <th>9</th>\n",
       "      <td>000002.SZ</td>\n",
       "      <td>20180920</td>\n",
       "      <td>24.01</td>\n",
       "      <td>24.43</td>\n",
       "      <td>23.80</td>\n",
       "      <td>24.01</td>\n",
       "      <td>24.17</td>\n",
       "      <td>-0.16</td>\n",
       "      <td>-0.6620</td>\n",
       "      <td>521852.72</td>\n",
       "      <td>1257974.032</td>\n",
       "    </tr>\n",
       "    <tr>\n",
       "      <th>10</th>\n",
       "      <td>000002.SZ</td>\n",
       "      <td>20180919</td>\n",
       "      <td>23.03</td>\n",
       "      <td>24.67</td>\n",
       "      <td>22.91</td>\n",
       "      <td>24.17</td>\n",
       "      <td>23.00</td>\n",
       "      <td>1.17</td>\n",
       "      <td>5.0870</td>\n",
       "      <td>1317837.01</td>\n",
       "      <td>3170366.001</td>\n",
       "    </tr>\n",
       "    <tr>\n",
       "      <th>11</th>\n",
       "      <td>000002.SZ</td>\n",
       "      <td>20180918</td>\n",
       "      <td>22.65</td>\n",
       "      <td>23.10</td>\n",
       "      <td>22.47</td>\n",
       "      <td>23.00</td>\n",
       "      <td>22.83</td>\n",
       "      <td>0.17</td>\n",
       "      <td>0.7446</td>\n",
       "      <td>404634.05</td>\n",
       "      <td>921475.475</td>\n",
       "    </tr>\n",
       "    <tr>\n",
       "      <th>12</th>\n",
       "      <td>000002.SZ</td>\n",
       "      <td>20180917</td>\n",
       "      <td>23.04</td>\n",
       "      <td>23.23</td>\n",
       "      <td>22.72</td>\n",
       "      <td>22.83</td>\n",
       "      <td>23.32</td>\n",
       "      <td>-0.49</td>\n",
       "      <td>-2.1012</td>\n",
       "      <td>255061.69</td>\n",
       "      <td>584416.325</td>\n",
       "    </tr>\n",
       "    <tr>\n",
       "      <th>13</th>\n",
       "      <td>000002.SZ</td>\n",
       "      <td>20180914</td>\n",
       "      <td>23.13</td>\n",
       "      <td>23.39</td>\n",
       "      <td>22.81</td>\n",
       "      <td>23.32</td>\n",
       "      <td>23.10</td>\n",
       "      <td>0.22</td>\n",
       "      <td>0.9524</td>\n",
       "      <td>334870.79</td>\n",
       "      <td>775981.815</td>\n",
       "    </tr>\n",
       "    <tr>\n",
       "      <th>14</th>\n",
       "      <td>000002.SZ</td>\n",
       "      <td>20180913</td>\n",
       "      <td>23.31</td>\n",
       "      <td>23.47</td>\n",
       "      <td>22.78</td>\n",
       "      <td>23.10</td>\n",
       "      <td>22.88</td>\n",
       "      <td>0.22</td>\n",
       "      <td>0.9615</td>\n",
       "      <td>468837.96</td>\n",
       "      <td>1080871.662</td>\n",
       "    </tr>\n",
       "    <tr>\n",
       "      <th>15</th>\n",
       "      <td>000002.SZ</td>\n",
       "      <td>20180912</td>\n",
       "      <td>23.24</td>\n",
       "      <td>23.30</td>\n",
       "      <td>22.61</td>\n",
       "      <td>22.88</td>\n",
       "      <td>23.34</td>\n",
       "      <td>-0.46</td>\n",
       "      <td>-1.9709</td>\n",
       "      <td>313821.54</td>\n",
       "      <td>717459.921</td>\n",
       "    </tr>\n",
       "    <tr>\n",
       "      <th>16</th>\n",
       "      <td>000002.SZ</td>\n",
       "      <td>20180911</td>\n",
       "      <td>23.39</td>\n",
       "      <td>23.64</td>\n",
       "      <td>23.09</td>\n",
       "      <td>23.34</td>\n",
       "      <td>23.46</td>\n",
       "      <td>-0.12</td>\n",
       "      <td>-0.5115</td>\n",
       "      <td>358358.75</td>\n",
       "      <td>832895.939</td>\n",
       "    </tr>\n",
       "    <tr>\n",
       "      <th>17</th>\n",
       "      <td>000002.SZ</td>\n",
       "      <td>20180910</td>\n",
       "      <td>23.42</td>\n",
       "      <td>23.85</td>\n",
       "      <td>23.11</td>\n",
       "      <td>23.46</td>\n",
       "      <td>23.21</td>\n",
       "      <td>0.25</td>\n",
       "      <td>1.0771</td>\n",
       "      <td>474917.79</td>\n",
       "      <td>1115789.487</td>\n",
       "    </tr>\n",
       "    <tr>\n",
       "      <th>18</th>\n",
       "      <td>000002.SZ</td>\n",
       "      <td>20180907</td>\n",
       "      <td>22.85</td>\n",
       "      <td>23.65</td>\n",
       "      <td>22.85</td>\n",
       "      <td>23.21</td>\n",
       "      <td>22.81</td>\n",
       "      <td>0.40</td>\n",
       "      <td>1.7536</td>\n",
       "      <td>334943.33</td>\n",
       "      <td>780678.316</td>\n",
       "    </tr>\n",
       "    <tr>\n",
       "      <th>19</th>\n",
       "      <td>000002.SZ</td>\n",
       "      <td>20180906</td>\n",
       "      <td>23.32</td>\n",
       "      <td>23.56</td>\n",
       "      <td>22.69</td>\n",
       "      <td>22.81</td>\n",
       "      <td>23.41</td>\n",
       "      <td>-0.60</td>\n",
       "      <td>-2.5630</td>\n",
       "      <td>375368.90</td>\n",
       "      <td>864994.565</td>\n",
       "    </tr>\n",
       "    <tr>\n",
       "      <th>20</th>\n",
       "      <td>000002.SZ</td>\n",
       "      <td>20180905</td>\n",
       "      <td>24.11</td>\n",
       "      <td>24.20</td>\n",
       "      <td>23.41</td>\n",
       "      <td>23.41</td>\n",
       "      <td>24.43</td>\n",
       "      <td>-1.02</td>\n",
       "      <td>-4.1752</td>\n",
       "      <td>546644.37</td>\n",
       "      <td>1296346.119</td>\n",
       "    </tr>\n",
       "    <tr>\n",
       "      <th>21</th>\n",
       "      <td>000002.SZ</td>\n",
       "      <td>20180904</td>\n",
       "      <td>23.66</td>\n",
       "      <td>24.44</td>\n",
       "      <td>23.41</td>\n",
       "      <td>24.43</td>\n",
       "      <td>23.55</td>\n",
       "      <td>0.88</td>\n",
       "      <td>3.7367</td>\n",
       "      <td>437654.47</td>\n",
       "      <td>1052057.112</td>\n",
       "    </tr>\n",
       "    <tr>\n",
       "      <th>22</th>\n",
       "      <td>000002.SZ</td>\n",
       "      <td>20180903</td>\n",
       "      <td>23.85</td>\n",
       "      <td>24.57</td>\n",
       "      <td>23.38</td>\n",
       "      <td>23.55</td>\n",
       "      <td>24.05</td>\n",
       "      <td>-0.50</td>\n",
       "      <td>-2.0790</td>\n",
       "      <td>497612.43</td>\n",
       "      <td>1191130.969</td>\n",
       "    </tr>\n",
       "  </tbody>\n",
       "</table>\n",
       "</div>"
      ],
      "text/plain": [
       "      ts_code trade_date   open   high    low  close  pre_close  change  \\\n",
       "0   000002.SZ   20181011  21.00  21.50  20.81  20.93      21.75   -0.82   \n",
       "1   000002.SZ   20181010  21.77  22.03  21.40  21.75      21.82   -0.07   \n",
       "2   000002.SZ   20181009  22.05  22.12  21.26  21.82      22.05   -0.23   \n",
       "3   000002.SZ   20181008  22.95  23.20  21.98  22.05      24.30   -2.25   \n",
       "4   000002.SZ   20180928  24.50  24.90  23.95  24.30      24.45   -0.15   \n",
       "5   000002.SZ   20180927  24.63  24.78  24.30  24.45      24.67   -0.22   \n",
       "6   000002.SZ   20180926  24.66  25.33  23.89  24.67      24.64    0.03   \n",
       "7   000002.SZ   20180925  24.80  25.12  24.40  24.64      25.80   -1.16   \n",
       "8   000002.SZ   20180921  24.20  26.00  23.93  25.80      24.01    1.79   \n",
       "9   000002.SZ   20180920  24.01  24.43  23.80  24.01      24.17   -0.16   \n",
       "10  000002.SZ   20180919  23.03  24.67  22.91  24.17      23.00    1.17   \n",
       "11  000002.SZ   20180918  22.65  23.10  22.47  23.00      22.83    0.17   \n",
       "12  000002.SZ   20180917  23.04  23.23  22.72  22.83      23.32   -0.49   \n",
       "13  000002.SZ   20180914  23.13  23.39  22.81  23.32      23.10    0.22   \n",
       "14  000002.SZ   20180913  23.31  23.47  22.78  23.10      22.88    0.22   \n",
       "15  000002.SZ   20180912  23.24  23.30  22.61  22.88      23.34   -0.46   \n",
       "16  000002.SZ   20180911  23.39  23.64  23.09  23.34      23.46   -0.12   \n",
       "17  000002.SZ   20180910  23.42  23.85  23.11  23.46      23.21    0.25   \n",
       "18  000002.SZ   20180907  22.85  23.65  22.85  23.21      22.81    0.40   \n",
       "19  000002.SZ   20180906  23.32  23.56  22.69  22.81      23.41   -0.60   \n",
       "20  000002.SZ   20180905  24.11  24.20  23.41  23.41      24.43   -1.02   \n",
       "21  000002.SZ   20180904  23.66  24.44  23.41  24.43      23.55    0.88   \n",
       "22  000002.SZ   20180903  23.85  24.57  23.38  23.55      24.05   -0.50   \n",
       "\n",
       "    pct_change         vol       amount  \n",
       "0      -3.7701   709553.01  1498597.099  \n",
       "1      -0.3208   437797.76   951971.015  \n",
       "2      -1.0431   628633.52  1360687.509  \n",
       "3      -9.2593  1037914.88  2339001.429  \n",
       "4      -0.6135   683236.25  1671576.714  \n",
       "5      -0.8918   445294.33  1090622.042  \n",
       "6       0.1218   845884.37  2088651.952  \n",
       "7      -4.4961   908838.54  2247254.080  \n",
       "8       7.4552  1064216.38  2663500.909  \n",
       "9      -0.6620   521852.72  1257974.032  \n",
       "10      5.0870  1317837.01  3170366.001  \n",
       "11      0.7446   404634.05   921475.475  \n",
       "12     -2.1012   255061.69   584416.325  \n",
       "13      0.9524   334870.79   775981.815  \n",
       "14      0.9615   468837.96  1080871.662  \n",
       "15     -1.9709   313821.54   717459.921  \n",
       "16     -0.5115   358358.75   832895.939  \n",
       "17      1.0771   474917.79  1115789.487  \n",
       "18      1.7536   334943.33   780678.316  \n",
       "19     -2.5630   375368.90   864994.565  \n",
       "20     -4.1752   546644.37  1296346.119  \n",
       "21      3.7367   437654.47  1052057.112  \n",
       "22     -2.0790   497612.43  1191130.969  "
      ]
     },
     "execution_count": 151,
     "metadata": {},
     "output_type": "execute_result"
    }
   ],
   "source": [
    "#通过一些网站API，例如tushare\n",
    "import tushare as ts\n",
    "tk = pd.read_csv('tk.csv')\n",
    "ts.set_token(tk.iloc[0])\n",
    "\n",
    "pro = ts.pro_api()\n",
    "df = pro.daily(ts_code = '000002.SZ', start_date = '20180901', end_date = '20181011')\n",
    "df"
   ]
  },
  {
   "cell_type": "code",
   "execution_count": 177,
   "metadata": {},
   "outputs": [],
   "source": [
    "# 从txt文档中输入数据\n",
    "x = pd.read_table('data.txt')\n",
    "x"
   ]
  },
  {
   "cell_type": "code",
   "execution_count": 186,
   "metadata": {},
   "outputs": [
    {
     "data": {
      "text/html": [
       "<div>\n",
       "<style scoped>\n",
       "    .dataframe tbody tr th:only-of-type {\n",
       "        vertical-align: middle;\n",
       "    }\n",
       "\n",
       "    .dataframe tbody tr th {\n",
       "        vertical-align: top;\n",
       "    }\n",
       "\n",
       "    .dataframe thead th {\n",
       "        text-align: right;\n",
       "    }\n",
       "</style>\n",
       "<table border=\"1\" class=\"dataframe\">\n",
       "  <thead>\n",
       "    <tr style=\"text-align: right;\">\n",
       "      <th></th>\n",
       "      <th>沪深300</th>\n",
       "    </tr>\n",
       "  </thead>\n",
       "  <tbody>\n",
       "    <tr>\n",
       "      <th>0</th>\n",
       "      <td>3424.1940</td>\n",
       "    </tr>\n",
       "    <tr>\n",
       "      <th>1</th>\n",
       "      <td>3424.1669</td>\n",
       "    </tr>\n",
       "    <tr>\n",
       "      <th>2</th>\n",
       "      <td>3485.6581</td>\n",
       "    </tr>\n",
       "    <tr>\n",
       "      <th>3</th>\n",
       "      <td>3480.4345</td>\n",
       "    </tr>\n",
       "    <tr>\n",
       "      <th>4</th>\n",
       "      <td>3492.8845</td>\n",
       "    </tr>\n",
       "    <tr>\n",
       "      <th>5</th>\n",
       "      <td>3497.7382</td>\n",
       "    </tr>\n",
       "    <tr>\n",
       "      <th>6</th>\n",
       "      <td>3486.5074</td>\n",
       "    </tr>\n",
       "    <tr>\n",
       "      <th>7</th>\n",
       "      <td>3468.7538</td>\n",
       "    </tr>\n",
       "    <tr>\n",
       "      <th>8</th>\n",
       "      <td>3492.8816</td>\n",
       "    </tr>\n",
       "    <tr>\n",
       "      <th>9</th>\n",
       "      <td>3533.8718</td>\n",
       "    </tr>\n",
       "    <tr>\n",
       "      <th>10</th>\n",
       "      <td>3560.9786</td>\n",
       "    </tr>\n",
       "    <tr>\n",
       "      <th>11</th>\n",
       "      <td>3576.1703</td>\n",
       "    </tr>\n",
       "    <tr>\n",
       "      <th>12</th>\n",
       "      <td>3574.3894</td>\n",
       "    </tr>\n",
       "    <tr>\n",
       "      <th>13</th>\n",
       "      <td>3582.2674</td>\n",
       "    </tr>\n",
       "    <tr>\n",
       "      <th>14</th>\n",
       "      <td>3535.2987</td>\n",
       "    </tr>\n",
       "    <tr>\n",
       "      <th>15</th>\n",
       "      <td>3528.7926</td>\n",
       "    </tr>\n",
       "    <tr>\n",
       "      <th>16</th>\n",
       "      <td>3518.7611</td>\n",
       "    </tr>\n",
       "    <tr>\n",
       "      <th>17</th>\n",
       "      <td>3553.6653</td>\n",
       "    </tr>\n",
       "    <tr>\n",
       "      <th>18</th>\n",
       "      <td>3546.4940</td>\n",
       "    </tr>\n",
       "    <tr>\n",
       "      <th>19</th>\n",
       "      <td>3587.9550</td>\n",
       "    </tr>\n",
       "    <tr>\n",
       "      <th>20</th>\n",
       "      <td>3590.3425</td>\n",
       "    </tr>\n",
       "    <tr>\n",
       "      <th>21</th>\n",
       "      <td>3622.8831</td>\n",
       "    </tr>\n",
       "  </tbody>\n",
       "</table>\n",
       "</div>"
      ],
      "text/plain": [
       "        沪深300\n",
       "0   3424.1940\n",
       "1   3424.1669\n",
       "2   3485.6581\n",
       "3   3480.4345\n",
       "4   3492.8845\n",
       "5   3497.7382\n",
       "6   3486.5074\n",
       "7   3468.7538\n",
       "8   3492.8816\n",
       "9   3533.8718\n",
       "10  3560.9786\n",
       "11  3576.1703\n",
       "12  3574.3894\n",
       "13  3582.2674\n",
       "14  3535.2987\n",
       "15  3528.7926\n",
       "16  3518.7611\n",
       "17  3553.6653\n",
       "18  3546.4940\n",
       "19  3587.9550\n",
       "20  3590.3425\n",
       "21  3622.8831"
      ]
     },
     "execution_count": 186,
     "metadata": {},
     "output_type": "execute_result"
    }
   ],
   "source": [
    "# 从excel中输入数据\n",
    "infile = pd.ExcelFile('data.xlsx')\n",
    "infile.parse(0)\n",
    "#选择excel的第一个表格"
   ]
  },
  {
   "cell_type": "code",
   "execution_count": 206,
   "metadata": {},
   "outputs": [
    {
     "data": {
      "text/html": [
       "<div>\n",
       "<style scoped>\n",
       "    .dataframe tbody tr th:only-of-type {\n",
       "        vertical-align: middle;\n",
       "    }\n",
       "\n",
       "    .dataframe tbody tr th {\n",
       "        vertical-align: top;\n",
       "    }\n",
       "\n",
       "    .dataframe thead th {\n",
       "        text-align: right;\n",
       "    }\n",
       "</style>\n",
       "<table border=\"1\" class=\"dataframe\">\n",
       "  <thead>\n",
       "    <tr style=\"text-align: right;\">\n",
       "      <th></th>\n",
       "      <th>date</th>\n",
       "      <th>hs300</th>\n",
       "      <th>pingan</th>\n",
       "    </tr>\n",
       "  </thead>\n",
       "  <tbody>\n",
       "    <tr>\n",
       "      <th>0</th>\n",
       "      <td>2015-06-23</td>\n",
       "      <td>0.03214</td>\n",
       "      <td>0.0496</td>\n",
       "    </tr>\n",
       "    <tr>\n",
       "      <th>1</th>\n",
       "      <td>2015-06-24</td>\n",
       "      <td>0.01965</td>\n",
       "      <td>0.0052</td>\n",
       "    </tr>\n",
       "    <tr>\n",
       "      <th>2</th>\n",
       "      <td>2015-06-25</td>\n",
       "      <td>-0.03557</td>\n",
       "      <td>-0.0287</td>\n",
       "    </tr>\n",
       "    <tr>\n",
       "      <th>3</th>\n",
       "      <td>2015-06-26</td>\n",
       "      <td>-0.07868</td>\n",
       "      <td>-0.0605</td>\n",
       "    </tr>\n",
       "    <tr>\n",
       "      <th>4</th>\n",
       "      <td>2015-06-29</td>\n",
       "      <td>-0.03336</td>\n",
       "      <td>-0.0119</td>\n",
       "    </tr>\n",
       "    <tr>\n",
       "      <th>5</th>\n",
       "      <td>2015-06-30</td>\n",
       "      <td>0.06715</td>\n",
       "      <td>0.0708</td>\n",
       "    </tr>\n",
       "    <tr>\n",
       "      <th>6</th>\n",
       "      <td>2015-07-01</td>\n",
       "      <td>-0.04918</td>\n",
       "      <td>-0.0400</td>\n",
       "    </tr>\n",
       "    <tr>\n",
       "      <th>7</th>\n",
       "      <td>2015-07-02</td>\n",
       "      <td>-0.03410</td>\n",
       "      <td>-0.0108</td>\n",
       "    </tr>\n",
       "    <tr>\n",
       "      <th>8</th>\n",
       "      <td>2015-07-03</td>\n",
       "      <td>-0.05406</td>\n",
       "      <td>-0.0428</td>\n",
       "    </tr>\n",
       "    <tr>\n",
       "      <th>9</th>\n",
       "      <td>2015-07-06</td>\n",
       "      <td>0.02898</td>\n",
       "      <td>0.0501</td>\n",
       "    </tr>\n",
       "    <tr>\n",
       "      <th>10</th>\n",
       "      <td>2015-07-07</td>\n",
       "      <td>-0.01764</td>\n",
       "      <td>0.1000</td>\n",
       "    </tr>\n",
       "    <tr>\n",
       "      <th>11</th>\n",
       "      <td>2015-07-08</td>\n",
       "      <td>-0.06746</td>\n",
       "      <td>-0.0996</td>\n",
       "    </tr>\n",
       "    <tr>\n",
       "      <th>12</th>\n",
       "      <td>2015-07-09</td>\n",
       "      <td>0.06404</td>\n",
       "      <td>0.0380</td>\n",
       "    </tr>\n",
       "    <tr>\n",
       "      <th>13</th>\n",
       "      <td>2015-07-10</td>\n",
       "      <td>0.05360</td>\n",
       "      <td>0.0223</td>\n",
       "    </tr>\n",
       "    <tr>\n",
       "      <th>14</th>\n",
       "      <td>2015-07-13</td>\n",
       "      <td>0.02563</td>\n",
       "      <td>-0.0190</td>\n",
       "    </tr>\n",
       "    <tr>\n",
       "      <th>15</th>\n",
       "      <td>2015-07-14</td>\n",
       "      <td>-0.02366</td>\n",
       "      <td>-0.0248</td>\n",
       "    </tr>\n",
       "    <tr>\n",
       "      <th>16</th>\n",
       "      <td>2015-07-15</td>\n",
       "      <td>-0.03536</td>\n",
       "      <td>0.0051</td>\n",
       "    </tr>\n",
       "    <tr>\n",
       "      <th>17</th>\n",
       "      <td>2015-07-16</td>\n",
       "      <td>0.00771</td>\n",
       "      <td>-0.0071</td>\n",
       "    </tr>\n",
       "    <tr>\n",
       "      <th>18</th>\n",
       "      <td>2015-07-17</td>\n",
       "      <td>0.03856</td>\n",
       "      <td>0.0254</td>\n",
       "    </tr>\n",
       "    <tr>\n",
       "      <th>19</th>\n",
       "      <td>2015-07-20</td>\n",
       "      <td>0.00220</td>\n",
       "      <td>0.0078</td>\n",
       "    </tr>\n",
       "    <tr>\n",
       "      <th>20</th>\n",
       "      <td>2015-07-21</td>\n",
       "      <td>0.00130</td>\n",
       "      <td>-0.0067</td>\n",
       "    </tr>\n",
       "    <tr>\n",
       "      <th>21</th>\n",
       "      <td>2015-07-22</td>\n",
       "      <td>-0.00212</td>\n",
       "      <td>-0.0161</td>\n",
       "    </tr>\n",
       "    <tr>\n",
       "      <th>22</th>\n",
       "      <td>2015-07-23</td>\n",
       "      <td>0.02253</td>\n",
       "      <td>0.0419</td>\n",
       "    </tr>\n",
       "    <tr>\n",
       "      <th>23</th>\n",
       "      <td>2015-07-24</td>\n",
       "      <td>-0.01753</td>\n",
       "      <td>-0.0236</td>\n",
       "    </tr>\n",
       "    <tr>\n",
       "      <th>24</th>\n",
       "      <td>2015-07-27</td>\n",
       "      <td>-0.08561</td>\n",
       "      <td>-0.0874</td>\n",
       "    </tr>\n",
       "    <tr>\n",
       "      <th>25</th>\n",
       "      <td>2015-07-28</td>\n",
       "      <td>-0.00200</td>\n",
       "      <td>-0.0399</td>\n",
       "    </tr>\n",
       "    <tr>\n",
       "      <th>26</th>\n",
       "      <td>2015-07-29</td>\n",
       "      <td>0.03130</td>\n",
       "      <td>-0.0046</td>\n",
       "    </tr>\n",
       "    <tr>\n",
       "      <th>27</th>\n",
       "      <td>2015-07-30</td>\n",
       "      <td>-0.02925</td>\n",
       "      <td>-0.0180</td>\n",
       "    </tr>\n",
       "    <tr>\n",
       "      <th>28</th>\n",
       "      <td>2015-07-31</td>\n",
       "      <td>0.00034</td>\n",
       "      <td>-0.0274</td>\n",
       "    </tr>\n",
       "    <tr>\n",
       "      <th>29</th>\n",
       "      <td>2015-08-03</td>\n",
       "      <td>0.00328</td>\n",
       "      <td>-0.0003</td>\n",
       "    </tr>\n",
       "    <tr>\n",
       "      <th>...</th>\n",
       "      <td>...</td>\n",
       "      <td>...</td>\n",
       "      <td>...</td>\n",
       "    </tr>\n",
       "    <tr>\n",
       "      <th>70</th>\n",
       "      <td>2015-10-08</td>\n",
       "      <td>0.02920</td>\n",
       "      <td>0.0281</td>\n",
       "    </tr>\n",
       "    <tr>\n",
       "      <th>71</th>\n",
       "      <td>2015-10-09</td>\n",
       "      <td>0.01324</td>\n",
       "      <td>0.0319</td>\n",
       "    </tr>\n",
       "    <tr>\n",
       "      <th>72</th>\n",
       "      <td>2015-10-12</td>\n",
       "      <td>0.03221</td>\n",
       "      <td>0.0303</td>\n",
       "    </tr>\n",
       "    <tr>\n",
       "      <th>73</th>\n",
       "      <td>2015-10-13</td>\n",
       "      <td>-0.00077</td>\n",
       "      <td>-0.0135</td>\n",
       "    </tr>\n",
       "    <tr>\n",
       "      <th>74</th>\n",
       "      <td>2015-10-14</td>\n",
       "      <td>-0.01130</td>\n",
       "      <td>-0.0161</td>\n",
       "    </tr>\n",
       "    <tr>\n",
       "      <th>75</th>\n",
       "      <td>2015-10-15</td>\n",
       "      <td>0.02369</td>\n",
       "      <td>0.0246</td>\n",
       "    </tr>\n",
       "    <tr>\n",
       "      <th>76</th>\n",
       "      <td>2015-10-16</td>\n",
       "      <td>0.01355</td>\n",
       "      <td>0.0102</td>\n",
       "    </tr>\n",
       "    <tr>\n",
       "      <th>77</th>\n",
       "      <td>2015-10-19</td>\n",
       "      <td>0.00003</td>\n",
       "      <td>0.0116</td>\n",
       "    </tr>\n",
       "    <tr>\n",
       "      <th>78</th>\n",
       "      <td>2015-10-20</td>\n",
       "      <td>0.01231</td>\n",
       "      <td>-0.0078</td>\n",
       "    </tr>\n",
       "    <tr>\n",
       "      <th>79</th>\n",
       "      <td>2015-10-21</td>\n",
       "      <td>-0.02919</td>\n",
       "      <td>-0.0018</td>\n",
       "    </tr>\n",
       "    <tr>\n",
       "      <th>80</th>\n",
       "      <td>2015-10-22</td>\n",
       "      <td>0.01476</td>\n",
       "      <td>0.0003</td>\n",
       "    </tr>\n",
       "    <tr>\n",
       "      <th>81</th>\n",
       "      <td>2015-10-23</td>\n",
       "      <td>0.01325</td>\n",
       "      <td>0.0265</td>\n",
       "    </tr>\n",
       "    <tr>\n",
       "      <th>82</th>\n",
       "      <td>2015-10-26</td>\n",
       "      <td>0.00505</td>\n",
       "      <td>-0.0047</td>\n",
       "    </tr>\n",
       "    <tr>\n",
       "      <th>83</th>\n",
       "      <td>2015-10-27</td>\n",
       "      <td>0.00101</td>\n",
       "      <td>0.0238</td>\n",
       "    </tr>\n",
       "    <tr>\n",
       "      <th>84</th>\n",
       "      <td>2015-10-28</td>\n",
       "      <td>-0.01891</td>\n",
       "      <td>-0.0239</td>\n",
       "    </tr>\n",
       "    <tr>\n",
       "      <th>85</th>\n",
       "      <td>2015-10-29</td>\n",
       "      <td>0.00238</td>\n",
       "      <td>-0.0051</td>\n",
       "    </tr>\n",
       "    <tr>\n",
       "      <th>86</th>\n",
       "      <td>2015-10-30</td>\n",
       "      <td>0.00022</td>\n",
       "      <td>0.0033</td>\n",
       "    </tr>\n",
       "    <tr>\n",
       "      <th>87</th>\n",
       "      <td>2015-11-02</td>\n",
       "      <td>-0.01644</td>\n",
       "      <td>-0.0140</td>\n",
       "    </tr>\n",
       "    <tr>\n",
       "      <th>88</th>\n",
       "      <td>2015-11-03</td>\n",
       "      <td>-0.00301</td>\n",
       "      <td>0.0000</td>\n",
       "    </tr>\n",
       "    <tr>\n",
       "      <th>89</th>\n",
       "      <td>2015-11-04</td>\n",
       "      <td>0.04705</td>\n",
       "      <td>0.0600</td>\n",
       "    </tr>\n",
       "    <tr>\n",
       "      <th>90</th>\n",
       "      <td>2015-11-05</td>\n",
       "      <td>0.02134</td>\n",
       "      <td>0.0091</td>\n",
       "    </tr>\n",
       "    <tr>\n",
       "      <th>91</th>\n",
       "      <td>2015-11-06</td>\n",
       "      <td>0.02358</td>\n",
       "      <td>0.0246</td>\n",
       "    </tr>\n",
       "    <tr>\n",
       "      <th>92</th>\n",
       "      <td>2015-11-09</td>\n",
       "      <td>0.01239</td>\n",
       "      <td>0.0072</td>\n",
       "    </tr>\n",
       "    <tr>\n",
       "      <th>93</th>\n",
       "      <td>2015-11-10</td>\n",
       "      <td>-0.00185</td>\n",
       "      <td>-0.0055</td>\n",
       "    </tr>\n",
       "    <tr>\n",
       "      <th>94</th>\n",
       "      <td>2015-11-11</td>\n",
       "      <td>0.00011</td>\n",
       "      <td>-0.0113</td>\n",
       "    </tr>\n",
       "    <tr>\n",
       "      <th>95</th>\n",
       "      <td>2015-11-12</td>\n",
       "      <td>-0.01000</td>\n",
       "      <td>-0.0114</td>\n",
       "    </tr>\n",
       "    <tr>\n",
       "      <th>96</th>\n",
       "      <td>2015-11-13</td>\n",
       "      <td>-0.01293</td>\n",
       "      <td>-0.0107</td>\n",
       "    </tr>\n",
       "    <tr>\n",
       "      <th>97</th>\n",
       "      <td>2015-11-16</td>\n",
       "      <td>0.00477</td>\n",
       "      <td>0.0020</td>\n",
       "    </tr>\n",
       "    <tr>\n",
       "      <th>98</th>\n",
       "      <td>2015-11-17</td>\n",
       "      <td>-0.00152</td>\n",
       "      <td>0.0040</td>\n",
       "    </tr>\n",
       "    <tr>\n",
       "      <th>99</th>\n",
       "      <td>2015-11-18</td>\n",
       "      <td>-0.01139</td>\n",
       "      <td>-0.0108</td>\n",
       "    </tr>\n",
       "  </tbody>\n",
       "</table>\n",
       "<p>100 rows × 3 columns</p>\n",
       "</div>"
      ],
      "text/plain": [
       "          date    hs300  pingan\n",
       "0   2015-06-23  0.03214  0.0496\n",
       "1   2015-06-24  0.01965  0.0052\n",
       "2   2015-06-25 -0.03557 -0.0287\n",
       "3   2015-06-26 -0.07868 -0.0605\n",
       "4   2015-06-29 -0.03336 -0.0119\n",
       "5   2015-06-30  0.06715  0.0708\n",
       "6   2015-07-01 -0.04918 -0.0400\n",
       "7   2015-07-02 -0.03410 -0.0108\n",
       "8   2015-07-03 -0.05406 -0.0428\n",
       "9   2015-07-06  0.02898  0.0501\n",
       "10  2015-07-07 -0.01764  0.1000\n",
       "11  2015-07-08 -0.06746 -0.0996\n",
       "12  2015-07-09  0.06404  0.0380\n",
       "13  2015-07-10  0.05360  0.0223\n",
       "14  2015-07-13  0.02563 -0.0190\n",
       "15  2015-07-14 -0.02366 -0.0248\n",
       "16  2015-07-15 -0.03536  0.0051\n",
       "17  2015-07-16  0.00771 -0.0071\n",
       "18  2015-07-17  0.03856  0.0254\n",
       "19  2015-07-20  0.00220  0.0078\n",
       "20  2015-07-21  0.00130 -0.0067\n",
       "21  2015-07-22 -0.00212 -0.0161\n",
       "22  2015-07-23  0.02253  0.0419\n",
       "23  2015-07-24 -0.01753 -0.0236\n",
       "24  2015-07-27 -0.08561 -0.0874\n",
       "25  2015-07-28 -0.00200 -0.0399\n",
       "26  2015-07-29  0.03130 -0.0046\n",
       "27  2015-07-30 -0.02925 -0.0180\n",
       "28  2015-07-31  0.00034 -0.0274\n",
       "29  2015-08-03  0.00328 -0.0003\n",
       "..         ...      ...     ...\n",
       "70  2015-10-08  0.02920  0.0281\n",
       "71  2015-10-09  0.01324  0.0319\n",
       "72  2015-10-12  0.03221  0.0303\n",
       "73  2015-10-13 -0.00077 -0.0135\n",
       "74  2015-10-14 -0.01130 -0.0161\n",
       "75  2015-10-15  0.02369  0.0246\n",
       "76  2015-10-16  0.01355  0.0102\n",
       "77  2015-10-19  0.00003  0.0116\n",
       "78  2015-10-20  0.01231 -0.0078\n",
       "79  2015-10-21 -0.02919 -0.0018\n",
       "80  2015-10-22  0.01476  0.0003\n",
       "81  2015-10-23  0.01325  0.0265\n",
       "82  2015-10-26  0.00505 -0.0047\n",
       "83  2015-10-27  0.00101  0.0238\n",
       "84  2015-10-28 -0.01891 -0.0239\n",
       "85  2015-10-29  0.00238 -0.0051\n",
       "86  2015-10-30  0.00022  0.0033\n",
       "87  2015-11-02 -0.01644 -0.0140\n",
       "88  2015-11-03 -0.00301  0.0000\n",
       "89  2015-11-04  0.04705  0.0600\n",
       "90  2015-11-05  0.02134  0.0091\n",
       "91  2015-11-06  0.02358  0.0246\n",
       "92  2015-11-09  0.01239  0.0072\n",
       "93  2015-11-10 -0.00185 -0.0055\n",
       "94  2015-11-11  0.00011 -0.0113\n",
       "95  2015-11-12 -0.01000 -0.0114\n",
       "96  2015-11-13 -0.01293 -0.0107\n",
       "97  2015-11-16  0.00477  0.0020\n",
       "98  2015-11-17 -0.00152  0.0040\n",
       "99  2015-11-18 -0.01139 -0.0108\n",
       "\n",
       "[100 rows x 3 columns]"
      ]
     },
     "execution_count": 206,
     "metadata": {},
     "output_type": "execute_result"
    }
   ],
   "source": [
    "# 从csv文件中输入数据\n",
    "data = pd.read_csv('data.csv')\n",
    "data"
   ]
  },
  {
   "cell_type": "code",
   "execution_count": 209,
   "metadata": {},
   "outputs": [
    {
     "name": "stdout",
     "output_type": "stream",
     "text": [
      "2013-01-01   -0.528735\n",
      "2013-01-02    0.457002\n",
      "2013-01-03    0.929969\n",
      "2013-01-04   -1.569271\n",
      "2013-01-05   -1.022487\n",
      "Freq: D, dtype: float64\n",
      "2013-04-06   -0.825020\n",
      "2013-04-07   -2.644409\n",
      "2013-04-08   -0.152986\n",
      "2013-04-09   -0.751921\n",
      "2013-04-10   -0.132609\n",
      "Freq: D, dtype: float64\n"
     ]
    }
   ],
   "source": [
    "# 生成一维时间序列\n",
    "x = pd.date_range('1/1/2013', periods=100)\n",
    "data = pd.Series(sp.randn(len(x)), index=x)\n",
    "\n",
    "print(data.head())#前5行\n",
    "print(data.tail())#后五行"
   ]
  },
  {
   "cell_type": "code",
   "execution_count": 230,
   "metadata": {},
   "outputs": [
    {
     "data": {
      "text/html": [
       "<div>\n",
       "<style scoped>\n",
       "    .dataframe tbody tr th:only-of-type {\n",
       "        vertical-align: middle;\n",
       "    }\n",
       "\n",
       "    .dataframe tbody tr th {\n",
       "        vertical-align: top;\n",
       "    }\n",
       "\n",
       "    .dataframe thead th {\n",
       "        text-align: right;\n",
       "    }\n",
       "</style>\n",
       "<table border=\"1\" class=\"dataframe\">\n",
       "  <thead>\n",
       "    <tr style=\"text-align: right;\">\n",
       "      <th></th>\n",
       "      <th>hs300</th>\n",
       "      <th>pingan</th>\n",
       "    </tr>\n",
       "  </thead>\n",
       "  <tbody>\n",
       "    <tr>\n",
       "      <th>2015-06-23</th>\n",
       "      <td>0.03214</td>\n",
       "      <td>0.0496</td>\n",
       "    </tr>\n",
       "    <tr>\n",
       "      <th>2015-06-24</th>\n",
       "      <td>0.01965</td>\n",
       "      <td>0.0052</td>\n",
       "    </tr>\n",
       "    <tr>\n",
       "      <th>2015-06-25</th>\n",
       "      <td>-0.03557</td>\n",
       "      <td>-0.0287</td>\n",
       "    </tr>\n",
       "    <tr>\n",
       "      <th>2015-06-26</th>\n",
       "      <td>-0.07868</td>\n",
       "      <td>-0.0605</td>\n",
       "    </tr>\n",
       "    <tr>\n",
       "      <th>2015-06-29</th>\n",
       "      <td>-0.03336</td>\n",
       "      <td>-0.0119</td>\n",
       "    </tr>\n",
       "  </tbody>\n",
       "</table>\n",
       "</div>"
      ],
      "text/plain": [
       "              hs300  pingan\n",
       "2015-06-23  0.03214  0.0496\n",
       "2015-06-24  0.01965  0.0052\n",
       "2015-06-25 -0.03557 -0.0287\n",
       "2015-06-26 -0.07868 -0.0605\n",
       "2015-06-29 -0.03336 -0.0119"
      ]
     },
     "execution_count": 230,
     "metadata": {},
     "output_type": "execute_result"
    }
   ],
   "source": [
    "# 使用日期变量\n",
    "x=pd.read_csv('data.csv',index_col=0, parse_dates=True)\n",
    "# index_col:用作行索引的列编号，parse_dates = True时表示对index按照日期格式进行解析\n",
    "# csv格式比较常用，里面的参数很多，可以在读取数据时就能实现很多功能，具体的参数简介及用法可以参考这个网址\n",
    "# https://blog.csdn.net/sinat_35562946/article/details/81058221\n",
    "\n",
    "x.head()"
   ]
  },
  {
   "cell_type": "code",
   "execution_count": 237,
   "metadata": {},
   "outputs": [
    {
     "data": {
      "text/html": [
       "<div>\n",
       "<style scoped>\n",
       "    .dataframe tbody tr th:only-of-type {\n",
       "        vertical-align: middle;\n",
       "    }\n",
       "\n",
       "    .dataframe tbody tr th {\n",
       "        vertical-align: top;\n",
       "    }\n",
       "\n",
       "    .dataframe thead th {\n",
       "        text-align: right;\n",
       "    }\n",
       "</style>\n",
       "<table border=\"1\" class=\"dataframe\">\n",
       "  <thead>\n",
       "    <tr style=\"text-align: right;\">\n",
       "      <th></th>\n",
       "      <th>hs300</th>\n",
       "    </tr>\n",
       "  </thead>\n",
       "  <tbody>\n",
       "    <tr>\n",
       "      <th>2015-06-23</th>\n",
       "      <td>NaN</td>\n",
       "    </tr>\n",
       "    <tr>\n",
       "      <th>2015-06-24</th>\n",
       "      <td>NaN</td>\n",
       "    </tr>\n",
       "    <tr>\n",
       "      <th>2015-06-25</th>\n",
       "      <td>NaN</td>\n",
       "    </tr>\n",
       "    <tr>\n",
       "      <th>2015-06-26</th>\n",
       "      <td>NaN</td>\n",
       "    </tr>\n",
       "    <tr>\n",
       "      <th>2015-06-29</th>\n",
       "      <td>NaN</td>\n",
       "    </tr>\n",
       "  </tbody>\n",
       "</table>\n",
       "</div>"
      ],
      "text/plain": [
       "           hs300\n",
       "2015-06-23   NaN\n",
       "2015-06-24   NaN\n",
       "2015-06-25   NaN\n",
       "2015-06-26   NaN\n",
       "2015-06-29   NaN"
      ]
     },
     "execution_count": 237,
     "metadata": {},
     "output_type": "execute_result"
    }
   ],
   "source": [
    "x=pd.read_csv('data.csv',index_col=0, usecols=[0])\n",
    "# 如果只对第一列感兴趣的话，可以在读取时只读取第一列，使用usecols\n",
    "x.head()"
   ]
  },
  {
   "cell_type": "code",
   "execution_count": 238,
   "metadata": {},
   "outputs": [
    {
     "name": "stdout",
     "output_type": "stream",
     "text": [
      "[1.   1.1  0.9  1.05]\n",
      "[1.  1.1 0.9]\n",
      "[1.1  0.9  1.05]\n",
      "[ 0.1        -0.18181818  0.16666667]\n",
      "[-0.09090909  0.22222222 -0.14285714]\n"
     ]
    }
   ],
   "source": [
    "# 计算回报率\n",
    "p=np.array([1, 1.1, 0.9, 1.05])\n",
    "print(p)\n",
    "print(p[:-1])\n",
    "print(p[1:])\n",
    "ret=(p[1:]-p[:-1])/p[:-1]\n",
    "print(ret)\n",
    "ret1=(p[:-1]-p[1:])/p[1:]\n",
    "print(ret1)"
   ]
  },
  {
   "cell_type": "code",
   "execution_count": 239,
   "metadata": {},
   "outputs": [
    {
     "data": {
      "text/html": [
       "<div>\n",
       "<style scoped>\n",
       "    .dataframe tbody tr th:only-of-type {\n",
       "        vertical-align: middle;\n",
       "    }\n",
       "\n",
       "    .dataframe tbody tr th {\n",
       "        vertical-align: top;\n",
       "    }\n",
       "\n",
       "    .dataframe thead th {\n",
       "        text-align: right;\n",
       "    }\n",
       "</style>\n",
       "<table border=\"1\" class=\"dataframe\">\n",
       "  <thead>\n",
       "    <tr style=\"text-align: right;\">\n",
       "      <th></th>\n",
       "      <th>ts_code</th>\n",
       "      <th>trade_date</th>\n",
       "      <th>open</th>\n",
       "      <th>high</th>\n",
       "      <th>low</th>\n",
       "      <th>close</th>\n",
       "      <th>pre_close</th>\n",
       "      <th>change</th>\n",
       "      <th>pct_change</th>\n",
       "      <th>vol</th>\n",
       "      <th>amount</th>\n",
       "    </tr>\n",
       "  </thead>\n",
       "  <tbody>\n",
       "    <tr>\n",
       "      <th>0</th>\n",
       "      <td>000002.SZ</td>\n",
       "      <td>20180920</td>\n",
       "      <td>24.01</td>\n",
       "      <td>24.43</td>\n",
       "      <td>23.80</td>\n",
       "      <td>24.01</td>\n",
       "      <td>24.17</td>\n",
       "      <td>-0.16</td>\n",
       "      <td>-0.6620</td>\n",
       "      <td>521852.72</td>\n",
       "      <td>1257974.032</td>\n",
       "    </tr>\n",
       "    <tr>\n",
       "      <th>1</th>\n",
       "      <td>000002.SZ</td>\n",
       "      <td>20180919</td>\n",
       "      <td>23.03</td>\n",
       "      <td>24.67</td>\n",
       "      <td>22.91</td>\n",
       "      <td>24.17</td>\n",
       "      <td>23.00</td>\n",
       "      <td>1.17</td>\n",
       "      <td>5.0870</td>\n",
       "      <td>1317837.01</td>\n",
       "      <td>3170366.001</td>\n",
       "    </tr>\n",
       "    <tr>\n",
       "      <th>2</th>\n",
       "      <td>000002.SZ</td>\n",
       "      <td>20180918</td>\n",
       "      <td>22.65</td>\n",
       "      <td>23.10</td>\n",
       "      <td>22.47</td>\n",
       "      <td>23.00</td>\n",
       "      <td>22.83</td>\n",
       "      <td>0.17</td>\n",
       "      <td>0.7446</td>\n",
       "      <td>404634.05</td>\n",
       "      <td>921475.475</td>\n",
       "    </tr>\n",
       "    <tr>\n",
       "      <th>3</th>\n",
       "      <td>000002.SZ</td>\n",
       "      <td>20180917</td>\n",
       "      <td>23.04</td>\n",
       "      <td>23.23</td>\n",
       "      <td>22.72</td>\n",
       "      <td>22.83</td>\n",
       "      <td>23.32</td>\n",
       "      <td>-0.49</td>\n",
       "      <td>-2.1012</td>\n",
       "      <td>255061.69</td>\n",
       "      <td>584416.325</td>\n",
       "    </tr>\n",
       "    <tr>\n",
       "      <th>4</th>\n",
       "      <td>000002.SZ</td>\n",
       "      <td>20180914</td>\n",
       "      <td>23.13</td>\n",
       "      <td>23.39</td>\n",
       "      <td>22.81</td>\n",
       "      <td>23.32</td>\n",
       "      <td>23.10</td>\n",
       "      <td>0.22</td>\n",
       "      <td>0.9524</td>\n",
       "      <td>334870.79</td>\n",
       "      <td>775981.815</td>\n",
       "    </tr>\n",
       "    <tr>\n",
       "      <th>5</th>\n",
       "      <td>000002.SZ</td>\n",
       "      <td>20180913</td>\n",
       "      <td>23.31</td>\n",
       "      <td>23.47</td>\n",
       "      <td>22.78</td>\n",
       "      <td>23.10</td>\n",
       "      <td>22.88</td>\n",
       "      <td>0.22</td>\n",
       "      <td>0.9615</td>\n",
       "      <td>468837.96</td>\n",
       "      <td>1080871.662</td>\n",
       "    </tr>\n",
       "    <tr>\n",
       "      <th>6</th>\n",
       "      <td>000002.SZ</td>\n",
       "      <td>20180912</td>\n",
       "      <td>23.24</td>\n",
       "      <td>23.30</td>\n",
       "      <td>22.61</td>\n",
       "      <td>22.88</td>\n",
       "      <td>23.34</td>\n",
       "      <td>-0.46</td>\n",
       "      <td>-1.9709</td>\n",
       "      <td>313821.54</td>\n",
       "      <td>717459.921</td>\n",
       "    </tr>\n",
       "    <tr>\n",
       "      <th>7</th>\n",
       "      <td>000002.SZ</td>\n",
       "      <td>20180911</td>\n",
       "      <td>23.39</td>\n",
       "      <td>23.64</td>\n",
       "      <td>23.09</td>\n",
       "      <td>23.34</td>\n",
       "      <td>23.46</td>\n",
       "      <td>-0.12</td>\n",
       "      <td>-0.5115</td>\n",
       "      <td>358358.75</td>\n",
       "      <td>832895.939</td>\n",
       "    </tr>\n",
       "    <tr>\n",
       "      <th>8</th>\n",
       "      <td>000002.SZ</td>\n",
       "      <td>20180910</td>\n",
       "      <td>23.42</td>\n",
       "      <td>23.85</td>\n",
       "      <td>23.11</td>\n",
       "      <td>23.46</td>\n",
       "      <td>23.21</td>\n",
       "      <td>0.25</td>\n",
       "      <td>1.0771</td>\n",
       "      <td>474917.79</td>\n",
       "      <td>1115789.487</td>\n",
       "    </tr>\n",
       "    <tr>\n",
       "      <th>9</th>\n",
       "      <td>000002.SZ</td>\n",
       "      <td>20180907</td>\n",
       "      <td>22.85</td>\n",
       "      <td>23.65</td>\n",
       "      <td>22.85</td>\n",
       "      <td>23.21</td>\n",
       "      <td>22.81</td>\n",
       "      <td>0.40</td>\n",
       "      <td>1.7536</td>\n",
       "      <td>334943.33</td>\n",
       "      <td>780678.316</td>\n",
       "    </tr>\n",
       "    <tr>\n",
       "      <th>10</th>\n",
       "      <td>000002.SZ</td>\n",
       "      <td>20180906</td>\n",
       "      <td>23.32</td>\n",
       "      <td>23.56</td>\n",
       "      <td>22.69</td>\n",
       "      <td>22.81</td>\n",
       "      <td>23.41</td>\n",
       "      <td>-0.60</td>\n",
       "      <td>-2.5630</td>\n",
       "      <td>375368.90</td>\n",
       "      <td>864994.565</td>\n",
       "    </tr>\n",
       "    <tr>\n",
       "      <th>11</th>\n",
       "      <td>000002.SZ</td>\n",
       "      <td>20180905</td>\n",
       "      <td>24.11</td>\n",
       "      <td>24.20</td>\n",
       "      <td>23.41</td>\n",
       "      <td>23.41</td>\n",
       "      <td>24.43</td>\n",
       "      <td>-1.02</td>\n",
       "      <td>-4.1752</td>\n",
       "      <td>546644.37</td>\n",
       "      <td>1296346.119</td>\n",
       "    </tr>\n",
       "    <tr>\n",
       "      <th>12</th>\n",
       "      <td>000002.SZ</td>\n",
       "      <td>20180904</td>\n",
       "      <td>23.66</td>\n",
       "      <td>24.44</td>\n",
       "      <td>23.41</td>\n",
       "      <td>24.43</td>\n",
       "      <td>23.55</td>\n",
       "      <td>0.88</td>\n",
       "      <td>3.7367</td>\n",
       "      <td>437654.47</td>\n",
       "      <td>1052057.112</td>\n",
       "    </tr>\n",
       "    <tr>\n",
       "      <th>13</th>\n",
       "      <td>000002.SZ</td>\n",
       "      <td>20180903</td>\n",
       "      <td>23.85</td>\n",
       "      <td>24.57</td>\n",
       "      <td>23.38</td>\n",
       "      <td>23.55</td>\n",
       "      <td>24.05</td>\n",
       "      <td>-0.50</td>\n",
       "      <td>-2.0790</td>\n",
       "      <td>497612.43</td>\n",
       "      <td>1191130.969</td>\n",
       "    </tr>\n",
       "  </tbody>\n",
       "</table>\n",
       "</div>"
      ],
      "text/plain": [
       "      ts_code trade_date   open   high    low  close  pre_close  change  \\\n",
       "0   000002.SZ   20180920  24.01  24.43  23.80  24.01      24.17   -0.16   \n",
       "1   000002.SZ   20180919  23.03  24.67  22.91  24.17      23.00    1.17   \n",
       "2   000002.SZ   20180918  22.65  23.10  22.47  23.00      22.83    0.17   \n",
       "3   000002.SZ   20180917  23.04  23.23  22.72  22.83      23.32   -0.49   \n",
       "4   000002.SZ   20180914  23.13  23.39  22.81  23.32      23.10    0.22   \n",
       "5   000002.SZ   20180913  23.31  23.47  22.78  23.10      22.88    0.22   \n",
       "6   000002.SZ   20180912  23.24  23.30  22.61  22.88      23.34   -0.46   \n",
       "7   000002.SZ   20180911  23.39  23.64  23.09  23.34      23.46   -0.12   \n",
       "8   000002.SZ   20180910  23.42  23.85  23.11  23.46      23.21    0.25   \n",
       "9   000002.SZ   20180907  22.85  23.65  22.85  23.21      22.81    0.40   \n",
       "10  000002.SZ   20180906  23.32  23.56  22.69  22.81      23.41   -0.60   \n",
       "11  000002.SZ   20180905  24.11  24.20  23.41  23.41      24.43   -1.02   \n",
       "12  000002.SZ   20180904  23.66  24.44  23.41  24.43      23.55    0.88   \n",
       "13  000002.SZ   20180903  23.85  24.57  23.38  23.55      24.05   -0.50   \n",
       "\n",
       "    pct_change         vol       amount  \n",
       "0      -0.6620   521852.72  1257974.032  \n",
       "1       5.0870  1317837.01  3170366.001  \n",
       "2       0.7446   404634.05   921475.475  \n",
       "3      -2.1012   255061.69   584416.325  \n",
       "4       0.9524   334870.79   775981.815  \n",
       "5       0.9615   468837.96  1080871.662  \n",
       "6      -1.9709   313821.54   717459.921  \n",
       "7      -0.5115   358358.75   832895.939  \n",
       "8       1.0771   474917.79  1115789.487  \n",
       "9       1.7536   334943.33   780678.316  \n",
       "10     -2.5630   375368.90   864994.565  \n",
       "11     -4.1752   546644.37  1296346.119  \n",
       "12      3.7367   437654.47  1052057.112  \n",
       "13     -2.0790   497612.43  1191130.969  "
      ]
     },
     "execution_count": 239,
     "metadata": {},
     "output_type": "execute_result"
    }
   ],
   "source": [
    "pro = ts.pro_api()\n",
    "df = pro.daily(ts_code = '000002.SZ', start_date = '20180901', end_date = '20180920')\n",
    "df"
   ]
  },
  {
   "cell_type": "code",
   "execution_count": 260,
   "metadata": {},
   "outputs": [
    {
     "data": {
      "text/plain": [
       "array([-0.00661978,  0.05086957,  0.00744634, -0.02101201,  0.00952381,\n",
       "        0.00961538, -0.01970865, -0.00511509,  0.01077122,  0.01753617,\n",
       "       -0.02563007, -0.04175194,  0.0373673 ])"
      ]
     },
     "execution_count": 260,
     "metadata": {},
     "output_type": "execute_result"
    }
   ],
   "source": [
    "ret = (np.array(df.close[:-1])- np.array(df.close[1:]))/ np.array(df.close[1:])\n",
    "ret\n",
    "# 可以看出数据是对的"
   ]
  },
  {
   "cell_type": "code",
   "execution_count": 261,
   "metadata": {},
   "outputs": [
    {
     "data": {
      "text/plain": [
       "0     NaN\n",
       "1     0.0\n",
       "2     0.0\n",
       "3     0.0\n",
       "4     0.0\n",
       "5     0.0\n",
       "6     0.0\n",
       "7     0.0\n",
       "8     0.0\n",
       "9     0.0\n",
       "10    0.0\n",
       "11    0.0\n",
       "12    0.0\n",
       "13    NaN\n",
       "Name: close, dtype: float64"
      ]
     },
     "execution_count": 261,
     "metadata": {},
     "output_type": "execute_result"
    }
   ],
   "source": [
    "ret = (df.close[:-1]- df.close[1:])/ df.close[1:]\n",
    "ret\n",
    "# 这就不可以，这是因为serise是有index的"
   ]
  },
  {
   "cell_type": "code",
   "execution_count": 263,
   "metadata": {},
   "outputs": [
    {
     "data": {
      "text/html": [
       "<div>\n",
       "<style scoped>\n",
       "    .dataframe tbody tr th:only-of-type {\n",
       "        vertical-align: middle;\n",
       "    }\n",
       "\n",
       "    .dataframe tbody tr th {\n",
       "        vertical-align: top;\n",
       "    }\n",
       "\n",
       "    .dataframe thead th {\n",
       "        text-align: right;\n",
       "    }\n",
       "</style>\n",
       "<table border=\"1\" class=\"dataframe\">\n",
       "  <thead>\n",
       "    <tr style=\"text-align: right;\">\n",
       "      <th></th>\n",
       "      <th>ts_code</th>\n",
       "      <th>trade_date</th>\n",
       "      <th>open</th>\n",
       "      <th>high</th>\n",
       "      <th>low</th>\n",
       "      <th>close</th>\n",
       "      <th>pre_close</th>\n",
       "      <th>change</th>\n",
       "      <th>pct_change</th>\n",
       "      <th>vol</th>\n",
       "      <th>amount</th>\n",
       "    </tr>\n",
       "  </thead>\n",
       "  <tbody>\n",
       "    <tr>\n",
       "      <th>0</th>\n",
       "      <td>000002.SZ</td>\n",
       "      <td>20180920</td>\n",
       "      <td>24.01</td>\n",
       "      <td>24.43</td>\n",
       "      <td>23.80</td>\n",
       "      <td>24.01</td>\n",
       "      <td>24.17</td>\n",
       "      <td>-0.16</td>\n",
       "      <td>-0.6620</td>\n",
       "      <td>521852.72</td>\n",
       "      <td>1257974.032</td>\n",
       "    </tr>\n",
       "    <tr>\n",
       "      <th>1</th>\n",
       "      <td>000002.SZ</td>\n",
       "      <td>20180919</td>\n",
       "      <td>23.03</td>\n",
       "      <td>24.67</td>\n",
       "      <td>22.91</td>\n",
       "      <td>24.17</td>\n",
       "      <td>23.00</td>\n",
       "      <td>1.17</td>\n",
       "      <td>5.0870</td>\n",
       "      <td>1317837.01</td>\n",
       "      <td>3170366.001</td>\n",
       "    </tr>\n",
       "    <tr>\n",
       "      <th>2</th>\n",
       "      <td>000002.SZ</td>\n",
       "      <td>20180918</td>\n",
       "      <td>22.65</td>\n",
       "      <td>23.10</td>\n",
       "      <td>22.47</td>\n",
       "      <td>23.00</td>\n",
       "      <td>22.83</td>\n",
       "      <td>0.17</td>\n",
       "      <td>0.7446</td>\n",
       "      <td>404634.05</td>\n",
       "      <td>921475.475</td>\n",
       "    </tr>\n",
       "    <tr>\n",
       "      <th>3</th>\n",
       "      <td>000002.SZ</td>\n",
       "      <td>20180917</td>\n",
       "      <td>23.04</td>\n",
       "      <td>23.23</td>\n",
       "      <td>22.72</td>\n",
       "      <td>22.83</td>\n",
       "      <td>23.32</td>\n",
       "      <td>-0.49</td>\n",
       "      <td>-2.1012</td>\n",
       "      <td>255061.69</td>\n",
       "      <td>584416.325</td>\n",
       "    </tr>\n",
       "    <tr>\n",
       "      <th>4</th>\n",
       "      <td>000002.SZ</td>\n",
       "      <td>20180914</td>\n",
       "      <td>23.13</td>\n",
       "      <td>23.39</td>\n",
       "      <td>22.81</td>\n",
       "      <td>23.32</td>\n",
       "      <td>23.10</td>\n",
       "      <td>0.22</td>\n",
       "      <td>0.9524</td>\n",
       "      <td>334870.79</td>\n",
       "      <td>775981.815</td>\n",
       "    </tr>\n",
       "    <tr>\n",
       "      <th>5</th>\n",
       "      <td>000002.SZ</td>\n",
       "      <td>20180913</td>\n",
       "      <td>23.31</td>\n",
       "      <td>23.47</td>\n",
       "      <td>22.78</td>\n",
       "      <td>23.10</td>\n",
       "      <td>22.88</td>\n",
       "      <td>0.22</td>\n",
       "      <td>0.9615</td>\n",
       "      <td>468837.96</td>\n",
       "      <td>1080871.662</td>\n",
       "    </tr>\n",
       "    <tr>\n",
       "      <th>6</th>\n",
       "      <td>000002.SZ</td>\n",
       "      <td>20180912</td>\n",
       "      <td>23.24</td>\n",
       "      <td>23.30</td>\n",
       "      <td>22.61</td>\n",
       "      <td>22.88</td>\n",
       "      <td>23.34</td>\n",
       "      <td>-0.46</td>\n",
       "      <td>-1.9709</td>\n",
       "      <td>313821.54</td>\n",
       "      <td>717459.921</td>\n",
       "    </tr>\n",
       "    <tr>\n",
       "      <th>7</th>\n",
       "      <td>000002.SZ</td>\n",
       "      <td>20180911</td>\n",
       "      <td>23.39</td>\n",
       "      <td>23.64</td>\n",
       "      <td>23.09</td>\n",
       "      <td>23.34</td>\n",
       "      <td>23.46</td>\n",
       "      <td>-0.12</td>\n",
       "      <td>-0.5115</td>\n",
       "      <td>358358.75</td>\n",
       "      <td>832895.939</td>\n",
       "    </tr>\n",
       "    <tr>\n",
       "      <th>8</th>\n",
       "      <td>000002.SZ</td>\n",
       "      <td>20180910</td>\n",
       "      <td>23.42</td>\n",
       "      <td>23.85</td>\n",
       "      <td>23.11</td>\n",
       "      <td>23.46</td>\n",
       "      <td>23.21</td>\n",
       "      <td>0.25</td>\n",
       "      <td>1.0771</td>\n",
       "      <td>474917.79</td>\n",
       "      <td>1115789.487</td>\n",
       "    </tr>\n",
       "    <tr>\n",
       "      <th>9</th>\n",
       "      <td>000002.SZ</td>\n",
       "      <td>20180907</td>\n",
       "      <td>22.85</td>\n",
       "      <td>23.65</td>\n",
       "      <td>22.85</td>\n",
       "      <td>23.21</td>\n",
       "      <td>22.81</td>\n",
       "      <td>0.40</td>\n",
       "      <td>1.7536</td>\n",
       "      <td>334943.33</td>\n",
       "      <td>780678.316</td>\n",
       "    </tr>\n",
       "    <tr>\n",
       "      <th>10</th>\n",
       "      <td>000002.SZ</td>\n",
       "      <td>20180906</td>\n",
       "      <td>23.32</td>\n",
       "      <td>23.56</td>\n",
       "      <td>22.69</td>\n",
       "      <td>22.81</td>\n",
       "      <td>23.41</td>\n",
       "      <td>-0.60</td>\n",
       "      <td>-2.5630</td>\n",
       "      <td>375368.90</td>\n",
       "      <td>864994.565</td>\n",
       "    </tr>\n",
       "    <tr>\n",
       "      <th>11</th>\n",
       "      <td>000002.SZ</td>\n",
       "      <td>20180905</td>\n",
       "      <td>24.11</td>\n",
       "      <td>24.20</td>\n",
       "      <td>23.41</td>\n",
       "      <td>23.41</td>\n",
       "      <td>24.43</td>\n",
       "      <td>-1.02</td>\n",
       "      <td>-4.1752</td>\n",
       "      <td>546644.37</td>\n",
       "      <td>1296346.119</td>\n",
       "    </tr>\n",
       "    <tr>\n",
       "      <th>12</th>\n",
       "      <td>000002.SZ</td>\n",
       "      <td>20180904</td>\n",
       "      <td>23.66</td>\n",
       "      <td>24.44</td>\n",
       "      <td>23.41</td>\n",
       "      <td>24.43</td>\n",
       "      <td>23.55</td>\n",
       "      <td>0.88</td>\n",
       "      <td>3.7367</td>\n",
       "      <td>437654.47</td>\n",
       "      <td>1052057.112</td>\n",
       "    </tr>\n",
       "    <tr>\n",
       "      <th>13</th>\n",
       "      <td>000002.SZ</td>\n",
       "      <td>20180903</td>\n",
       "      <td>23.85</td>\n",
       "      <td>24.57</td>\n",
       "      <td>23.38</td>\n",
       "      <td>23.55</td>\n",
       "      <td>24.05</td>\n",
       "      <td>-0.50</td>\n",
       "      <td>-2.0790</td>\n",
       "      <td>497612.43</td>\n",
       "      <td>1191130.969</td>\n",
       "    </tr>\n",
       "    <tr>\n",
       "      <th>14</th>\n",
       "      <td>000002.SZ</td>\n",
       "      <td>20180831</td>\n",
       "      <td>23.20</td>\n",
       "      <td>24.36</td>\n",
       "      <td>23.18</td>\n",
       "      <td>24.05</td>\n",
       "      <td>23.50</td>\n",
       "      <td>0.55</td>\n",
       "      <td>2.3404</td>\n",
       "      <td>428145.12</td>\n",
       "      <td>1024351.411</td>\n",
       "    </tr>\n",
       "    <tr>\n",
       "      <th>15</th>\n",
       "      <td>000002.SZ</td>\n",
       "      <td>20180830</td>\n",
       "      <td>23.80</td>\n",
       "      <td>24.18</td>\n",
       "      <td>23.48</td>\n",
       "      <td>23.50</td>\n",
       "      <td>23.91</td>\n",
       "      <td>-0.41</td>\n",
       "      <td>-1.7148</td>\n",
       "      <td>285923.67</td>\n",
       "      <td>681645.384</td>\n",
       "    </tr>\n",
       "    <tr>\n",
       "      <th>16</th>\n",
       "      <td>000002.SZ</td>\n",
       "      <td>20180829</td>\n",
       "      <td>23.74</td>\n",
       "      <td>24.40</td>\n",
       "      <td>23.72</td>\n",
       "      <td>23.91</td>\n",
       "      <td>23.88</td>\n",
       "      <td>0.03</td>\n",
       "      <td>0.1256</td>\n",
       "      <td>291143.33</td>\n",
       "      <td>700596.432</td>\n",
       "    </tr>\n",
       "    <tr>\n",
       "      <th>17</th>\n",
       "      <td>000002.SZ</td>\n",
       "      <td>20180828</td>\n",
       "      <td>23.80</td>\n",
       "      <td>24.14</td>\n",
       "      <td>23.73</td>\n",
       "      <td>23.88</td>\n",
       "      <td>23.91</td>\n",
       "      <td>-0.03</td>\n",
       "      <td>-0.1255</td>\n",
       "      <td>348101.15</td>\n",
       "      <td>832284.975</td>\n",
       "    </tr>\n",
       "    <tr>\n",
       "      <th>18</th>\n",
       "      <td>000002.SZ</td>\n",
       "      <td>20180827</td>\n",
       "      <td>22.98</td>\n",
       "      <td>24.06</td>\n",
       "      <td>22.85</td>\n",
       "      <td>23.91</td>\n",
       "      <td>22.78</td>\n",
       "      <td>1.13</td>\n",
       "      <td>4.9605</td>\n",
       "      <td>594341.10</td>\n",
       "      <td>1403513.889</td>\n",
       "    </tr>\n",
       "    <tr>\n",
       "      <th>19</th>\n",
       "      <td>000002.SZ</td>\n",
       "      <td>20180824</td>\n",
       "      <td>22.66</td>\n",
       "      <td>23.01</td>\n",
       "      <td>22.39</td>\n",
       "      <td>22.78</td>\n",
       "      <td>22.82</td>\n",
       "      <td>-0.04</td>\n",
       "      <td>-0.1753</td>\n",
       "      <td>273417.65</td>\n",
       "      <td>621888.066</td>\n",
       "    </tr>\n",
       "    <tr>\n",
       "      <th>20</th>\n",
       "      <td>000002.SZ</td>\n",
       "      <td>20180823</td>\n",
       "      <td>23.00</td>\n",
       "      <td>23.15</td>\n",
       "      <td>22.24</td>\n",
       "      <td>22.82</td>\n",
       "      <td>23.02</td>\n",
       "      <td>-0.20</td>\n",
       "      <td>-0.8688</td>\n",
       "      <td>543058.67</td>\n",
       "      <td>1235013.686</td>\n",
       "    </tr>\n",
       "    <tr>\n",
       "      <th>21</th>\n",
       "      <td>000002.SZ</td>\n",
       "      <td>20180822</td>\n",
       "      <td>23.91</td>\n",
       "      <td>24.08</td>\n",
       "      <td>23.67</td>\n",
       "      <td>23.92</td>\n",
       "      <td>23.91</td>\n",
       "      <td>0.01</td>\n",
       "      <td>0.0418</td>\n",
       "      <td>421833.83</td>\n",
       "      <td>1007170.630</td>\n",
       "    </tr>\n",
       "    <tr>\n",
       "      <th>22</th>\n",
       "      <td>000002.SZ</td>\n",
       "      <td>20180821</td>\n",
       "      <td>23.39</td>\n",
       "      <td>23.98</td>\n",
       "      <td>23.22</td>\n",
       "      <td>23.91</td>\n",
       "      <td>23.35</td>\n",
       "      <td>0.56</td>\n",
       "      <td>2.3983</td>\n",
       "      <td>495846.24</td>\n",
       "      <td>1173410.505</td>\n",
       "    </tr>\n",
       "    <tr>\n",
       "      <th>23</th>\n",
       "      <td>000002.SZ</td>\n",
       "      <td>20180820</td>\n",
       "      <td>22.93</td>\n",
       "      <td>23.44</td>\n",
       "      <td>22.59</td>\n",
       "      <td>23.35</td>\n",
       "      <td>22.69</td>\n",
       "      <td>0.66</td>\n",
       "      <td>2.9088</td>\n",
       "      <td>476133.14</td>\n",
       "      <td>1101391.513</td>\n",
       "    </tr>\n",
       "    <tr>\n",
       "      <th>24</th>\n",
       "      <td>000002.SZ</td>\n",
       "      <td>20180817</td>\n",
       "      <td>22.90</td>\n",
       "      <td>23.20</td>\n",
       "      <td>22.64</td>\n",
       "      <td>22.69</td>\n",
       "      <td>22.72</td>\n",
       "      <td>-0.03</td>\n",
       "      <td>-0.1320</td>\n",
       "      <td>424160.44</td>\n",
       "      <td>969847.216</td>\n",
       "    </tr>\n",
       "    <tr>\n",
       "      <th>25</th>\n",
       "      <td>000002.SZ</td>\n",
       "      <td>20180816</td>\n",
       "      <td>21.63</td>\n",
       "      <td>23.08</td>\n",
       "      <td>21.61</td>\n",
       "      <td>22.72</td>\n",
       "      <td>22.30</td>\n",
       "      <td>0.42</td>\n",
       "      <td>1.8834</td>\n",
       "      <td>490384.44</td>\n",
       "      <td>1107212.515</td>\n",
       "    </tr>\n",
       "    <tr>\n",
       "      <th>26</th>\n",
       "      <td>000002.SZ</td>\n",
       "      <td>20180815</td>\n",
       "      <td>22.39</td>\n",
       "      <td>22.58</td>\n",
       "      <td>22.22</td>\n",
       "      <td>22.30</td>\n",
       "      <td>22.32</td>\n",
       "      <td>-0.02</td>\n",
       "      <td>-0.0896</td>\n",
       "      <td>472553.50</td>\n",
       "      <td>1058911.645</td>\n",
       "    </tr>\n",
       "    <tr>\n",
       "      <th>27</th>\n",
       "      <td>000002.SZ</td>\n",
       "      <td>20180814</td>\n",
       "      <td>23.00</td>\n",
       "      <td>23.05</td>\n",
       "      <td>22.05</td>\n",
       "      <td>22.32</td>\n",
       "      <td>23.04</td>\n",
       "      <td>-0.72</td>\n",
       "      <td>-3.1250</td>\n",
       "      <td>486784.81</td>\n",
       "      <td>1090898.794</td>\n",
       "    </tr>\n",
       "    <tr>\n",
       "      <th>28</th>\n",
       "      <td>000002.SZ</td>\n",
       "      <td>20180813</td>\n",
       "      <td>22.60</td>\n",
       "      <td>23.21</td>\n",
       "      <td>22.46</td>\n",
       "      <td>23.04</td>\n",
       "      <td>23.18</td>\n",
       "      <td>-0.14</td>\n",
       "      <td>-0.6040</td>\n",
       "      <td>489494.76</td>\n",
       "      <td>1113409.912</td>\n",
       "    </tr>\n",
       "    <tr>\n",
       "      <th>29</th>\n",
       "      <td>000002.SZ</td>\n",
       "      <td>20180810</td>\n",
       "      <td>23.00</td>\n",
       "      <td>24.07</td>\n",
       "      <td>22.93</td>\n",
       "      <td>23.18</td>\n",
       "      <td>22.48</td>\n",
       "      <td>0.70</td>\n",
       "      <td>3.1139</td>\n",
       "      <td>1201163.03</td>\n",
       "      <td>2820091.738</td>\n",
       "    </tr>\n",
       "    <tr>\n",
       "      <th>30</th>\n",
       "      <td>000002.SZ</td>\n",
       "      <td>20180809</td>\n",
       "      <td>21.50</td>\n",
       "      <td>22.55</td>\n",
       "      <td>21.40</td>\n",
       "      <td>22.48</td>\n",
       "      <td>21.50</td>\n",
       "      <td>0.98</td>\n",
       "      <td>4.5581</td>\n",
       "      <td>896200.17</td>\n",
       "      <td>1997096.145</td>\n",
       "    </tr>\n",
       "    <tr>\n",
       "      <th>31</th>\n",
       "      <td>000002.SZ</td>\n",
       "      <td>20180808</td>\n",
       "      <td>21.89</td>\n",
       "      <td>22.29</td>\n",
       "      <td>21.50</td>\n",
       "      <td>21.50</td>\n",
       "      <td>21.86</td>\n",
       "      <td>-0.36</td>\n",
       "      <td>-1.6468</td>\n",
       "      <td>410720.18</td>\n",
       "      <td>903023.745</td>\n",
       "    </tr>\n",
       "    <tr>\n",
       "      <th>32</th>\n",
       "      <td>000002.SZ</td>\n",
       "      <td>20180807</td>\n",
       "      <td>21.15</td>\n",
       "      <td>21.86</td>\n",
       "      <td>20.93</td>\n",
       "      <td>21.86</td>\n",
       "      <td>20.86</td>\n",
       "      <td>1.00</td>\n",
       "      <td>4.7939</td>\n",
       "      <td>451653.09</td>\n",
       "      <td>969166.202</td>\n",
       "    </tr>\n",
       "    <tr>\n",
       "      <th>33</th>\n",
       "      <td>000002.SZ</td>\n",
       "      <td>20180806</td>\n",
       "      <td>21.18</td>\n",
       "      <td>21.32</td>\n",
       "      <td>20.52</td>\n",
       "      <td>20.86</td>\n",
       "      <td>21.08</td>\n",
       "      <td>-0.22</td>\n",
       "      <td>-1.0436</td>\n",
       "      <td>315702.05</td>\n",
       "      <td>662879.888</td>\n",
       "    </tr>\n",
       "    <tr>\n",
       "      <th>34</th>\n",
       "      <td>000002.SZ</td>\n",
       "      <td>20180803</td>\n",
       "      <td>21.39</td>\n",
       "      <td>21.54</td>\n",
       "      <td>21.05</td>\n",
       "      <td>21.08</td>\n",
       "      <td>21.38</td>\n",
       "      <td>-0.30</td>\n",
       "      <td>-1.4032</td>\n",
       "      <td>346072.30</td>\n",
       "      <td>735143.747</td>\n",
       "    </tr>\n",
       "    <tr>\n",
       "      <th>35</th>\n",
       "      <td>000002.SZ</td>\n",
       "      <td>20180802</td>\n",
       "      <td>22.34</td>\n",
       "      <td>22.34</td>\n",
       "      <td>21.07</td>\n",
       "      <td>21.38</td>\n",
       "      <td>22.35</td>\n",
       "      <td>-0.97</td>\n",
       "      <td>-4.3400</td>\n",
       "      <td>677777.75</td>\n",
       "      <td>1457805.725</td>\n",
       "    </tr>\n",
       "    <tr>\n",
       "      <th>36</th>\n",
       "      <td>000002.SZ</td>\n",
       "      <td>20180801</td>\n",
       "      <td>23.24</td>\n",
       "      <td>23.24</td>\n",
       "      <td>22.21</td>\n",
       "      <td>22.35</td>\n",
       "      <td>23.32</td>\n",
       "      <td>-0.97</td>\n",
       "      <td>-4.1595</td>\n",
       "      <td>673866.01</td>\n",
       "      <td>1523419.154</td>\n",
       "    </tr>\n",
       "  </tbody>\n",
       "</table>\n",
       "</div>"
      ],
      "text/plain": [
       "      ts_code trade_date   open   high    low  close  pre_close  change  \\\n",
       "0   000002.SZ   20180920  24.01  24.43  23.80  24.01      24.17   -0.16   \n",
       "1   000002.SZ   20180919  23.03  24.67  22.91  24.17      23.00    1.17   \n",
       "2   000002.SZ   20180918  22.65  23.10  22.47  23.00      22.83    0.17   \n",
       "3   000002.SZ   20180917  23.04  23.23  22.72  22.83      23.32   -0.49   \n",
       "4   000002.SZ   20180914  23.13  23.39  22.81  23.32      23.10    0.22   \n",
       "5   000002.SZ   20180913  23.31  23.47  22.78  23.10      22.88    0.22   \n",
       "6   000002.SZ   20180912  23.24  23.30  22.61  22.88      23.34   -0.46   \n",
       "7   000002.SZ   20180911  23.39  23.64  23.09  23.34      23.46   -0.12   \n",
       "8   000002.SZ   20180910  23.42  23.85  23.11  23.46      23.21    0.25   \n",
       "9   000002.SZ   20180907  22.85  23.65  22.85  23.21      22.81    0.40   \n",
       "10  000002.SZ   20180906  23.32  23.56  22.69  22.81      23.41   -0.60   \n",
       "11  000002.SZ   20180905  24.11  24.20  23.41  23.41      24.43   -1.02   \n",
       "12  000002.SZ   20180904  23.66  24.44  23.41  24.43      23.55    0.88   \n",
       "13  000002.SZ   20180903  23.85  24.57  23.38  23.55      24.05   -0.50   \n",
       "14  000002.SZ   20180831  23.20  24.36  23.18  24.05      23.50    0.55   \n",
       "15  000002.SZ   20180830  23.80  24.18  23.48  23.50      23.91   -0.41   \n",
       "16  000002.SZ   20180829  23.74  24.40  23.72  23.91      23.88    0.03   \n",
       "17  000002.SZ   20180828  23.80  24.14  23.73  23.88      23.91   -0.03   \n",
       "18  000002.SZ   20180827  22.98  24.06  22.85  23.91      22.78    1.13   \n",
       "19  000002.SZ   20180824  22.66  23.01  22.39  22.78      22.82   -0.04   \n",
       "20  000002.SZ   20180823  23.00  23.15  22.24  22.82      23.02   -0.20   \n",
       "21  000002.SZ   20180822  23.91  24.08  23.67  23.92      23.91    0.01   \n",
       "22  000002.SZ   20180821  23.39  23.98  23.22  23.91      23.35    0.56   \n",
       "23  000002.SZ   20180820  22.93  23.44  22.59  23.35      22.69    0.66   \n",
       "24  000002.SZ   20180817  22.90  23.20  22.64  22.69      22.72   -0.03   \n",
       "25  000002.SZ   20180816  21.63  23.08  21.61  22.72      22.30    0.42   \n",
       "26  000002.SZ   20180815  22.39  22.58  22.22  22.30      22.32   -0.02   \n",
       "27  000002.SZ   20180814  23.00  23.05  22.05  22.32      23.04   -0.72   \n",
       "28  000002.SZ   20180813  22.60  23.21  22.46  23.04      23.18   -0.14   \n",
       "29  000002.SZ   20180810  23.00  24.07  22.93  23.18      22.48    0.70   \n",
       "30  000002.SZ   20180809  21.50  22.55  21.40  22.48      21.50    0.98   \n",
       "31  000002.SZ   20180808  21.89  22.29  21.50  21.50      21.86   -0.36   \n",
       "32  000002.SZ   20180807  21.15  21.86  20.93  21.86      20.86    1.00   \n",
       "33  000002.SZ   20180806  21.18  21.32  20.52  20.86      21.08   -0.22   \n",
       "34  000002.SZ   20180803  21.39  21.54  21.05  21.08      21.38   -0.30   \n",
       "35  000002.SZ   20180802  22.34  22.34  21.07  21.38      22.35   -0.97   \n",
       "36  000002.SZ   20180801  23.24  23.24  22.21  22.35      23.32   -0.97   \n",
       "\n",
       "    pct_change         vol       amount  \n",
       "0      -0.6620   521852.72  1257974.032  \n",
       "1       5.0870  1317837.01  3170366.001  \n",
       "2       0.7446   404634.05   921475.475  \n",
       "3      -2.1012   255061.69   584416.325  \n",
       "4       0.9524   334870.79   775981.815  \n",
       "5       0.9615   468837.96  1080871.662  \n",
       "6      -1.9709   313821.54   717459.921  \n",
       "7      -0.5115   358358.75   832895.939  \n",
       "8       1.0771   474917.79  1115789.487  \n",
       "9       1.7536   334943.33   780678.316  \n",
       "10     -2.5630   375368.90   864994.565  \n",
       "11     -4.1752   546644.37  1296346.119  \n",
       "12      3.7367   437654.47  1052057.112  \n",
       "13     -2.0790   497612.43  1191130.969  \n",
       "14      2.3404   428145.12  1024351.411  \n",
       "15     -1.7148   285923.67   681645.384  \n",
       "16      0.1256   291143.33   700596.432  \n",
       "17     -0.1255   348101.15   832284.975  \n",
       "18      4.9605   594341.10  1403513.889  \n",
       "19     -0.1753   273417.65   621888.066  \n",
       "20     -0.8688   543058.67  1235013.686  \n",
       "21      0.0418   421833.83  1007170.630  \n",
       "22      2.3983   495846.24  1173410.505  \n",
       "23      2.9088   476133.14  1101391.513  \n",
       "24     -0.1320   424160.44   969847.216  \n",
       "25      1.8834   490384.44  1107212.515  \n",
       "26     -0.0896   472553.50  1058911.645  \n",
       "27     -3.1250   486784.81  1090898.794  \n",
       "28     -0.6040   489494.76  1113409.912  \n",
       "29      3.1139  1201163.03  2820091.738  \n",
       "30      4.5581   896200.17  1997096.145  \n",
       "31     -1.6468   410720.18   903023.745  \n",
       "32      4.7939   451653.09   969166.202  \n",
       "33     -1.0436   315702.05   662879.888  \n",
       "34     -1.4032   346072.30   735143.747  \n",
       "35     -4.3400   677777.75  1457805.725  \n",
       "36     -4.1595   673866.01  1523419.154  "
      ]
     },
     "execution_count": 263,
     "metadata": {},
     "output_type": "execute_result"
    }
   ],
   "source": [
    "# 从日回报率计算月回报率，PPT\n",
    "pro = ts.pro_api()\n",
    "df = pro.daily(ts_code = '000002.SZ', start_date = '20180801', end_date = '20180920')\n",
    "df"
   ]
  },
  {
   "cell_type": "code",
   "execution_count": 271,
   "metadata": {},
   "outputs": [
    {
     "name": "stdout",
     "output_type": "stream",
     "text": [
      "        ret_monthly\n",
      "201808     0.073309\n",
      "201809    -0.001665\n"
     ]
    }
   ],
   "source": [
    "close = df.close.values\n",
    "logret=np.log(close[:-1]/x[1:])\n",
    "yyyymm=[]\n",
    "for i in range(0,np.size(logret)):\n",
    "    yyyymm.append(''.join([df.trade_date[i][:6]]))\n",
    "y = pd.DataFrame(logret, yyyymm, columns=['ret_monthly'])\n",
    "ret_monthly = y.groupby(y.index).sum()\n",
    "print(ret_monthly.head())\n",
    "# 计算年回报率和月类似"
   ]
  },
  {
   "cell_type": "code",
   "execution_count": 276,
   "metadata": {},
   "outputs": [],
   "source": [
    "# 合并数据集,比如按照时间列合并\n",
    "df2 = pro.daily(ts_code = '000001.SZ', start_date = '20180801', end_date = '20180910')\n",
    "merge_1 = pd.merge(df, df2, on= 'trade_date', how= 'outer')"
   ]
  },
  {
   "cell_type": "code",
   "execution_count": 277,
   "metadata": {},
   "outputs": [
    {
     "data": {
      "text/html": [
       "<div>\n",
       "<style scoped>\n",
       "    .dataframe tbody tr th:only-of-type {\n",
       "        vertical-align: middle;\n",
       "    }\n",
       "\n",
       "    .dataframe tbody tr th {\n",
       "        vertical-align: top;\n",
       "    }\n",
       "\n",
       "    .dataframe thead th {\n",
       "        text-align: right;\n",
       "    }\n",
       "</style>\n",
       "<table border=\"1\" class=\"dataframe\">\n",
       "  <thead>\n",
       "    <tr style=\"text-align: right;\">\n",
       "      <th></th>\n",
       "      <th>ts_code_x</th>\n",
       "      <th>trade_date</th>\n",
       "      <th>open_x</th>\n",
       "      <th>high_x</th>\n",
       "      <th>low_x</th>\n",
       "      <th>close_x</th>\n",
       "      <th>pre_close_x</th>\n",
       "      <th>change_x</th>\n",
       "      <th>pct_change_x</th>\n",
       "      <th>vol_x</th>\n",
       "      <th>...</th>\n",
       "      <th>ts_code_y</th>\n",
       "      <th>open_y</th>\n",
       "      <th>high_y</th>\n",
       "      <th>low_y</th>\n",
       "      <th>close_y</th>\n",
       "      <th>pre_close_y</th>\n",
       "      <th>change_y</th>\n",
       "      <th>pct_change_y</th>\n",
       "      <th>vol_y</th>\n",
       "      <th>amount_y</th>\n",
       "    </tr>\n",
       "  </thead>\n",
       "  <tbody>\n",
       "    <tr>\n",
       "      <th>0</th>\n",
       "      <td>000002.SZ</td>\n",
       "      <td>20180920</td>\n",
       "      <td>24.01</td>\n",
       "      <td>24.43</td>\n",
       "      <td>23.80</td>\n",
       "      <td>24.01</td>\n",
       "      <td>24.17</td>\n",
       "      <td>-0.16</td>\n",
       "      <td>-0.6620</td>\n",
       "      <td>521852.72</td>\n",
       "      <td>...</td>\n",
       "      <td>NaN</td>\n",
       "      <td>NaN</td>\n",
       "      <td>NaN</td>\n",
       "      <td>NaN</td>\n",
       "      <td>NaN</td>\n",
       "      <td>NaN</td>\n",
       "      <td>NaN</td>\n",
       "      <td>NaN</td>\n",
       "      <td>NaN</td>\n",
       "      <td>NaN</td>\n",
       "    </tr>\n",
       "    <tr>\n",
       "      <th>1</th>\n",
       "      <td>000002.SZ</td>\n",
       "      <td>20180919</td>\n",
       "      <td>23.03</td>\n",
       "      <td>24.67</td>\n",
       "      <td>22.91</td>\n",
       "      <td>24.17</td>\n",
       "      <td>23.00</td>\n",
       "      <td>1.17</td>\n",
       "      <td>5.0870</td>\n",
       "      <td>1317837.01</td>\n",
       "      <td>...</td>\n",
       "      <td>NaN</td>\n",
       "      <td>NaN</td>\n",
       "      <td>NaN</td>\n",
       "      <td>NaN</td>\n",
       "      <td>NaN</td>\n",
       "      <td>NaN</td>\n",
       "      <td>NaN</td>\n",
       "      <td>NaN</td>\n",
       "      <td>NaN</td>\n",
       "      <td>NaN</td>\n",
       "    </tr>\n",
       "    <tr>\n",
       "      <th>2</th>\n",
       "      <td>000002.SZ</td>\n",
       "      <td>20180918</td>\n",
       "      <td>22.65</td>\n",
       "      <td>23.10</td>\n",
       "      <td>22.47</td>\n",
       "      <td>23.00</td>\n",
       "      <td>22.83</td>\n",
       "      <td>0.17</td>\n",
       "      <td>0.7446</td>\n",
       "      <td>404634.05</td>\n",
       "      <td>...</td>\n",
       "      <td>NaN</td>\n",
       "      <td>NaN</td>\n",
       "      <td>NaN</td>\n",
       "      <td>NaN</td>\n",
       "      <td>NaN</td>\n",
       "      <td>NaN</td>\n",
       "      <td>NaN</td>\n",
       "      <td>NaN</td>\n",
       "      <td>NaN</td>\n",
       "      <td>NaN</td>\n",
       "    </tr>\n",
       "    <tr>\n",
       "      <th>3</th>\n",
       "      <td>000002.SZ</td>\n",
       "      <td>20180917</td>\n",
       "      <td>23.04</td>\n",
       "      <td>23.23</td>\n",
       "      <td>22.72</td>\n",
       "      <td>22.83</td>\n",
       "      <td>23.32</td>\n",
       "      <td>-0.49</td>\n",
       "      <td>-2.1012</td>\n",
       "      <td>255061.69</td>\n",
       "      <td>...</td>\n",
       "      <td>NaN</td>\n",
       "      <td>NaN</td>\n",
       "      <td>NaN</td>\n",
       "      <td>NaN</td>\n",
       "      <td>NaN</td>\n",
       "      <td>NaN</td>\n",
       "      <td>NaN</td>\n",
       "      <td>NaN</td>\n",
       "      <td>NaN</td>\n",
       "      <td>NaN</td>\n",
       "    </tr>\n",
       "    <tr>\n",
       "      <th>4</th>\n",
       "      <td>000002.SZ</td>\n",
       "      <td>20180914</td>\n",
       "      <td>23.13</td>\n",
       "      <td>23.39</td>\n",
       "      <td>22.81</td>\n",
       "      <td>23.32</td>\n",
       "      <td>23.10</td>\n",
       "      <td>0.22</td>\n",
       "      <td>0.9524</td>\n",
       "      <td>334870.79</td>\n",
       "      <td>...</td>\n",
       "      <td>NaN</td>\n",
       "      <td>NaN</td>\n",
       "      <td>NaN</td>\n",
       "      <td>NaN</td>\n",
       "      <td>NaN</td>\n",
       "      <td>NaN</td>\n",
       "      <td>NaN</td>\n",
       "      <td>NaN</td>\n",
       "      <td>NaN</td>\n",
       "      <td>NaN</td>\n",
       "    </tr>\n",
       "    <tr>\n",
       "      <th>5</th>\n",
       "      <td>000002.SZ</td>\n",
       "      <td>20180913</td>\n",
       "      <td>23.31</td>\n",
       "      <td>23.47</td>\n",
       "      <td>22.78</td>\n",
       "      <td>23.10</td>\n",
       "      <td>22.88</td>\n",
       "      <td>0.22</td>\n",
       "      <td>0.9615</td>\n",
       "      <td>468837.96</td>\n",
       "      <td>...</td>\n",
       "      <td>NaN</td>\n",
       "      <td>NaN</td>\n",
       "      <td>NaN</td>\n",
       "      <td>NaN</td>\n",
       "      <td>NaN</td>\n",
       "      <td>NaN</td>\n",
       "      <td>NaN</td>\n",
       "      <td>NaN</td>\n",
       "      <td>NaN</td>\n",
       "      <td>NaN</td>\n",
       "    </tr>\n",
       "    <tr>\n",
       "      <th>6</th>\n",
       "      <td>000002.SZ</td>\n",
       "      <td>20180912</td>\n",
       "      <td>23.24</td>\n",
       "      <td>23.30</td>\n",
       "      <td>22.61</td>\n",
       "      <td>22.88</td>\n",
       "      <td>23.34</td>\n",
       "      <td>-0.46</td>\n",
       "      <td>-1.9709</td>\n",
       "      <td>313821.54</td>\n",
       "      <td>...</td>\n",
       "      <td>NaN</td>\n",
       "      <td>NaN</td>\n",
       "      <td>NaN</td>\n",
       "      <td>NaN</td>\n",
       "      <td>NaN</td>\n",
       "      <td>NaN</td>\n",
       "      <td>NaN</td>\n",
       "      <td>NaN</td>\n",
       "      <td>NaN</td>\n",
       "      <td>NaN</td>\n",
       "    </tr>\n",
       "    <tr>\n",
       "      <th>7</th>\n",
       "      <td>000002.SZ</td>\n",
       "      <td>20180911</td>\n",
       "      <td>23.39</td>\n",
       "      <td>23.64</td>\n",
       "      <td>23.09</td>\n",
       "      <td>23.34</td>\n",
       "      <td>23.46</td>\n",
       "      <td>-0.12</td>\n",
       "      <td>-0.5115</td>\n",
       "      <td>358358.75</td>\n",
       "      <td>...</td>\n",
       "      <td>NaN</td>\n",
       "      <td>NaN</td>\n",
       "      <td>NaN</td>\n",
       "      <td>NaN</td>\n",
       "      <td>NaN</td>\n",
       "      <td>NaN</td>\n",
       "      <td>NaN</td>\n",
       "      <td>NaN</td>\n",
       "      <td>NaN</td>\n",
       "      <td>NaN</td>\n",
       "    </tr>\n",
       "    <tr>\n",
       "      <th>8</th>\n",
       "      <td>000002.SZ</td>\n",
       "      <td>20180910</td>\n",
       "      <td>23.42</td>\n",
       "      <td>23.85</td>\n",
       "      <td>23.11</td>\n",
       "      <td>23.46</td>\n",
       "      <td>23.21</td>\n",
       "      <td>0.25</td>\n",
       "      <td>1.0771</td>\n",
       "      <td>474917.79</td>\n",
       "      <td>...</td>\n",
       "      <td>000001.SZ</td>\n",
       "      <td>10.01</td>\n",
       "      <td>10.07</td>\n",
       "      <td>9.84</td>\n",
       "      <td>9.88</td>\n",
       "      <td>10.01</td>\n",
       "      <td>-0.13</td>\n",
       "      <td>-1.2987</td>\n",
       "      <td>636989.29</td>\n",
       "      <td>631174.169</td>\n",
       "    </tr>\n",
       "    <tr>\n",
       "      <th>9</th>\n",
       "      <td>000002.SZ</td>\n",
       "      <td>20180907</td>\n",
       "      <td>22.85</td>\n",
       "      <td>23.65</td>\n",
       "      <td>22.85</td>\n",
       "      <td>23.21</td>\n",
       "      <td>22.81</td>\n",
       "      <td>0.40</td>\n",
       "      <td>1.7536</td>\n",
       "      <td>334943.33</td>\n",
       "      <td>...</td>\n",
       "      <td>000001.SZ</td>\n",
       "      <td>10.04</td>\n",
       "      <td>10.18</td>\n",
       "      <td>9.93</td>\n",
       "      <td>10.01</td>\n",
       "      <td>9.97</td>\n",
       "      <td>0.04</td>\n",
       "      <td>0.4012</td>\n",
       "      <td>809035.34</td>\n",
       "      <td>815151.722</td>\n",
       "    </tr>\n",
       "    <tr>\n",
       "      <th>10</th>\n",
       "      <td>000002.SZ</td>\n",
       "      <td>20180906</td>\n",
       "      <td>23.32</td>\n",
       "      <td>23.56</td>\n",
       "      <td>22.69</td>\n",
       "      <td>22.81</td>\n",
       "      <td>23.41</td>\n",
       "      <td>-0.60</td>\n",
       "      <td>-2.5630</td>\n",
       "      <td>375368.90</td>\n",
       "      <td>...</td>\n",
       "      <td>000001.SZ</td>\n",
       "      <td>10.05</td>\n",
       "      <td>10.14</td>\n",
       "      <td>9.95</td>\n",
       "      <td>9.97</td>\n",
       "      <td>10.05</td>\n",
       "      <td>-0.08</td>\n",
       "      <td>-0.7960</td>\n",
       "      <td>711777.55</td>\n",
       "      <td>713975.749</td>\n",
       "    </tr>\n",
       "    <tr>\n",
       "      <th>11</th>\n",
       "      <td>000002.SZ</td>\n",
       "      <td>20180905</td>\n",
       "      <td>24.11</td>\n",
       "      <td>24.20</td>\n",
       "      <td>23.41</td>\n",
       "      <td>23.41</td>\n",
       "      <td>24.43</td>\n",
       "      <td>-1.02</td>\n",
       "      <td>-4.1752</td>\n",
       "      <td>546644.37</td>\n",
       "      <td>...</td>\n",
       "      <td>000001.SZ</td>\n",
       "      <td>10.30</td>\n",
       "      <td>10.33</td>\n",
       "      <td>10.05</td>\n",
       "      <td>10.05</td>\n",
       "      <td>10.43</td>\n",
       "      <td>-0.38</td>\n",
       "      <td>-3.6433</td>\n",
       "      <td>1179453.17</td>\n",
       "      <td>1202345.697</td>\n",
       "    </tr>\n",
       "    <tr>\n",
       "      <th>12</th>\n",
       "      <td>000002.SZ</td>\n",
       "      <td>20180904</td>\n",
       "      <td>23.66</td>\n",
       "      <td>24.44</td>\n",
       "      <td>23.41</td>\n",
       "      <td>24.43</td>\n",
       "      <td>23.55</td>\n",
       "      <td>0.88</td>\n",
       "      <td>3.7367</td>\n",
       "      <td>437654.47</td>\n",
       "      <td>...</td>\n",
       "      <td>000001.SZ</td>\n",
       "      <td>10.20</td>\n",
       "      <td>10.55</td>\n",
       "      <td>10.07</td>\n",
       "      <td>10.43</td>\n",
       "      <td>10.19</td>\n",
       "      <td>0.24</td>\n",
       "      <td>2.3553</td>\n",
       "      <td>1296342.08</td>\n",
       "      <td>1339756.563</td>\n",
       "    </tr>\n",
       "    <tr>\n",
       "      <th>13</th>\n",
       "      <td>000002.SZ</td>\n",
       "      <td>20180903</td>\n",
       "      <td>23.85</td>\n",
       "      <td>24.57</td>\n",
       "      <td>23.38</td>\n",
       "      <td>23.55</td>\n",
       "      <td>24.05</td>\n",
       "      <td>-0.50</td>\n",
       "      <td>-2.0790</td>\n",
       "      <td>497612.43</td>\n",
       "      <td>...</td>\n",
       "      <td>000001.SZ</td>\n",
       "      <td>10.09</td>\n",
       "      <td>10.30</td>\n",
       "      <td>10.09</td>\n",
       "      <td>10.19</td>\n",
       "      <td>10.13</td>\n",
       "      <td>0.06</td>\n",
       "      <td>0.5923</td>\n",
       "      <td>711695.67</td>\n",
       "      <td>725303.291</td>\n",
       "    </tr>\n",
       "    <tr>\n",
       "      <th>14</th>\n",
       "      <td>000002.SZ</td>\n",
       "      <td>20180831</td>\n",
       "      <td>23.20</td>\n",
       "      <td>24.36</td>\n",
       "      <td>23.18</td>\n",
       "      <td>24.05</td>\n",
       "      <td>23.50</td>\n",
       "      <td>0.55</td>\n",
       "      <td>2.3404</td>\n",
       "      <td>428145.12</td>\n",
       "      <td>...</td>\n",
       "      <td>000001.SZ</td>\n",
       "      <td>10.13</td>\n",
       "      <td>10.32</td>\n",
       "      <td>10.10</td>\n",
       "      <td>10.13</td>\n",
       "      <td>10.12</td>\n",
       "      <td>0.01</td>\n",
       "      <td>0.0988</td>\n",
       "      <td>1310865.24</td>\n",
       "      <td>1337898.869</td>\n",
       "    </tr>\n",
       "    <tr>\n",
       "      <th>15</th>\n",
       "      <td>000002.SZ</td>\n",
       "      <td>20180830</td>\n",
       "      <td>23.80</td>\n",
       "      <td>24.18</td>\n",
       "      <td>23.48</td>\n",
       "      <td>23.50</td>\n",
       "      <td>23.91</td>\n",
       "      <td>-0.41</td>\n",
       "      <td>-1.7148</td>\n",
       "      <td>285923.67</td>\n",
       "      <td>...</td>\n",
       "      <td>000001.SZ</td>\n",
       "      <td>10.27</td>\n",
       "      <td>10.35</td>\n",
       "      <td>10.08</td>\n",
       "      <td>10.12</td>\n",
       "      <td>10.27</td>\n",
       "      <td>-0.15</td>\n",
       "      <td>-1.4606</td>\n",
       "      <td>994917.73</td>\n",
       "      <td>1013877.514</td>\n",
       "    </tr>\n",
       "    <tr>\n",
       "      <th>16</th>\n",
       "      <td>000002.SZ</td>\n",
       "      <td>20180829</td>\n",
       "      <td>23.74</td>\n",
       "      <td>24.40</td>\n",
       "      <td>23.72</td>\n",
       "      <td>23.91</td>\n",
       "      <td>23.88</td>\n",
       "      <td>0.03</td>\n",
       "      <td>0.1256</td>\n",
       "      <td>291143.33</td>\n",
       "      <td>...</td>\n",
       "      <td>000001.SZ</td>\n",
       "      <td>10.25</td>\n",
       "      <td>10.33</td>\n",
       "      <td>10.15</td>\n",
       "      <td>10.27</td>\n",
       "      <td>10.29</td>\n",
       "      <td>-0.02</td>\n",
       "      <td>-0.1944</td>\n",
       "      <td>901883.49</td>\n",
       "      <td>923581.546</td>\n",
       "    </tr>\n",
       "    <tr>\n",
       "      <th>17</th>\n",
       "      <td>000002.SZ</td>\n",
       "      <td>20180828</td>\n",
       "      <td>23.80</td>\n",
       "      <td>24.14</td>\n",
       "      <td>23.73</td>\n",
       "      <td>23.88</td>\n",
       "      <td>23.91</td>\n",
       "      <td>-0.03</td>\n",
       "      <td>-0.1255</td>\n",
       "      <td>348101.15</td>\n",
       "      <td>...</td>\n",
       "      <td>000001.SZ</td>\n",
       "      <td>10.34</td>\n",
       "      <td>10.43</td>\n",
       "      <td>10.24</td>\n",
       "      <td>10.29</td>\n",
       "      <td>10.43</td>\n",
       "      <td>-0.14</td>\n",
       "      <td>-1.3423</td>\n",
       "      <td>1289777.24</td>\n",
       "      <td>1331917.860</td>\n",
       "    </tr>\n",
       "    <tr>\n",
       "      <th>18</th>\n",
       "      <td>000002.SZ</td>\n",
       "      <td>20180827</td>\n",
       "      <td>22.98</td>\n",
       "      <td>24.06</td>\n",
       "      <td>22.85</td>\n",
       "      <td>23.91</td>\n",
       "      <td>22.78</td>\n",
       "      <td>1.13</td>\n",
       "      <td>4.9605</td>\n",
       "      <td>594341.10</td>\n",
       "      <td>...</td>\n",
       "      <td>000001.SZ</td>\n",
       "      <td>10.02</td>\n",
       "      <td>10.43</td>\n",
       "      <td>9.97</td>\n",
       "      <td>10.43</td>\n",
       "      <td>10.03</td>\n",
       "      <td>0.40</td>\n",
       "      <td>3.9880</td>\n",
       "      <td>2218424.22</td>\n",
       "      <td>2251527.721</td>\n",
       "    </tr>\n",
       "    <tr>\n",
       "      <th>19</th>\n",
       "      <td>000002.SZ</td>\n",
       "      <td>20180824</td>\n",
       "      <td>22.66</td>\n",
       "      <td>23.01</td>\n",
       "      <td>22.39</td>\n",
       "      <td>22.78</td>\n",
       "      <td>22.82</td>\n",
       "      <td>-0.04</td>\n",
       "      <td>-0.1753</td>\n",
       "      <td>273417.65</td>\n",
       "      <td>...</td>\n",
       "      <td>000001.SZ</td>\n",
       "      <td>9.31</td>\n",
       "      <td>10.28</td>\n",
       "      <td>9.29</td>\n",
       "      <td>10.03</td>\n",
       "      <td>9.36</td>\n",
       "      <td>0.67</td>\n",
       "      <td>7.1581</td>\n",
       "      <td>3040408.39</td>\n",
       "      <td>2995071.976</td>\n",
       "    </tr>\n",
       "    <tr>\n",
       "      <th>20</th>\n",
       "      <td>000002.SZ</td>\n",
       "      <td>20180823</td>\n",
       "      <td>23.00</td>\n",
       "      <td>23.15</td>\n",
       "      <td>22.24</td>\n",
       "      <td>22.82</td>\n",
       "      <td>23.02</td>\n",
       "      <td>-0.20</td>\n",
       "      <td>-0.8688</td>\n",
       "      <td>543058.67</td>\n",
       "      <td>...</td>\n",
       "      <td>000001.SZ</td>\n",
       "      <td>9.30</td>\n",
       "      <td>9.42</td>\n",
       "      <td>9.23</td>\n",
       "      <td>9.36</td>\n",
       "      <td>9.29</td>\n",
       "      <td>0.07</td>\n",
       "      <td>0.7535</td>\n",
       "      <td>729074.62</td>\n",
       "      <td>680941.392</td>\n",
       "    </tr>\n",
       "    <tr>\n",
       "      <th>21</th>\n",
       "      <td>000002.SZ</td>\n",
       "      <td>20180822</td>\n",
       "      <td>23.91</td>\n",
       "      <td>24.08</td>\n",
       "      <td>23.67</td>\n",
       "      <td>23.92</td>\n",
       "      <td>23.91</td>\n",
       "      <td>0.01</td>\n",
       "      <td>0.0418</td>\n",
       "      <td>421833.83</td>\n",
       "      <td>...</td>\n",
       "      <td>000001.SZ</td>\n",
       "      <td>9.24</td>\n",
       "      <td>9.34</td>\n",
       "      <td>9.13</td>\n",
       "      <td>9.29</td>\n",
       "      <td>9.23</td>\n",
       "      <td>0.06</td>\n",
       "      <td>0.6501</td>\n",
       "      <td>982433.98</td>\n",
       "      <td>909598.743</td>\n",
       "    </tr>\n",
       "    <tr>\n",
       "      <th>22</th>\n",
       "      <td>000002.SZ</td>\n",
       "      <td>20180821</td>\n",
       "      <td>23.39</td>\n",
       "      <td>23.98</td>\n",
       "      <td>23.22</td>\n",
       "      <td>23.91</td>\n",
       "      <td>23.35</td>\n",
       "      <td>0.56</td>\n",
       "      <td>2.3983</td>\n",
       "      <td>495846.24</td>\n",
       "      <td>...</td>\n",
       "      <td>000001.SZ</td>\n",
       "      <td>9.02</td>\n",
       "      <td>9.26</td>\n",
       "      <td>9.01</td>\n",
       "      <td>9.23</td>\n",
       "      <td>9.00</td>\n",
       "      <td>0.23</td>\n",
       "      <td>2.5556</td>\n",
       "      <td>1264474.47</td>\n",
       "      <td>1163292.795</td>\n",
       "    </tr>\n",
       "    <tr>\n",
       "      <th>23</th>\n",
       "      <td>000002.SZ</td>\n",
       "      <td>20180820</td>\n",
       "      <td>22.93</td>\n",
       "      <td>23.44</td>\n",
       "      <td>22.59</td>\n",
       "      <td>23.35</td>\n",
       "      <td>22.69</td>\n",
       "      <td>0.66</td>\n",
       "      <td>2.9088</td>\n",
       "      <td>476133.14</td>\n",
       "      <td>...</td>\n",
       "      <td>000001.SZ</td>\n",
       "      <td>8.90</td>\n",
       "      <td>9.02</td>\n",
       "      <td>8.87</td>\n",
       "      <td>9.00</td>\n",
       "      <td>8.81</td>\n",
       "      <td>0.19</td>\n",
       "      <td>2.1566</td>\n",
       "      <td>681322.06</td>\n",
       "      <td>609934.725</td>\n",
       "    </tr>\n",
       "    <tr>\n",
       "      <th>24</th>\n",
       "      <td>000002.SZ</td>\n",
       "      <td>20180817</td>\n",
       "      <td>22.90</td>\n",
       "      <td>23.20</td>\n",
       "      <td>22.64</td>\n",
       "      <td>22.69</td>\n",
       "      <td>22.72</td>\n",
       "      <td>-0.03</td>\n",
       "      <td>-0.1320</td>\n",
       "      <td>424160.44</td>\n",
       "      <td>...</td>\n",
       "      <td>000001.SZ</td>\n",
       "      <td>8.88</td>\n",
       "      <td>8.94</td>\n",
       "      <td>8.78</td>\n",
       "      <td>8.81</td>\n",
       "      <td>8.78</td>\n",
       "      <td>0.03</td>\n",
       "      <td>0.3417</td>\n",
       "      <td>649476.56</td>\n",
       "      <td>576683.267</td>\n",
       "    </tr>\n",
       "    <tr>\n",
       "      <th>25</th>\n",
       "      <td>000002.SZ</td>\n",
       "      <td>20180816</td>\n",
       "      <td>21.63</td>\n",
       "      <td>23.08</td>\n",
       "      <td>21.61</td>\n",
       "      <td>22.72</td>\n",
       "      <td>22.30</td>\n",
       "      <td>0.42</td>\n",
       "      <td>1.8834</td>\n",
       "      <td>490384.44</td>\n",
       "      <td>...</td>\n",
       "      <td>000001.SZ</td>\n",
       "      <td>8.73</td>\n",
       "      <td>8.89</td>\n",
       "      <td>8.64</td>\n",
       "      <td>8.78</td>\n",
       "      <td>8.79</td>\n",
       "      <td>-0.01</td>\n",
       "      <td>-0.1138</td>\n",
       "      <td>638272.55</td>\n",
       "      <td>559523.123</td>\n",
       "    </tr>\n",
       "    <tr>\n",
       "      <th>26</th>\n",
       "      <td>000002.SZ</td>\n",
       "      <td>20180815</td>\n",
       "      <td>22.39</td>\n",
       "      <td>22.58</td>\n",
       "      <td>22.22</td>\n",
       "      <td>22.30</td>\n",
       "      <td>22.32</td>\n",
       "      <td>-0.02</td>\n",
       "      <td>-0.0896</td>\n",
       "      <td>472553.50</td>\n",
       "      <td>...</td>\n",
       "      <td>000001.SZ</td>\n",
       "      <td>9.02</td>\n",
       "      <td>9.02</td>\n",
       "      <td>8.75</td>\n",
       "      <td>8.79</td>\n",
       "      <td>9.00</td>\n",
       "      <td>-0.21</td>\n",
       "      <td>-2.3333</td>\n",
       "      <td>670442.85</td>\n",
       "      <td>594759.517</td>\n",
       "    </tr>\n",
       "    <tr>\n",
       "      <th>27</th>\n",
       "      <td>000002.SZ</td>\n",
       "      <td>20180814</td>\n",
       "      <td>23.00</td>\n",
       "      <td>23.05</td>\n",
       "      <td>22.05</td>\n",
       "      <td>22.32</td>\n",
       "      <td>23.04</td>\n",
       "      <td>-0.72</td>\n",
       "      <td>-3.1250</td>\n",
       "      <td>486784.81</td>\n",
       "      <td>...</td>\n",
       "      <td>000001.SZ</td>\n",
       "      <td>9.03</td>\n",
       "      <td>9.04</td>\n",
       "      <td>8.94</td>\n",
       "      <td>9.00</td>\n",
       "      <td>9.05</td>\n",
       "      <td>-0.05</td>\n",
       "      <td>-0.5525</td>\n",
       "      <td>430240.36</td>\n",
       "      <td>386334.617</td>\n",
       "    </tr>\n",
       "    <tr>\n",
       "      <th>28</th>\n",
       "      <td>000002.SZ</td>\n",
       "      <td>20180813</td>\n",
       "      <td>22.60</td>\n",
       "      <td>23.21</td>\n",
       "      <td>22.46</td>\n",
       "      <td>23.04</td>\n",
       "      <td>23.18</td>\n",
       "      <td>-0.14</td>\n",
       "      <td>-0.6040</td>\n",
       "      <td>489494.76</td>\n",
       "      <td>...</td>\n",
       "      <td>000001.SZ</td>\n",
       "      <td>9.12</td>\n",
       "      <td>9.16</td>\n",
       "      <td>8.90</td>\n",
       "      <td>9.05</td>\n",
       "      <td>9.23</td>\n",
       "      <td>-0.18</td>\n",
       "      <td>-1.9502</td>\n",
       "      <td>818491.12</td>\n",
       "      <td>736947.790</td>\n",
       "    </tr>\n",
       "    <tr>\n",
       "      <th>29</th>\n",
       "      <td>000002.SZ</td>\n",
       "      <td>20180810</td>\n",
       "      <td>23.00</td>\n",
       "      <td>24.07</td>\n",
       "      <td>22.93</td>\n",
       "      <td>23.18</td>\n",
       "      <td>22.48</td>\n",
       "      <td>0.70</td>\n",
       "      <td>3.1139</td>\n",
       "      <td>1201163.03</td>\n",
       "      <td>...</td>\n",
       "      <td>000001.SZ</td>\n",
       "      <td>9.30</td>\n",
       "      <td>9.32</td>\n",
       "      <td>9.16</td>\n",
       "      <td>9.23</td>\n",
       "      <td>9.29</td>\n",
       "      <td>-0.06</td>\n",
       "      <td>-0.6459</td>\n",
       "      <td>424168.36</td>\n",
       "      <td>391366.341</td>\n",
       "    </tr>\n",
       "    <tr>\n",
       "      <th>30</th>\n",
       "      <td>000002.SZ</td>\n",
       "      <td>20180809</td>\n",
       "      <td>21.50</td>\n",
       "      <td>22.55</td>\n",
       "      <td>21.40</td>\n",
       "      <td>22.48</td>\n",
       "      <td>21.50</td>\n",
       "      <td>0.98</td>\n",
       "      <td>4.5581</td>\n",
       "      <td>896200.17</td>\n",
       "      <td>...</td>\n",
       "      <td>000001.SZ</td>\n",
       "      <td>9.04</td>\n",
       "      <td>9.35</td>\n",
       "      <td>9.02</td>\n",
       "      <td>9.29</td>\n",
       "      <td>9.05</td>\n",
       "      <td>0.24</td>\n",
       "      <td>2.6519</td>\n",
       "      <td>806783.77</td>\n",
       "      <td>746469.808</td>\n",
       "    </tr>\n",
       "    <tr>\n",
       "      <th>31</th>\n",
       "      <td>000002.SZ</td>\n",
       "      <td>20180808</td>\n",
       "      <td>21.89</td>\n",
       "      <td>22.29</td>\n",
       "      <td>21.50</td>\n",
       "      <td>21.50</td>\n",
       "      <td>21.86</td>\n",
       "      <td>-0.36</td>\n",
       "      <td>-1.6468</td>\n",
       "      <td>410720.18</td>\n",
       "      <td>...</td>\n",
       "      <td>000001.SZ</td>\n",
       "      <td>9.16</td>\n",
       "      <td>9.16</td>\n",
       "      <td>9.04</td>\n",
       "      <td>9.05</td>\n",
       "      <td>9.17</td>\n",
       "      <td>-0.12</td>\n",
       "      <td>-1.3086</td>\n",
       "      <td>578953.16</td>\n",
       "      <td>527526.989</td>\n",
       "    </tr>\n",
       "    <tr>\n",
       "      <th>32</th>\n",
       "      <td>000002.SZ</td>\n",
       "      <td>20180807</td>\n",
       "      <td>21.15</td>\n",
       "      <td>21.86</td>\n",
       "      <td>20.93</td>\n",
       "      <td>21.86</td>\n",
       "      <td>20.86</td>\n",
       "      <td>1.00</td>\n",
       "      <td>4.7939</td>\n",
       "      <td>451653.09</td>\n",
       "      <td>...</td>\n",
       "      <td>000001.SZ</td>\n",
       "      <td>8.96</td>\n",
       "      <td>9.17</td>\n",
       "      <td>8.88</td>\n",
       "      <td>9.17</td>\n",
       "      <td>8.94</td>\n",
       "      <td>0.23</td>\n",
       "      <td>2.5727</td>\n",
       "      <td>690423.19</td>\n",
       "      <td>624359.656</td>\n",
       "    </tr>\n",
       "    <tr>\n",
       "      <th>33</th>\n",
       "      <td>000002.SZ</td>\n",
       "      <td>20180806</td>\n",
       "      <td>21.18</td>\n",
       "      <td>21.32</td>\n",
       "      <td>20.52</td>\n",
       "      <td>20.86</td>\n",
       "      <td>21.08</td>\n",
       "      <td>-0.22</td>\n",
       "      <td>-1.0436</td>\n",
       "      <td>315702.05</td>\n",
       "      <td>...</td>\n",
       "      <td>000001.SZ</td>\n",
       "      <td>8.94</td>\n",
       "      <td>9.11</td>\n",
       "      <td>8.89</td>\n",
       "      <td>8.94</td>\n",
       "      <td>8.91</td>\n",
       "      <td>0.03</td>\n",
       "      <td>0.3367</td>\n",
       "      <td>554010.08</td>\n",
       "      <td>497906.686</td>\n",
       "    </tr>\n",
       "    <tr>\n",
       "      <th>34</th>\n",
       "      <td>000002.SZ</td>\n",
       "      <td>20180803</td>\n",
       "      <td>21.39</td>\n",
       "      <td>21.54</td>\n",
       "      <td>21.05</td>\n",
       "      <td>21.08</td>\n",
       "      <td>21.38</td>\n",
       "      <td>-0.30</td>\n",
       "      <td>-1.4032</td>\n",
       "      <td>346072.30</td>\n",
       "      <td>...</td>\n",
       "      <td>000001.SZ</td>\n",
       "      <td>8.93</td>\n",
       "      <td>9.10</td>\n",
       "      <td>8.91</td>\n",
       "      <td>8.91</td>\n",
       "      <td>8.94</td>\n",
       "      <td>-0.03</td>\n",
       "      <td>-0.3356</td>\n",
       "      <td>476546.62</td>\n",
       "      <td>428641.526</td>\n",
       "    </tr>\n",
       "    <tr>\n",
       "      <th>35</th>\n",
       "      <td>000002.SZ</td>\n",
       "      <td>20180802</td>\n",
       "      <td>22.34</td>\n",
       "      <td>22.34</td>\n",
       "      <td>21.07</td>\n",
       "      <td>21.38</td>\n",
       "      <td>22.35</td>\n",
       "      <td>-0.97</td>\n",
       "      <td>-4.3400</td>\n",
       "      <td>677777.75</td>\n",
       "      <td>...</td>\n",
       "      <td>000001.SZ</td>\n",
       "      <td>9.13</td>\n",
       "      <td>9.15</td>\n",
       "      <td>8.88</td>\n",
       "      <td>8.94</td>\n",
       "      <td>9.15</td>\n",
       "      <td>-0.21</td>\n",
       "      <td>-2.2951</td>\n",
       "      <td>931401.28</td>\n",
       "      <td>839272.254</td>\n",
       "    </tr>\n",
       "    <tr>\n",
       "      <th>36</th>\n",
       "      <td>000002.SZ</td>\n",
       "      <td>20180801</td>\n",
       "      <td>23.24</td>\n",
       "      <td>23.24</td>\n",
       "      <td>22.21</td>\n",
       "      <td>22.35</td>\n",
       "      <td>23.32</td>\n",
       "      <td>-0.97</td>\n",
       "      <td>-4.1595</td>\n",
       "      <td>673866.01</td>\n",
       "      <td>...</td>\n",
       "      <td>000001.SZ</td>\n",
       "      <td>9.42</td>\n",
       "      <td>9.50</td>\n",
       "      <td>9.11</td>\n",
       "      <td>9.15</td>\n",
       "      <td>9.42</td>\n",
       "      <td>-0.27</td>\n",
       "      <td>-2.8662</td>\n",
       "      <td>814081.68</td>\n",
       "      <td>759282.229</td>\n",
       "    </tr>\n",
       "  </tbody>\n",
       "</table>\n",
       "<p>37 rows × 21 columns</p>\n",
       "</div>"
      ],
      "text/plain": [
       "    ts_code_x trade_date  open_x  high_x  low_x  close_x  pre_close_x  \\\n",
       "0   000002.SZ   20180920   24.01   24.43  23.80    24.01        24.17   \n",
       "1   000002.SZ   20180919   23.03   24.67  22.91    24.17        23.00   \n",
       "2   000002.SZ   20180918   22.65   23.10  22.47    23.00        22.83   \n",
       "3   000002.SZ   20180917   23.04   23.23  22.72    22.83        23.32   \n",
       "4   000002.SZ   20180914   23.13   23.39  22.81    23.32        23.10   \n",
       "5   000002.SZ   20180913   23.31   23.47  22.78    23.10        22.88   \n",
       "6   000002.SZ   20180912   23.24   23.30  22.61    22.88        23.34   \n",
       "7   000002.SZ   20180911   23.39   23.64  23.09    23.34        23.46   \n",
       "8   000002.SZ   20180910   23.42   23.85  23.11    23.46        23.21   \n",
       "9   000002.SZ   20180907   22.85   23.65  22.85    23.21        22.81   \n",
       "10  000002.SZ   20180906   23.32   23.56  22.69    22.81        23.41   \n",
       "11  000002.SZ   20180905   24.11   24.20  23.41    23.41        24.43   \n",
       "12  000002.SZ   20180904   23.66   24.44  23.41    24.43        23.55   \n",
       "13  000002.SZ   20180903   23.85   24.57  23.38    23.55        24.05   \n",
       "14  000002.SZ   20180831   23.20   24.36  23.18    24.05        23.50   \n",
       "15  000002.SZ   20180830   23.80   24.18  23.48    23.50        23.91   \n",
       "16  000002.SZ   20180829   23.74   24.40  23.72    23.91        23.88   \n",
       "17  000002.SZ   20180828   23.80   24.14  23.73    23.88        23.91   \n",
       "18  000002.SZ   20180827   22.98   24.06  22.85    23.91        22.78   \n",
       "19  000002.SZ   20180824   22.66   23.01  22.39    22.78        22.82   \n",
       "20  000002.SZ   20180823   23.00   23.15  22.24    22.82        23.02   \n",
       "21  000002.SZ   20180822   23.91   24.08  23.67    23.92        23.91   \n",
       "22  000002.SZ   20180821   23.39   23.98  23.22    23.91        23.35   \n",
       "23  000002.SZ   20180820   22.93   23.44  22.59    23.35        22.69   \n",
       "24  000002.SZ   20180817   22.90   23.20  22.64    22.69        22.72   \n",
       "25  000002.SZ   20180816   21.63   23.08  21.61    22.72        22.30   \n",
       "26  000002.SZ   20180815   22.39   22.58  22.22    22.30        22.32   \n",
       "27  000002.SZ   20180814   23.00   23.05  22.05    22.32        23.04   \n",
       "28  000002.SZ   20180813   22.60   23.21  22.46    23.04        23.18   \n",
       "29  000002.SZ   20180810   23.00   24.07  22.93    23.18        22.48   \n",
       "30  000002.SZ   20180809   21.50   22.55  21.40    22.48        21.50   \n",
       "31  000002.SZ   20180808   21.89   22.29  21.50    21.50        21.86   \n",
       "32  000002.SZ   20180807   21.15   21.86  20.93    21.86        20.86   \n",
       "33  000002.SZ   20180806   21.18   21.32  20.52    20.86        21.08   \n",
       "34  000002.SZ   20180803   21.39   21.54  21.05    21.08        21.38   \n",
       "35  000002.SZ   20180802   22.34   22.34  21.07    21.38        22.35   \n",
       "36  000002.SZ   20180801   23.24   23.24  22.21    22.35        23.32   \n",
       "\n",
       "    change_x  pct_change_x       vol_x     ...       ts_code_y open_y  high_y  \\\n",
       "0      -0.16       -0.6620   521852.72     ...             NaN    NaN     NaN   \n",
       "1       1.17        5.0870  1317837.01     ...             NaN    NaN     NaN   \n",
       "2       0.17        0.7446   404634.05     ...             NaN    NaN     NaN   \n",
       "3      -0.49       -2.1012   255061.69     ...             NaN    NaN     NaN   \n",
       "4       0.22        0.9524   334870.79     ...             NaN    NaN     NaN   \n",
       "5       0.22        0.9615   468837.96     ...             NaN    NaN     NaN   \n",
       "6      -0.46       -1.9709   313821.54     ...             NaN    NaN     NaN   \n",
       "7      -0.12       -0.5115   358358.75     ...             NaN    NaN     NaN   \n",
       "8       0.25        1.0771   474917.79     ...       000001.SZ  10.01   10.07   \n",
       "9       0.40        1.7536   334943.33     ...       000001.SZ  10.04   10.18   \n",
       "10     -0.60       -2.5630   375368.90     ...       000001.SZ  10.05   10.14   \n",
       "11     -1.02       -4.1752   546644.37     ...       000001.SZ  10.30   10.33   \n",
       "12      0.88        3.7367   437654.47     ...       000001.SZ  10.20   10.55   \n",
       "13     -0.50       -2.0790   497612.43     ...       000001.SZ  10.09   10.30   \n",
       "14      0.55        2.3404   428145.12     ...       000001.SZ  10.13   10.32   \n",
       "15     -0.41       -1.7148   285923.67     ...       000001.SZ  10.27   10.35   \n",
       "16      0.03        0.1256   291143.33     ...       000001.SZ  10.25   10.33   \n",
       "17     -0.03       -0.1255   348101.15     ...       000001.SZ  10.34   10.43   \n",
       "18      1.13        4.9605   594341.10     ...       000001.SZ  10.02   10.43   \n",
       "19     -0.04       -0.1753   273417.65     ...       000001.SZ   9.31   10.28   \n",
       "20     -0.20       -0.8688   543058.67     ...       000001.SZ   9.30    9.42   \n",
       "21      0.01        0.0418   421833.83     ...       000001.SZ   9.24    9.34   \n",
       "22      0.56        2.3983   495846.24     ...       000001.SZ   9.02    9.26   \n",
       "23      0.66        2.9088   476133.14     ...       000001.SZ   8.90    9.02   \n",
       "24     -0.03       -0.1320   424160.44     ...       000001.SZ   8.88    8.94   \n",
       "25      0.42        1.8834   490384.44     ...       000001.SZ   8.73    8.89   \n",
       "26     -0.02       -0.0896   472553.50     ...       000001.SZ   9.02    9.02   \n",
       "27     -0.72       -3.1250   486784.81     ...       000001.SZ   9.03    9.04   \n",
       "28     -0.14       -0.6040   489494.76     ...       000001.SZ   9.12    9.16   \n",
       "29      0.70        3.1139  1201163.03     ...       000001.SZ   9.30    9.32   \n",
       "30      0.98        4.5581   896200.17     ...       000001.SZ   9.04    9.35   \n",
       "31     -0.36       -1.6468   410720.18     ...       000001.SZ   9.16    9.16   \n",
       "32      1.00        4.7939   451653.09     ...       000001.SZ   8.96    9.17   \n",
       "33     -0.22       -1.0436   315702.05     ...       000001.SZ   8.94    9.11   \n",
       "34     -0.30       -1.4032   346072.30     ...       000001.SZ   8.93    9.10   \n",
       "35     -0.97       -4.3400   677777.75     ...       000001.SZ   9.13    9.15   \n",
       "36     -0.97       -4.1595   673866.01     ...       000001.SZ   9.42    9.50   \n",
       "\n",
       "    low_y  close_y  pre_close_y  change_y  pct_change_y       vol_y  \\\n",
       "0     NaN      NaN          NaN       NaN           NaN         NaN   \n",
       "1     NaN      NaN          NaN       NaN           NaN         NaN   \n",
       "2     NaN      NaN          NaN       NaN           NaN         NaN   \n",
       "3     NaN      NaN          NaN       NaN           NaN         NaN   \n",
       "4     NaN      NaN          NaN       NaN           NaN         NaN   \n",
       "5     NaN      NaN          NaN       NaN           NaN         NaN   \n",
       "6     NaN      NaN          NaN       NaN           NaN         NaN   \n",
       "7     NaN      NaN          NaN       NaN           NaN         NaN   \n",
       "8    9.84     9.88        10.01     -0.13       -1.2987   636989.29   \n",
       "9    9.93    10.01         9.97      0.04        0.4012   809035.34   \n",
       "10   9.95     9.97        10.05     -0.08       -0.7960   711777.55   \n",
       "11  10.05    10.05        10.43     -0.38       -3.6433  1179453.17   \n",
       "12  10.07    10.43        10.19      0.24        2.3553  1296342.08   \n",
       "13  10.09    10.19        10.13      0.06        0.5923   711695.67   \n",
       "14  10.10    10.13        10.12      0.01        0.0988  1310865.24   \n",
       "15  10.08    10.12        10.27     -0.15       -1.4606   994917.73   \n",
       "16  10.15    10.27        10.29     -0.02       -0.1944   901883.49   \n",
       "17  10.24    10.29        10.43     -0.14       -1.3423  1289777.24   \n",
       "18   9.97    10.43        10.03      0.40        3.9880  2218424.22   \n",
       "19   9.29    10.03         9.36      0.67        7.1581  3040408.39   \n",
       "20   9.23     9.36         9.29      0.07        0.7535   729074.62   \n",
       "21   9.13     9.29         9.23      0.06        0.6501   982433.98   \n",
       "22   9.01     9.23         9.00      0.23        2.5556  1264474.47   \n",
       "23   8.87     9.00         8.81      0.19        2.1566   681322.06   \n",
       "24   8.78     8.81         8.78      0.03        0.3417   649476.56   \n",
       "25   8.64     8.78         8.79     -0.01       -0.1138   638272.55   \n",
       "26   8.75     8.79         9.00     -0.21       -2.3333   670442.85   \n",
       "27   8.94     9.00         9.05     -0.05       -0.5525   430240.36   \n",
       "28   8.90     9.05         9.23     -0.18       -1.9502   818491.12   \n",
       "29   9.16     9.23         9.29     -0.06       -0.6459   424168.36   \n",
       "30   9.02     9.29         9.05      0.24        2.6519   806783.77   \n",
       "31   9.04     9.05         9.17     -0.12       -1.3086   578953.16   \n",
       "32   8.88     9.17         8.94      0.23        2.5727   690423.19   \n",
       "33   8.89     8.94         8.91      0.03        0.3367   554010.08   \n",
       "34   8.91     8.91         8.94     -0.03       -0.3356   476546.62   \n",
       "35   8.88     8.94         9.15     -0.21       -2.2951   931401.28   \n",
       "36   9.11     9.15         9.42     -0.27       -2.8662   814081.68   \n",
       "\n",
       "       amount_y  \n",
       "0           NaN  \n",
       "1           NaN  \n",
       "2           NaN  \n",
       "3           NaN  \n",
       "4           NaN  \n",
       "5           NaN  \n",
       "6           NaN  \n",
       "7           NaN  \n",
       "8    631174.169  \n",
       "9    815151.722  \n",
       "10   713975.749  \n",
       "11  1202345.697  \n",
       "12  1339756.563  \n",
       "13   725303.291  \n",
       "14  1337898.869  \n",
       "15  1013877.514  \n",
       "16   923581.546  \n",
       "17  1331917.860  \n",
       "18  2251527.721  \n",
       "19  2995071.976  \n",
       "20   680941.392  \n",
       "21   909598.743  \n",
       "22  1163292.795  \n",
       "23   609934.725  \n",
       "24   576683.267  \n",
       "25   559523.123  \n",
       "26   594759.517  \n",
       "27   386334.617  \n",
       "28   736947.790  \n",
       "29   391366.341  \n",
       "30   746469.808  \n",
       "31   527526.989  \n",
       "32   624359.656  \n",
       "33   497906.686  \n",
       "34   428641.526  \n",
       "35   839272.254  \n",
       "36   759282.229  \n",
       "\n",
       "[37 rows x 21 columns]"
      ]
     },
     "execution_count": 277,
     "metadata": {},
     "output_type": "execute_result"
    }
   ],
   "source": [
    "merge_1"
   ]
  }
 ],
 "metadata": {
  "kernelspec": {
   "display_name": "Python 3",
   "language": "python",
   "name": "python3"
  },
  "language_info": {
   "codemirror_mode": {
    "name": "ipython",
    "version": 3
   },
   "file_extension": ".py",
   "mimetype": "text/x-python",
   "name": "python",
   "nbconvert_exporter": "python",
   "pygments_lexer": "ipython3",
   "version": "3.6.5"
  }
 },
 "nbformat": 4,
 "nbformat_minor": 2
}
