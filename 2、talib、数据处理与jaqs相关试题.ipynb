{
 "cells": [
  {
   "cell_type": "markdown",
   "metadata": {},
   "source": [
    "# 4. 数据计算与统计试题"
   ]
  },
  {
   "cell_type": "markdown",
   "metadata": {},
   "source": [
    "4.1计算股票600104与600518的相关系数、spearman排序相关性与30天滚动的五日收益协方差"
   ]
  },
  {
   "cell_type": "code",
   "execution_count": 1,
   "metadata": {},
   "outputs": [
    {
     "name": "stderr",
     "output_type": "stream",
     "text": [
      "/anaconda3/lib/python3.6/site-packages/pandas/io/excel.py:329: FutureWarning: The `sheetname` keyword is deprecated, use `sheet_name` instead\n",
      "  **kwds)\n"
     ]
    },
    {
     "name": "stdout",
     "output_type": "stream",
     "text": [
      "          stock1    stock2\n",
      "stock1  1.000000  0.348809\n",
      "stock2  0.348809  1.000000\n"
     ]
    }
   ],
   "source": [
    "import pandas as pd\n",
    "stock1 = pd.read_excel('sz50.xlsx',sheetname='600104.XSHG', index_col='datetime')\n",
    "stock2 = pd.read_excel('sz50.xlsx',sheetname='600518.XSHG', index_col='datetime')\n",
    "five_day_df = pd.concat([stock1.close.pct_change(5),stock2.close.pct_change(5)],keys=['stock1','stock2'],axis=1)\n",
    "correlation = five_day_df.corr()\n",
    "print(correlation)"
   ]
  },
  {
   "cell_type": "code",
   "execution_count": 2,
   "metadata": {},
   "outputs": [
    {
     "name": "stdout",
     "output_type": "stream",
     "text": [
      "         stock1   stock2\n",
      "stock1  1.00000  0.38035\n",
      "stock2  0.38035  1.00000\n"
     ]
    }
   ],
   "source": [
    "spearman = five_day_df.corr(method='spearman')\n",
    "print(spearman)"
   ]
  },
  {
   "cell_type": "code",
   "execution_count": 3,
   "metadata": {},
   "outputs": [
    {
     "name": "stdout",
     "output_type": "stream",
     "text": [
      "                              stock1    stock2\n",
      "datetime                                      \n",
      "2017-11-16 15:00:00 stock1  0.001200  0.000289\n",
      "                    stock2  0.000289  0.000682\n",
      "2017-11-17 15:00:00 stock1  0.001196  0.000291\n",
      "                    stock2  0.000291  0.000710\n",
      "2017-11-20 15:00:00 stock1  0.001192  0.000318\n",
      "                    stock2  0.000318  0.000696\n"
     ]
    }
   ],
   "source": [
    "cov_30 = five_day_df.rolling(30).cov()\n",
    "print(cov_30.tail(6))"
   ]
  },
  {
   "cell_type": "markdown",
   "metadata": {},
   "source": [
    "4.2\n",
    "读取600104.XSHG的股票日线\n",
    "\n",
    "利用正确的方法将日K线聚合成周K线\n",
    "\n",
    "将周K线画出来"
   ]
  },
  {
   "cell_type": "code",
   "execution_count": 4,
   "metadata": {},
   "outputs": [
    {
     "name": "stderr",
     "output_type": "stream",
     "text": [
      "/anaconda3/lib/python3.6/site-packages/ipykernel_launcher.py:6: FutureWarning: '.reindex_axis' is deprecated and will be removed in a future version. Use '.reindex' instead.\n",
      "  \n"
     ]
    },
    {
     "data": {
      "text/plain": [
       "<Figure size 1500x1200 with 1 Axes>"
      ]
     },
     "metadata": {},
     "output_type": "display_data"
    }
   ],
   "source": [
    "stock1 = stock1.resample('W').agg({'high':'max','low':'min', 'close':'last', 'open':'first'})\n",
    "import matplotlib.pyplot as plt\n",
    "from matplotlib.pylab import date2num\n",
    "\n",
    "stock1['time'] = list(map(date2num, stock1.index))\n",
    "candle = stock1.reindex_axis([\"time\", \"open\", \"high\", \"low\", \"close\"], 1).values\n",
    "\n",
    "import mpl_finance as mpf\n",
    "\n",
    "fig, (ax) = plt.subplots(1,1, figsize=(15,12))\n",
    "fig.subplots_adjust(bottom=0.5)\n",
    "ax.grid(True)\n",
    "mpf.candlestick_ohlc(ax, candle, width=0.6, colorup='r', colordown='g',alpha=1.0)\n",
    "ax.xaxis_date ()\n",
    "plt.show()"
   ]
  },
  {
   "cell_type": "markdown",
   "metadata": {},
   "source": [
    "4.3 读取股票601857数据，计算股票回报率，判断样本在2017-01-01,到2017-12-31，有没有服从正态分布，并判断样本均值是否为0"
   ]
  },
  {
   "cell_type": "code",
   "execution_count": 5,
   "metadata": {},
   "outputs": [
    {
     "name": "stdout",
     "output_type": "stream",
     "text": [
      "判断样本分布不服从正态分布\n"
     ]
    },
    {
     "name": "stderr",
     "output_type": "stream",
     "text": [
      "/anaconda3/lib/python3.6/site-packages/pandas/io/excel.py:329: FutureWarning: The `sheetname` keyword is deprecated, use `sheet_name` instead\n",
      "  **kwds)\n"
     ]
    }
   ],
   "source": [
    "from statsmodels.stats.stattools import jarque_bera\n",
    "stock3 = pd.read_excel('sz50.xlsx',sheetname='601857.XSHG', index_col='datetime')\n",
    "stock3['percentage']=stock3['close'].pct_change()\n",
    "returns = stock3['percentage'][1:]\n",
    "_, pvalue, _, _ = jarque_bera(returns)\n",
    "if pvalue > 0.05:\n",
    "    print ('判断样本分布服从正态分布')\n",
    "else:\n",
    "    print ('判断样本分布不服从正态分布')"
   ]
  },
  {
   "cell_type": "code",
   "execution_count": 6,
   "metadata": {},
   "outputs": [
    {
     "name": "stdout",
     "output_type": "stream",
     "text": [
      "判断样本均值为0\n"
     ]
    }
   ],
   "source": [
    "from scipy import stats\n",
    "t_test = stats.ttest_1samp(returns, 0)\n",
    "if t_test.pvalue > 0.05:\n",
    "    print ('判断样本均值为0')\n",
    "else:\n",
    "    print ('判断样本均值不为0')"
   ]
  },
  {
   "cell_type": "markdown",
   "metadata": {},
   "source": [
    "4.4 用Pandas的递归函数计算EMA与DEMA，对比talib的EMA与DEMA\n",
    "1. 根据以上的算法，利用Pandas的ewm方法计算601901.XSHG以10天为周期的EMA，再算出DEMA。\n",
    "2. 用talib计算601901.XSHG以10天为周期的EMA，再算出DEMA。\n",
    "3. 打印两个结果的最后5个数据"
   ]
  },
  {
   "cell_type": "code",
   "execution_count": 7,
   "metadata": {},
   "outputs": [
    {
     "name": "stdout",
     "output_type": "stream",
     "text": [
      "datetime\n",
      "2017-11-14 15:00:00    8.602581\n",
      "2017-11-15 15:00:00    8.572151\n",
      "2017-11-16 15:00:00    8.479642\n",
      "2017-11-17 15:00:00    8.354917\n",
      "2017-11-20 15:00:00    8.299691\n",
      "Name: close, dtype: float64\n"
     ]
    }
   ],
   "source": [
    "stock4 = pd.read_excel('sz50.xlsx',sheetname='601901.XSHG', index_col='datetime')\n",
    "ema=stock4.ewm(span=10).mean()\n",
    "dema=2*ema-ema.ewm(span=10).mean()\n",
    "print(dema['close'][-5:])"
   ]
  },
  {
   "cell_type": "code",
   "execution_count": 8,
   "metadata": {},
   "outputs": [
    {
     "name": "stdout",
     "output_type": "stream",
     "text": [
      "datetime\n",
      "2017-11-14 15:00:00    8.602581\n",
      "2017-11-15 15:00:00    8.572151\n",
      "2017-11-16 15:00:00    8.479642\n",
      "2017-11-17 15:00:00    8.354917\n",
      "2017-11-20 15:00:00    8.299691\n",
      "Name: dema, dtype: float64\n"
     ]
    }
   ],
   "source": [
    "import talib as ta\n",
    "ema = pd.DataFrame({'ema':ta.EMA(stock4.close.values,10)},index=stock4.index)\n",
    "dema = pd.DataFrame({'dema':ta.DEMA(stock4.close.values,10)},index=stock4.index)\n",
    "print(dema['dema'][-5:])"
   ]
  },
  {
   "cell_type": "markdown",
   "metadata": {},
   "source": [
    "# 5.分析工具"
   ]
  },
  {
   "cell_type": "markdown",
   "metadata": {},
   "source": [
    "数据时间：  'start_date': 20140101, 'end_date': 20180101, '"
   ]
  },
  {
   "cell_type": "markdown",
   "metadata": {},
   "source": [
    "5.1 用alphalens分析沪深300成分股里float_mv因子在5日、30日、60日持有期下的因子表现。 （要求：按上证交易所上市、深证交易所上市分组，绘制ic柱状图比较不同组在不同持有期下的ic差异）-最后结果输出类似下面的表和图。"
   ]
  },
  {
   "cell_type": "code",
   "execution_count": 9,
   "metadata": {},
   "outputs": [
    {
     "name": "stdout",
     "output_type": "stream",
     "text": [
      "Dataview loaded successfully.\n"
     ]
    }
   ],
   "source": [
    "from jaqs_fxdayu.data import DataView \n",
    "import os\n",
    "import warnings\n",
    "from datetime import datetime\n",
    "\n",
    "warnings.filterwarnings(\"ignore\")\n",
    "dataview_folder = '../Factor'\n",
    "def change_index(df):\n",
    "    df.index = pd.Index(map(lambda x: datetime.strptime(str(x),\"%Y%m%d\") , df.index)) \n",
    "    return df\n",
    "dv = DataView()\n",
    "dv.load_dataview(dataview_folder)\n",
    "prices = dv.get_ts(\"close_adj\") \n",
    "prices = change_index(prices)\n",
    "factor = dv.get_ts(\"float_mv\")\n",
    "factor = change_index(factor)\n",
    "factor = factor.stack()"
   ]
  },
  {
   "cell_type": "code",
   "execution_count": 10,
   "metadata": {},
   "outputs": [
    {
     "name": "stdout",
     "output_type": "stream",
     "text": [
      "             5         30        60\n",
      "group                              \n",
      "SH    -0.019890 -0.011939  0.004947\n",
      "SZ    -0.031756 -0.049609 -0.058176\n",
      "nan         NaN       NaN       NaN\n"
     ]
    }
   ],
   "source": [
    "sectors = dv.get_ts(\"sw1\")\n",
    "sectors = change_index(sectors)\n",
    "import re\n",
    "import alphalens\n",
    "for eachcol in sectors.columns:\n",
    "    try:\n",
    "        sectors[eachcol] = re.split(\"\\.\",eachcol)[1]\n",
    "    except:\n",
    "        pass\n",
    "factor_data = alphalens.utils.get_clean_factor_and_forward_returns(factor,\n",
    "                                                                   prices,\n",
    "                                                                   groupby=sectors.stack(),\n",
    "                                                                   quantiles=5,\n",
    "                                                                   periods=(5, 30, 60))\n",
    "ic_by_sector = alphalens.performance.mean_information_coefficient(factor_data, by_group=True)\n",
    "print(ic_by_sector)"
   ]
  },
  {
   "cell_type": "code",
   "execution_count": 11,
   "metadata": {},
   "outputs": [
    {
     "data": {
      "image/png": "[encoded data removed]",
      "text/plain": [
       "<Figure size 1296x432 with 1 Axes>"
      ]
     },
     "metadata": {
      "needs_background": "light"
     },
     "output_type": "display_data"
    }
   ],
   "source": [
    "from matplotlib import pyplot as plt\n",
    "\n",
    "alphalens.plotting.plot_ic_by_group(ic_by_sector)\n",
    "plt.show()"
   ]
  },
  {
   "cell_type": "markdown",
   "metadata": {},
   "source": [
    "5.2（大致输出结果有下图）\n",
    "\n",
    "5.2.1可视化比较CCI、Divert（习题定义）、pb的10日变化率、vwap_adj的10日变化率 这4个因子在5日、30日、60日持有期下的平均IC和IC_IR\n",
    "\n",
    "5.2.2挑选上题中5日IC_IR最大的3个因子进行因子组合（注意需对因子进行去极值和z-score标准化处理，最终的组合因子也需要进行z-score标准化处理），并用柱状图比较各组合方法生成的因子与原因子在5日持有期下的IC和IC_IR；调用指标分析和可视化分析的方法，查看ic_weight方法合成的因子绩效，保存该合成方法下绩效最好quantile的选股结果"
   ]
  },
  {
   "cell_type": "code",
   "execution_count": 12,
   "metadata": {},
   "outputs": [
    {
     "name": "stdout",
     "output_type": "stream",
     "text": [
      "Nan Data Count (should be zero) : 0;  Percentage of effective data: 58%\n",
      "Nan Data Count (should be zero) : 0;  Percentage of effective data: 57%\n",
      "Nan Data Count (should be zero) : 0;  Percentage of effective data: 58%\n",
      "Nan Data Count (should be zero) : 0;  Percentage of effective data: 57%\n",
      "Nan Data Count (should be zero) : 0;  Percentage of effective data: 58%\n",
      "Nan Data Count (should be zero) : 0;  Percentage of effective data: 57%\n",
      "Nan Data Count (should be zero) : 0;  Percentage of effective data: 58%\n",
      "Nan Data Count (should be zero) : 0;  Percentage of effective data: 57%\n",
      "Nan Data Count (should be zero) : 0;  Percentage of effective data: 58%\n",
      "Nan Data Count (should be zero) : 0;  Percentage of effective data: 57%\n",
      "Nan Data Count (should be zero) : 0;  Percentage of effective data: 58%\n",
      "Nan Data Count (should be zero) : 0;  Percentage of effective data: 57%\n"
     ]
    },
    {
     "data": {
      "text/plain": [
       "<matplotlib.axes._subplots.AxesSubplot at 0x1a1ac71710>"
      ]
     },
     "execution_count": 12,
     "metadata": {},
     "output_type": "execute_result"
    },
    {
     "data": {
      "image/png": "[encoded data removed]",
      "text/plain": [
       "<Figure size 1080x360 with 1 Axes>"
      ]
     },
     "metadata": {
      "needs_background": "light"
     },
     "output_type": "display_data"
    }
   ],
   "source": [
    "dv.add_formula(\"Divert\", \"Correlation(close_adj,volume,20)\", is_quarterly=False,add_data=True)\n",
    "from jaqs_fxdayu.research.signaldigger import process\n",
    "High = dv.get_ts(\"high_adj\")\n",
    "Low = dv.get_ts(\"low_adj\")\n",
    "Close = dv.get_ts(\"close_adj\")\n",
    "trade_status = dv.get_ts('trade_status')\n",
    "mask_sus = trade_status == 0\n",
    "high_masked = process._mask_df(High,mask=mask_sus)\n",
    "low_masked = process._mask_df(Low,mask=mask_sus)\n",
    "close_masked = process._mask_df(Close,mask=mask_sus)\n",
    "from jaqs_fxdayu.data import signal_function_mod as sfm\n",
    "CCI = sfm.ta(ta_method='CCI',\n",
    "             ta_column=0, \n",
    "             High=high_masked, \n",
    "             Low=low_masked, \n",
    "             Close=close_masked,\n",
    "             Volume=None,\n",
    "             timeperiod=10)\n",
    "dv.append_df(CCI,'CCI')\n",
    "dv.add_formula(\"pb_change\", \"Return(pb, 10)\", is_quarterly=False,add_data=True)\n",
    "dv.add_formula(\"vwap_change\", \"Return(vwap_adj, 10)\", is_quarterly=False,add_data=True)\n",
    "import numpy as np\n",
    "\n",
    "def mask_index_member():\n",
    "    df_index_member = dv.get_ts('index_member')\n",
    "    mask_index_member = ~(df_index_member >0) \n",
    "    return mask_index_member\n",
    "\n",
    "def limit_up_down():\n",
    "    \n",
    "    trade_status = dv.get_ts('trade_status')\n",
    "    mask_sus = trade_status == 0\n",
    "    \n",
    "    dv.add_formula('up_limit', '(close - Delay(close, 1)) / Delay(close, 1) > 0.095', is_quarterly=False, add_data=True)\n",
    "    \n",
    "    dv.add_formula('down_limit', '(close - Delay(close, 1)) / Delay(close, 1) < -0.095', is_quarterly=False, add_data=True)\n",
    "    can_enter = np.logical_and(dv.get_ts('up_limit') < 1, ~mask_sus) \n",
    "    can_exit = np.logical_and(dv.get_ts('down_limit') < 1, ~mask_sus) \n",
    "    return can_enter,can_exit\n",
    "\n",
    "mask = mask_index_member()\n",
    "can_enter,can_exit = limit_up_down()\n",
    "from jaqs_fxdayu.research.signaldigger import multi_factor\n",
    "\n",
    "ic = dict()\n",
    "factors_dict = {signal:dv.get_ts(signal) for signal in [\"Divert\",\"CCI\",\"pb_change\",\"vwap_change\"]}\n",
    "for period in [5, 30, 60]:\n",
    "    ic[period]=multi_factor.get_factors_ic_df(factors_dict,\n",
    "                                              price=dv.get_ts(\"close_adj\"),\n",
    "                                              high=dv.get_ts(\"high_adj\"), \n",
    "                                              low=dv.get_ts(\"low_adj\"),\n",
    "                                              n_quantiles=5,\n",
    "                                              mask=mask,\n",
    "                                              can_enter=can_enter,\n",
    "                                              can_exit=can_exit,\n",
    "                                              period=period,\n",
    "                                              benchmark_price=dv.data_benchmark, \n",
    "                                              commission = 0.0008,\n",
    "                                              )\n",
    "ic_mean_table = pd.DataFrame(data=np.nan,columns=[5,30,60],index=[\"Divert\",\"CCI\",\"pb_change\",\"vwap_change\"])\n",
    "ic_std_table = pd.DataFrame(data=np.nan,columns=[5,30,60],index=[\"Divert\",\"CCI\",\"pb_change\",\"vwap_change\"])\n",
    "ir_table = pd.DataFrame(data=np.nan,columns=[5,30,60],index=[\"Divert\",\"CCI\",\"pb_change\",\"vwap_change\"])\n",
    "for signal in [\"Divert\",\"CCI\",\"pb_change\",\"vwap_change\"]:\n",
    "    for period in [5,30,60]:\n",
    "        ic_mean_table.loc[signal,period]=ic[period][signal].mean()\n",
    "        ic_std_table.loc[signal,period]=ic[period][signal].std()\n",
    "        ir_table.loc[signal,period]=ic[period][signal].mean()/ic[period][signal].std()\n",
    "%matplotlib inline\n",
    "ic_mean_table.plot(kind=\"barh\",xerr=ic_std_table,figsize=(15,5))"
   ]
  },
  {
   "cell_type": "code",
   "execution_count": 13,
   "metadata": {},
   "outputs": [
    {
     "data": {
      "text/plain": [
       "<matplotlib.axes._subplots.AxesSubplot at 0x1a17a70320>"
      ]
     },
     "execution_count": 13,
     "metadata": {},
     "output_type": "execute_result"
    },
    {
     "data": {
      "image/png": "[encoded data removed]",
      "text/plain": [
       "<Figure size 1080x360 with 1 Axes>"
      ]
     },
     "metadata": {
      "needs_background": "light"
     },
     "output_type": "display_data"
    }
   ],
   "source": [
    "%matplotlib inline\n",
    "ir_table.plot(kind=\"barh\",figsize=(15,5))"
   ]
  },
  {
   "cell_type": "markdown",
   "metadata": {},
   "source": [
    "### 比较组合前和组合后的因子在5日持有期下的表现（统一到2014年9月后进行比较）"
   ]
  },
  {
   "cell_type": "code",
   "execution_count": 14,
   "metadata": {},
   "outputs": [
    {
     "name": "stdout",
     "output_type": "stream",
     "text": [
      "Nan Data Count (should be zero) : 0;  Percentage of effective data: 58%\n",
      "Nan Data Count (should be zero) : 0;  Percentage of effective data: 57%\n",
      "Nan Data Count (should be zero) : 0;  Percentage of effective data: 58%\n"
     ]
    },
    {
     "ename": "AttributeError",
     "evalue": "'Series' object has no attribute 'reshape'",
     "output_type": "error",
     "traceback": [
      "\u001b[0;31m---------------------------------------------------------------------------\u001b[0m",
      "\u001b[0;31mAttributeError\u001b[0m                            Traceback (most recent call last)",
      "\u001b[0;32m<ipython-input-14-06dac665f0f1>\u001b[0m in \u001b[0;36m<module>\u001b[0;34m\u001b[0m\n\u001b[1;32m     28\u001b[0m                                                         \u001b[0mwinsorization\u001b[0m\u001b[0;34m=\u001b[0m\u001b[0;32mFalse\u001b[0m\u001b[0;34m,\u001b[0m\u001b[0;34m\u001b[0m\u001b[0m\n\u001b[1;32m     29\u001b[0m                                                         \u001b[0mweighted_method\u001b[0m\u001b[0;34m=\u001b[0m\u001b[0mmethod\u001b[0m\u001b[0;34m,\u001b[0m\u001b[0;34m\u001b[0m\u001b[0m\n\u001b[0;32m---> 30\u001b[0;31m                                                         props=props)\n\u001b[0m\u001b[1;32m     31\u001b[0m \u001b[0mperiod\u001b[0m \u001b[0;34m=\u001b[0m \u001b[0;36m5\u001b[0m\u001b[0;34m\u001b[0m\u001b[0m\n\u001b[1;32m     32\u001b[0m ic_5  =   multi_factor.get_factors_ic_df(comb_factors,\n",
      "\u001b[0;32m/anaconda3/lib/python3.6/site-packages/jaqs_fxdayu/research/signaldigger/multi_factor.py\u001b[0m in \u001b[0;36mcombine_factors\u001b[0;34m(factors_dict, standardize_type, winsorization, index_member, weighted_method, props)\u001b[0m\n\u001b[1;32m    601\u001b[0m \u001b[0;34m\u001b[0m\u001b[0m\n\u001b[1;32m    602\u001b[0m     \u001b[0;32mif\u001b[0m \u001b[0mweighted_method\u001b[0m \u001b[0;32min\u001b[0m \u001b[0;34m[\u001b[0m\u001b[0;34m\"max_IR\"\u001b[0m\u001b[0;34m,\u001b[0m \u001b[0;34m\"max_IC\"\u001b[0m\u001b[0;34m,\u001b[0m \u001b[0;34m\"ic_weight\"\u001b[0m\u001b[0;34m,\u001b[0m \u001b[0;34m\"ir_weight\"\u001b[0m\u001b[0;34m,\u001b[0m \u001b[0;34m\"factors_ret_weight\"\u001b[0m\u001b[0;34m]\u001b[0m\u001b[0;34m:\u001b[0m\u001b[0;34m\u001b[0m\u001b[0m\n\u001b[0;32m--> 603\u001b[0;31m         \u001b[0mweight\u001b[0m \u001b[0;34m=\u001b[0m \u001b[0m_cal_weight\u001b[0m\u001b[0;34m(\u001b[0m\u001b[0mweighted_method\u001b[0m\u001b[0;34m)\u001b[0m\u001b[0;34m\u001b[0m\u001b[0m\n\u001b[0m\u001b[1;32m    604\u001b[0m         \u001b[0mweighted_factors\u001b[0m \u001b[0;34m=\u001b[0m \u001b[0;34m{\u001b[0m\u001b[0;34m}\u001b[0m\u001b[0;34m\u001b[0m\u001b[0m\n\u001b[1;32m    605\u001b[0m         \u001b[0mfactor_name_list\u001b[0m \u001b[0;34m=\u001b[0m \u001b[0mfactors_dict\u001b[0m\u001b[0;34m.\u001b[0m\u001b[0mkeys\u001b[0m\u001b[0;34m(\u001b[0m\u001b[0;34m)\u001b[0m\u001b[0;34m\u001b[0m\u001b[0m\n",
      "\u001b[0;32m/anaconda3/lib/python3.6/site-packages/jaqs_fxdayu/research/signaldigger/multi_factor.py\u001b[0m in \u001b[0;36m_cal_weight\u001b[0;34m(weighted_method)\u001b[0m\n\u001b[1;32m    578\u001b[0m                 return ic_weight(ic_df,\n\u001b[1;32m    579\u001b[0m                                  \u001b[0m_props\u001b[0m\u001b[0;34m[\u001b[0m\u001b[0;34m'period'\u001b[0m\u001b[0;34m]\u001b[0m\u001b[0;34m,\u001b[0m\u001b[0;34m\u001b[0m\u001b[0m\n\u001b[0;32m--> 580\u001b[0;31m                                  _props[\"rollback_period\"])\n\u001b[0m\u001b[1;32m    581\u001b[0m             \u001b[0;32melif\u001b[0m \u001b[0mweighted_method\u001b[0m \u001b[0;34m==\u001b[0m \u001b[0;34m\"ir_weight\"\u001b[0m\u001b[0;34m:\u001b[0m\u001b[0;34m\u001b[0m\u001b[0m\n\u001b[1;32m    582\u001b[0m                 return ir_weight(ic_df,\n",
      "\u001b[0;32m/anaconda3/lib/python3.6/site-packages/jaqs_fxdayu/research/signaldigger/multi_factor.py\u001b[0m in \u001b[0;36mic_weight\u001b[0;34m(ic_df, holding_period, rollback_period)\u001b[0m\n\u001b[1;32m    396\u001b[0m             \u001b[0;32mcontinue\u001b[0m\u001b[0;34m\u001b[0m\u001b[0m\n\u001b[1;32m    397\u001b[0m         \u001b[0mweight\u001b[0m \u001b[0;34m=\u001b[0m \u001b[0mic_dt\u001b[0m\u001b[0;34m.\u001b[0m\u001b[0mmean\u001b[0m\u001b[0;34m(\u001b[0m\u001b[0maxis\u001b[0m\u001b[0;34m=\u001b[0m\u001b[0;36m0\u001b[0m\u001b[0;34m)\u001b[0m\u001b[0;34m\u001b[0m\u001b[0m\n\u001b[0;32m--> 398\u001b[0;31m         \u001b[0mweight\u001b[0m \u001b[0;34m=\u001b[0m \u001b[0mnp\u001b[0m\u001b[0;34m.\u001b[0m\u001b[0marray\u001b[0m\u001b[0;34m(\u001b[0m\u001b[0mweight\u001b[0m\u001b[0;34m.\u001b[0m\u001b[0mreshape\u001b[0m\u001b[0;34m(\u001b[0m\u001b[0mlen\u001b[0m\u001b[0;34m(\u001b[0m\u001b[0mweight\u001b[0m\u001b[0;34m)\u001b[0m\u001b[0;34m,\u001b[0m \u001b[0;34m)\u001b[0m\u001b[0;34m)\u001b[0m\u001b[0;34m\u001b[0m\u001b[0m\n\u001b[0m\u001b[1;32m    399\u001b[0m         \u001b[0mweight_df\u001b[0m\u001b[0;34m.\u001b[0m\u001b[0mix\u001b[0m\u001b[0;34m[\u001b[0m\u001b[0mdt\u001b[0m\u001b[0;34m]\u001b[0m \u001b[0;34m=\u001b[0m \u001b[0mweight\u001b[0m \u001b[0;34m/\u001b[0m \u001b[0mnp\u001b[0m\u001b[0;34m.\u001b[0m\u001b[0msum\u001b[0m\u001b[0;34m(\u001b[0m\u001b[0mnp\u001b[0m\u001b[0;34m.\u001b[0m\u001b[0mabs\u001b[0m\u001b[0;34m(\u001b[0m\u001b[0mweight\u001b[0m\u001b[0;34m)\u001b[0m\u001b[0;34m)\u001b[0m\u001b[0;34m\u001b[0m\u001b[0m\n\u001b[1;32m    400\u001b[0m \u001b[0;34m\u001b[0m\u001b[0m\n",
      "\u001b[0;32m/anaconda3/lib/python3.6/site-packages/pandas/core/generic.py\u001b[0m in \u001b[0;36m__getattr__\u001b[0;34m(self, name)\u001b[0m\n\u001b[1;32m   4374\u001b[0m             \u001b[0;32mif\u001b[0m \u001b[0mself\u001b[0m\u001b[0;34m.\u001b[0m\u001b[0m_info_axis\u001b[0m\u001b[0;34m.\u001b[0m\u001b[0m_can_hold_identifiers_and_holds_name\u001b[0m\u001b[0;34m(\u001b[0m\u001b[0mname\u001b[0m\u001b[0;34m)\u001b[0m\u001b[0;34m:\u001b[0m\u001b[0;34m\u001b[0m\u001b[0m\n\u001b[1;32m   4375\u001b[0m                 \u001b[0;32mreturn\u001b[0m \u001b[0mself\u001b[0m\u001b[0;34m[\u001b[0m\u001b[0mname\u001b[0m\u001b[0;34m]\u001b[0m\u001b[0;34m\u001b[0m\u001b[0m\n\u001b[0;32m-> 4376\u001b[0;31m             \u001b[0;32mreturn\u001b[0m \u001b[0mobject\u001b[0m\u001b[0;34m.\u001b[0m\u001b[0m__getattribute__\u001b[0m\u001b[0;34m(\u001b[0m\u001b[0mself\u001b[0m\u001b[0;34m,\u001b[0m \u001b[0mname\u001b[0m\u001b[0;34m)\u001b[0m\u001b[0;34m\u001b[0m\u001b[0m\n\u001b[0m\u001b[1;32m   4377\u001b[0m \u001b[0;34m\u001b[0m\u001b[0m\n\u001b[1;32m   4378\u001b[0m     \u001b[0;32mdef\u001b[0m \u001b[0m__setattr__\u001b[0m\u001b[0;34m(\u001b[0m\u001b[0mself\u001b[0m\u001b[0;34m,\u001b[0m \u001b[0mname\u001b[0m\u001b[0;34m,\u001b[0m \u001b[0mvalue\u001b[0m\u001b[0;34m)\u001b[0m\u001b[0;34m:\u001b[0m\u001b[0;34m\u001b[0m\u001b[0m\n",
      "\u001b[0;31mAttributeError\u001b[0m: 'Series' object has no attribute 'reshape'"
     ]
    }
   ],
   "source": [
    "from jaqs_fxdayu.research.signaldigger import process\n",
    "\n",
    "factor_dict = dict()\n",
    "index_member = dv.get_ts(\"index_member\")\n",
    "for name in [\"Divert\",\"CCI\",\"pb_change\"]:\n",
    "    signal = -1*dv.get_ts(name) \n",
    "    process.winsorize(factor_df=signal,alpha=0.05,index_member=index_member)\n",
    "    signal = process.standardize(signal,index_member)\n",
    "    factor_dict[name] = signal\n",
    "props = {\n",
    "    'price':dv.get_ts(\"close_adj\"),\n",
    "    'high':dv.get_ts(\"high_adj\"), \n",
    "    'low':dv.get_ts(\"low_adj\"),\n",
    "    'ret_type': 'return',\n",
    "    'benchmark_price': dv.data_benchmark,  \n",
    "    'period': 5, \n",
    "    'mask': mask,\n",
    "    'can_enter': can_enter,\n",
    "    'can_exit': can_exit,\n",
    "    'forward': True,\n",
    "    'commission': 0.0008,\n",
    "    \"covariance_type\": \"shrink\",  \n",
    "    \"rollback_period\": 120} \n",
    "comb_factors = dict()\n",
    "for method in [\"equal_weight\",\"ic_weight\",\"ir_weight\",\"max_IR\",\"max_IC\"]:\n",
    "    comb_factors[method] = multi_factor.combine_factors(factor_dict,\n",
    "                                                        standardize_type=\"z_score\",\n",
    "                                                        winsorization=False,\n",
    "                                                        weighted_method=method,\n",
    "                                                        props=props)\n",
    "period = 5\n",
    "ic_5  =   multi_factor.get_factors_ic_df(comb_factors,\n",
    "                                          price=dv.get_ts(\"close_adj\"),\n",
    "                                          high=dv.get_ts(\"high_adj\"), \n",
    "                                          low=dv.get_ts(\"low_adj\"),\n",
    "                                          n_quantiles=5,\n",
    "                                          mask=mask,\n",
    "                                          can_enter=can_enter,\n",
    "                                          can_exit=can_exit,\n",
    "                                          period=period,\n",
    "                                          benchmark_price=dv.data_benchmark,\n",
    "                                          commission = 0.0008,\n",
    "                                          )\n",
    "ic_5 = pd.concat([ic_5,-1*ic[5].drop(\"vwap_change\",axis=1)],axis=1)\n",
    "ic_5_mean = dict()\n",
    "ic_5_std = dict()\n",
    "ir_5 = dict()\n",
    "for name in ic_5.columns:    \n",
    "    ic_5_mean[name]=ic_5[name].loc[20140901:].mean()\n",
    "    ic_5_std[name]=ic_5[name].loc[20140901:].std()\n",
    "    ir_5[name] = ic_5_mean[name]/ic_5_std[name]\n",
    "import datetime\n",
    "\n",
    "trade_date = pd.Series(ic_5.index)\n",
    "trade_date = trade_date.apply(lambda x: datetime.datetime.strptime(str(x), '%Y%m%d'))\n",
    "ic_5.index = trade_date\n"
   ]
  },
  {
   "cell_type": "code",
   "execution_count": null,
   "metadata": {},
   "outputs": [],
   "source": [
    "pd.Series(ic_5_mean).plot(kind=\"barh\",xerr=pd.Series(ic_5_std),figsize=(15,5))"
   ]
  },
  {
   "cell_type": "code",
   "execution_count": null,
   "metadata": {},
   "outputs": [],
   "source": [
    "print(ic_5_mean[\"CCI\"])\n",
    "print(ic_5_mean[\"pb_change\"])\n",
    "print(ic_5_mean[\"Divert\"])"
   ]
  },
  {
   "cell_type": "code",
   "execution_count": null,
   "metadata": {},
   "outputs": [],
   "source": [
    "pd.Series(ir_5).plot(kind=\"barh\",figsize=(15,5))"
   ]
  },
  {
   "cell_type": "code",
   "execution_count": null,
   "metadata": {},
   "outputs": [],
   "source": [
    "print(ir_5[\"CCI\"])\n",
    "print(ir_5[\"pb_change\"])\n",
    "print(ir_5[\"Divert\"])"
   ]
  },
  {
   "cell_type": "code",
   "execution_count": null,
   "metadata": {},
   "outputs": [],
   "source": [
    "ic_5[[\"equal_weight\",\"ic_weight\",\"ir_weight\"]].plot(kind=\"line\",figsize=(15,5),)"
   ]
  },
  {
   "cell_type": "code",
   "execution_count": null,
   "metadata": {},
   "outputs": [],
   "source": [
    "ic_5.loc[datetime.date(2017,1,3):,][[\"equal_weight\",\"ic_weight\",\"ir_weight\"]].plot(kind=\"line\",figsize=(15,5),)"
   ]
  },
  {
   "cell_type": "code",
   "execution_count": null,
   "metadata": {},
   "outputs": [],
   "source": [
    "import matplotlib.pyplot as plt\n",
    "from jaqs_fxdayu.research.signaldigger.analysis import analysis\n",
    "from jaqs_fxdayu.research import SignalDigger\n",
    "\n",
    "obj = SignalDigger()\n",
    "obj.process_signal_before_analysis(signal=comb_factors[\"ic_weight\"],\n",
    "                                   price=dv.get_ts(\"close_adj\"),\n",
    "                                   high=dv.get_ts(\"high_adj\"),\n",
    "                                   low=dv.get_ts(\"low_adj\"),\n",
    "                                   n_quantiles=5,\n",
    "                                   mask=mask,\n",
    "                                   can_enter=can_enter,\n",
    "                                   can_exit=can_exit,\n",
    "                                   period=5,\n",
    "                                   benchmark_price=dv.data_benchmark, \n",
    "                                   commission = 0.0008,\n",
    "                                   )\n",
    "obj.create_full_report()\n",
    "plt.show()"
   ]
  },
  {
   "cell_type": "code",
   "execution_count": null,
   "metadata": {},
   "outputs": [],
   "source": [
    "excel_data = obj.signal_data[obj.signal_data['quantile']==3][\"quantile\"].unstack().replace(np.nan, 0).replace(5, 1)\n",
    "excel_data.to_excel('equal3.xlsx')"
   ]
  },
  {
   "cell_type": "markdown",
   "metadata": {},
   "source": [
    "\n",
    "5.3. 优化动量因子momentum：vwap_adj的n日变化率中的参数n（2<=n<=10）。优化目标是10日持有期的IC的IR。（要求：进行样本内优化，优化所用数据时段20140101~20170101，查看样本外20170101~表现，大致输出以下结果）"
   ]
  },
  {
   "cell_type": "code",
   "execution_count": null,
   "metadata": {},
   "outputs": [],
   "source": [
    "from jaqs_fxdayu.data import DataView \n",
    "import warnings\n",
    "\n",
    "warnings.filterwarnings(\"ignore\")\n",
    "dataview_folder = '../Factor'\n",
    "dv = DataView()\n",
    "dv.load_dataview(dataview_folder)"
   ]
  },
  {
   "cell_type": "code",
   "execution_count": null,
   "metadata": {},
   "outputs": [],
   "source": [
    "import numpy as np\n",
    "\n",
    "def mask_index_member():\n",
    "    df_index_member = dv.get_ts('index_member')\n",
    "    mask_index_member = ~(df_index_member >0) \n",
    "    return mask_index_member\n",
    "\n",
    "def limit_up_down():\n",
    "    \n",
    "    trade_status = dv.get_ts('trade_status')\n",
    "    mask_sus = trade_status == 0\n",
    "    \n",
    "    dv.add_formula('up_limit', '(close - Delay(close, 1)) / Delay(close, 1) > 0.095', is_quarterly=False, add_data=True)\n",
    "    \n",
    "    dv.add_formula('down_limit', '(close - Delay(close, 1)) / Delay(close, 1) < -0.095', is_quarterly=False, add_data=True)\n",
    "    can_enter = np.logical_and(dv.get_ts('up_limit') < 1, ~mask_sus) \n",
    "    can_exit = np.logical_and(dv.get_ts('down_limit') < 1, ~mask_sus) \n",
    "    return can_enter,can_exit"
   ]
  },
  {
   "cell_type": "code",
   "execution_count": null,
   "metadata": {},
   "outputs": [],
   "source": [
    "mask = mask_index_member()\n",
    "can_enter,can_exit = limit_up_down()"
   ]
  },
  {
   "cell_type": "code",
   "execution_count": null,
   "metadata": {},
   "outputs": [],
   "source": [
    "from jaqs_fxdayu.research import Optimizer\n",
    "price = dv.get_ts('close_adj')\n",
    "high = dv.get_ts('high_adj')\n",
    "low = dv.get_ts('low_adj')\n",
    "price_bench = dv.data_benchmark\n",
    "optimizer = Optimizer(dataview=dv,\n",
    "                      formula='-Return(vwap_adj,LEN)',\n",
    "                      params={\"LEN\":range(2,11,1)},\n",
    "                      name='momentum',\n",
    "                      price=price,\n",
    "                      high=high,\n",
    "                      low=low,\n",
    "                      benchmark_price=None,\n",
    "                      period=10,\n",
    "                      n_quantiles=5,\n",
    "                      mask=mask,\n",
    "                      can_enter=can_enter,\n",
    "                      can_exit=can_exit,\n",
    "                      commission=0.0008,\n",
    "                      is_event=False,\n",
    "                      is_quarterly=False)"
   ]
  },
  {
   "cell_type": "code",
   "execution_count": null,
   "metadata": {},
   "outputs": [],
   "source": [
    "ret_best = optimizer.enumerate_optimizer(target_type=\"return_ic\",\n",
    "                                         target=\"Ann. IR\",   \n",
    "                                         in_sample_range=[20140101,20170101],\n",
    "                                         ascending=False)"
   ]
  },
  {
   "cell_type": "code",
   "execution_count": null,
   "metadata": {},
   "outputs": [],
   "source": [
    "print(ret_best[0][\"signal_name\"])\n",
    "print(ret_best[0][\"ic\"])\n",
    "print(ret_best[0][\"ret\"])\n",
    "print(ret_best[0][\"space\"])"
   ]
  },
  {
   "cell_type": "markdown",
   "metadata": {},
   "source": [
    "样本外可视化"
   ]
  },
  {
   "cell_type": "code",
   "execution_count": null,
   "metadata": {},
   "outputs": [],
   "source": [
    "from jaqs_fxdayu.research import SignalDigger\n",
    "from jaqs_fxdayu.research.signaldigger.analysis import analysis\n",
    "\n",
    "import matplotlib.pyplot as plt\n",
    "obj = SignalDigger()\n",
    "\n",
    "def draw_analysis(signal_data,period):  \n",
    "    obj.signal_data = signal_data\n",
    "    obj.period = period\n",
    "    obj.create_full_report()\n",
    "    plt.show()\n",
    "draw_analysis(optimizer.all_signals[ret_best[0][\"signal_name\"]].loc[20170101:], period=10)"
   ]
  }
 ],
 "metadata": {
  "kernelspec": {
   "display_name": "Python 3",
   "language": "python",
   "name": "python3"
  },
  "language_info": {
   "codemirror_mode": {
    "name": "ipython",
    "version": 3
   },
   "file_extension": ".py",
   "mimetype": "text/x-python",
   "name": "python",
   "nbconvert_exporter": "python",
   "pygments_lexer": "ipython3",
   "version": "3.6.6"
  }
 },
 "nbformat": 4,
 "nbformat_minor": 2
}
